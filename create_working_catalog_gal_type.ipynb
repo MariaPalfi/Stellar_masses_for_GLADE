{
 "cells": [
  {
   "cell_type": "markdown",
   "metadata": {},
   "source": [
    "In this notebook I create a small catalog from the GLADE to the stellar mass estimation.\n",
    "\n",
    "The code was written by Mária Pálfi (marika97@caesar.elte.hu)."
   ]
  },
  {
   "cell_type": "code",
   "execution_count": 1,
   "metadata": {},
   "outputs": [],
   "source": [
    "# importing useful packages\n",
    "import pandas as pd\n",
    "import numpy as np\n",
    "from tqdm import tqdm"
   ]
  },
  {
   "cell_type": "markdown",
   "metadata": {},
   "source": [
    "## Reading the GLADE catalog\n",
    "\n",
    "Here I used the redshift in the heliocentric frame."
   ]
  },
  {
   "cell_type": "code",
   "execution_count": 3,
   "metadata": {
    "scrolled": true
   },
   "outputs": [
    {
     "name": "stdout",
     "output_type": "stream",
     "text": [
      "dataframe with the necessary columns:\n",
      "\n"
     ]
    },
    {
     "data": {
      "text/html": [
       "<div>\n",
       "<style scoped>\n",
       "    .dataframe tbody tr th:only-of-type {\n",
       "        vertical-align: middle;\n",
       "    }\n",
       "\n",
       "    .dataframe tbody tr th {\n",
       "        vertical-align: top;\n",
       "    }\n",
       "\n",
       "    .dataframe thead th {\n",
       "        text-align: right;\n",
       "    }\n",
       "</style>\n",
       "<table border=\"1\" class=\"dataframe\">\n",
       "  <thead>\n",
       "    <tr style=\"text-align: right;\">\n",
       "      <th></th>\n",
       "      <th>GWGC</th>\n",
       "      <th>Hyp</th>\n",
       "      <th>2MASS</th>\n",
       "      <th>wiseX</th>\n",
       "      <th>type</th>\n",
       "      <th>ra</th>\n",
       "      <th>dec</th>\n",
       "      <th>W1</th>\n",
       "      <th>W1_err</th>\n",
       "      <th>z</th>\n",
       "      <th>flag</th>\n",
       "      <th>z_err</th>\n",
       "      <th>lumdis</th>\n",
       "    </tr>\n",
       "  </thead>\n",
       "  <tbody>\n",
       "    <tr>\n",
       "      <th>0</th>\n",
       "      <td>NGC4736</td>\n",
       "      <td>NGC4736</td>\n",
       "      <td>12505314+4107125</td>\n",
       "      <td>J125053.14+410712.7</td>\n",
       "      <td>G</td>\n",
       "      <td>192.721451</td>\n",
       "      <td>41.120152</td>\n",
       "      <td>5.611000</td>\n",
       "      <td>NaN</td>\n",
       "      <td>0.000991</td>\n",
       "      <td>0.0</td>\n",
       "      <td>0.000029</td>\n",
       "      <td>4.392418</td>\n",
       "    </tr>\n",
       "    <tr>\n",
       "      <th>1</th>\n",
       "      <td>NGC4548</td>\n",
       "      <td>NGC4548</td>\n",
       "      <td>12352642+1429467</td>\n",
       "      <td>J123526.45+142946.9</td>\n",
       "      <td>G</td>\n",
       "      <td>188.860123</td>\n",
       "      <td>14.496320</td>\n",
       "      <td>9.416000</td>\n",
       "      <td>NaN</td>\n",
       "      <td>0.004120</td>\n",
       "      <td>1.0</td>\n",
       "      <td>0.000119</td>\n",
       "      <td>15.876007</td>\n",
       "    </tr>\n",
       "    <tr>\n",
       "      <th>2</th>\n",
       "      <td>NGC6503</td>\n",
       "      <td>NGC6503</td>\n",
       "      <td>17492651+7008396</td>\n",
       "      <td>J174926.45+700840.8</td>\n",
       "      <td>G</td>\n",
       "      <td>267.360474</td>\n",
       "      <td>70.144341</td>\n",
       "      <td>10.180000</td>\n",
       "      <td>NaN</td>\n",
       "      <td>0.001000</td>\n",
       "      <td>1.0</td>\n",
       "      <td>0.000029</td>\n",
       "      <td>12.446600</td>\n",
       "    </tr>\n",
       "    <tr>\n",
       "      <th>3</th>\n",
       "      <td>NGC4442</td>\n",
       "      <td>NGC4442</td>\n",
       "      <td>12280389+0948130</td>\n",
       "      <td>J122803.90+094813.3</td>\n",
       "      <td>G</td>\n",
       "      <td>187.016220</td>\n",
       "      <td>9.803620</td>\n",
       "      <td>8.476000</td>\n",
       "      <td>NaN</td>\n",
       "      <td>0.003557</td>\n",
       "      <td>1.0</td>\n",
       "      <td>0.000103</td>\n",
       "      <td>11.461371</td>\n",
       "    </tr>\n",
       "    <tr>\n",
       "      <th>4</th>\n",
       "      <td>NGC4469</td>\n",
       "      <td>NGC4469</td>\n",
       "      <td>NaN</td>\n",
       "      <td>J122928.05+084500.8</td>\n",
       "      <td>G</td>\n",
       "      <td>187.367000</td>\n",
       "      <td>8.749890</td>\n",
       "      <td>9.784000</td>\n",
       "      <td>NaN</td>\n",
       "      <td>0.004139</td>\n",
       "      <td>1.0</td>\n",
       "      <td>0.000120</td>\n",
       "      <td>15.180920</td>\n",
       "    </tr>\n",
       "    <tr>\n",
       "      <th>...</th>\n",
       "      <td>...</td>\n",
       "      <td>...</td>\n",
       "      <td>...</td>\n",
       "      <td>...</td>\n",
       "      <td>...</td>\n",
       "      <td>...</td>\n",
       "      <td>...</td>\n",
       "      <td>...</td>\n",
       "      <td>...</td>\n",
       "      <td>...</td>\n",
       "      <td>...</td>\n",
       "      <td>...</td>\n",
       "      <td>...</td>\n",
       "    </tr>\n",
       "    <tr>\n",
       "      <th>23181753</th>\n",
       "      <td>NaN</td>\n",
       "      <td>NaN</td>\n",
       "      <td>NaN</td>\n",
       "      <td>NaN</td>\n",
       "      <td>Q</td>\n",
       "      <td>359.999118</td>\n",
       "      <td>28.954734</td>\n",
       "      <td>17.728901</td>\n",
       "      <td>NaN</td>\n",
       "      <td>2.452000</td>\n",
       "      <td>0.0</td>\n",
       "      <td>0.113916</td>\n",
       "      <td>20403.464630</td>\n",
       "    </tr>\n",
       "    <tr>\n",
       "      <th>23181754</th>\n",
       "      <td>NaN</td>\n",
       "      <td>NaN</td>\n",
       "      <td>NaN</td>\n",
       "      <td>NaN</td>\n",
       "      <td>Q</td>\n",
       "      <td>359.999303</td>\n",
       "      <td>34.720842</td>\n",
       "      <td>16.933657</td>\n",
       "      <td>NaN</td>\n",
       "      <td>3.109000</td>\n",
       "      <td>0.0</td>\n",
       "      <td>0.135597</td>\n",
       "      <td>27158.368406</td>\n",
       "    </tr>\n",
       "    <tr>\n",
       "      <th>23181755</th>\n",
       "      <td>NaN</td>\n",
       "      <td>NaN</td>\n",
       "      <td>NaN</td>\n",
       "      <td>NaN</td>\n",
       "      <td>Q</td>\n",
       "      <td>359.999615</td>\n",
       "      <td>3.268586</td>\n",
       "      <td>14.833991</td>\n",
       "      <td>NaN</td>\n",
       "      <td>1.232962</td>\n",
       "      <td>0.0</td>\n",
       "      <td>0.073688</td>\n",
       "      <td>8792.439985</td>\n",
       "    </tr>\n",
       "    <tr>\n",
       "      <th>23181756</th>\n",
       "      <td>NaN</td>\n",
       "      <td>NaN</td>\n",
       "      <td>NaN</td>\n",
       "      <td>NaN</td>\n",
       "      <td>Q</td>\n",
       "      <td>359.999759</td>\n",
       "      <td>20.721079</td>\n",
       "      <td>16.979166</td>\n",
       "      <td>NaN</td>\n",
       "      <td>2.009865</td>\n",
       "      <td>0.0</td>\n",
       "      <td>0.099325</td>\n",
       "      <td>16022.500633</td>\n",
       "    </tr>\n",
       "    <tr>\n",
       "      <th>23181757</th>\n",
       "      <td>NaN</td>\n",
       "      <td>NaN</td>\n",
       "      <td>NaN</td>\n",
       "      <td>NaN</td>\n",
       "      <td>Q</td>\n",
       "      <td>359.999954</td>\n",
       "      <td>34.747133</td>\n",
       "      <td>16.856348</td>\n",
       "      <td>NaN</td>\n",
       "      <td>2.375000</td>\n",
       "      <td>0.0</td>\n",
       "      <td>0.111375</td>\n",
       "      <td>19629.730536</td>\n",
       "    </tr>\n",
       "  </tbody>\n",
       "</table>\n",
       "<p>23181758 rows × 13 columns</p>\n",
       "</div>"
      ],
      "text/plain": [
       "             GWGC      Hyp             2MASS                wiseX type  \\\n",
       "0         NGC4736  NGC4736  12505314+4107125  J125053.14+410712.7    G   \n",
       "1         NGC4548  NGC4548  12352642+1429467  J123526.45+142946.9    G   \n",
       "2         NGC6503  NGC6503  17492651+7008396  J174926.45+700840.8    G   \n",
       "3         NGC4442  NGC4442  12280389+0948130  J122803.90+094813.3    G   \n",
       "4         NGC4469  NGC4469               NaN  J122928.05+084500.8    G   \n",
       "...           ...      ...               ...                  ...  ...   \n",
       "23181753      NaN      NaN               NaN                  NaN    Q   \n",
       "23181754      NaN      NaN               NaN                  NaN    Q   \n",
       "23181755      NaN      NaN               NaN                  NaN    Q   \n",
       "23181756      NaN      NaN               NaN                  NaN    Q   \n",
       "23181757      NaN      NaN               NaN                  NaN    Q   \n",
       "\n",
       "                  ra        dec         W1  W1_err         z  flag     z_err  \\\n",
       "0         192.721451  41.120152   5.611000     NaN  0.000991   0.0  0.000029   \n",
       "1         188.860123  14.496320   9.416000     NaN  0.004120   1.0  0.000119   \n",
       "2         267.360474  70.144341  10.180000     NaN  0.001000   1.0  0.000029   \n",
       "3         187.016220   9.803620   8.476000     NaN  0.003557   1.0  0.000103   \n",
       "4         187.367000   8.749890   9.784000     NaN  0.004139   1.0  0.000120   \n",
       "...              ...        ...        ...     ...       ...   ...       ...   \n",
       "23181753  359.999118  28.954734  17.728901     NaN  2.452000   0.0  0.113916   \n",
       "23181754  359.999303  34.720842  16.933657     NaN  3.109000   0.0  0.135597   \n",
       "23181755  359.999615   3.268586  14.833991     NaN  1.232962   0.0  0.073688   \n",
       "23181756  359.999759  20.721079  16.979166     NaN  2.009865   0.0  0.099325   \n",
       "23181757  359.999954  34.747133  16.856348     NaN  2.375000   0.0  0.111375   \n",
       "\n",
       "                lumdis  \n",
       "0             4.392418  \n",
       "1            15.876007  \n",
       "2            12.446600  \n",
       "3            11.461371  \n",
       "4            15.180920  \n",
       "...                ...  \n",
       "23181753  20403.464630  \n",
       "23181754  27158.368406  \n",
       "23181755   8792.439985  \n",
       "23181756  16022.500633  \n",
       "23181757  19629.730536  \n",
       "\n",
       "[23181758 rows x 13 columns]"
      ]
     },
     "execution_count": 3,
     "metadata": {},
     "output_type": "execute_result"
    }
   ],
   "source": [
    "# reading the catalog to 'data' pandas dataframe\n",
    "data = pd.read_csv( 'GLADE+.txt', delimiter = ' ',\n",
    "                   usecols=[2,3,4,5,7,8,9,20,21,27,29,31,32], # necessary columns  \n",
    "                   header=None, # there are no header in the txt\n",
    "                   names=[ \"GWGC\",\"Hyp\", \"2MASS\", \"wiseX\", \"type\", \"ra\", \"dec\",\n",
    "                          \"W1\", \"W1_err\", \"z\", \"flag\", \"z_err\", \"lumdis\" ], # I name the columns\n",
    "                   low_memory = False )\n",
    "print( 'dataframe with the necessary columns:\\n' )\n",
    "data"
   ]
  },
  {
   "cell_type": "code",
   "execution_count": 4,
   "metadata": {
    "scrolled": true
   },
   "outputs": [
    {
     "data": {
      "text/plain": [
       "23181758"
      ]
     },
     "execution_count": 4,
     "metadata": {},
     "output_type": "execute_result"
    }
   ],
   "source": [
    "len(data)"
   ]
  },
  {
   "cell_type": "markdown",
   "metadata": {},
   "source": [
    "## Adding luminosity distance error\n",
    "\n",
    "Calculated by Gergely Dálya."
   ]
  },
  {
   "cell_type": "code",
   "execution_count": 5,
   "metadata": {
    "scrolled": true
   },
   "outputs": [
    {
     "name": "stdout",
     "output_type": "stream",
     "text": [
      "The dataframe:\n"
     ]
    },
    {
     "data": {
      "text/html": [
       "<div>\n",
       "<style scoped>\n",
       "    .dataframe tbody tr th:only-of-type {\n",
       "        vertical-align: middle;\n",
       "    }\n",
       "\n",
       "    .dataframe tbody tr th {\n",
       "        vertical-align: top;\n",
       "    }\n",
       "\n",
       "    .dataframe thead th {\n",
       "        text-align: right;\n",
       "    }\n",
       "</style>\n",
       "<table border=\"1\" class=\"dataframe\">\n",
       "  <thead>\n",
       "    <tr style=\"text-align: right;\">\n",
       "      <th></th>\n",
       "      <th>GWGC</th>\n",
       "      <th>Hyp</th>\n",
       "      <th>2MASS</th>\n",
       "      <th>wiseX</th>\n",
       "      <th>type</th>\n",
       "      <th>ra</th>\n",
       "      <th>dec</th>\n",
       "      <th>W1</th>\n",
       "      <th>W1_err</th>\n",
       "      <th>z</th>\n",
       "      <th>flag</th>\n",
       "      <th>z_err</th>\n",
       "      <th>lumdis</th>\n",
       "      <th>lumdis_err</th>\n",
       "    </tr>\n",
       "  </thead>\n",
       "  <tbody>\n",
       "    <tr>\n",
       "      <th>0</th>\n",
       "      <td>NGC4736</td>\n",
       "      <td>NGC4736</td>\n",
       "      <td>12505314+4107125</td>\n",
       "      <td>J125053.14+410712.7</td>\n",
       "      <td>G</td>\n",
       "      <td>192.721451</td>\n",
       "      <td>41.120152</td>\n",
       "      <td>5.611</td>\n",
       "      <td>NaN</td>\n",
       "      <td>0.000991</td>\n",
       "      <td>0.0</td>\n",
       "      <td>0.000029</td>\n",
       "      <td>4.392418</td>\n",
       "      <td>0.127479</td>\n",
       "    </tr>\n",
       "    <tr>\n",
       "      <th>1</th>\n",
       "      <td>NGC4548</td>\n",
       "      <td>NGC4548</td>\n",
       "      <td>12352642+1429467</td>\n",
       "      <td>J123526.45+142946.9</td>\n",
       "      <td>G</td>\n",
       "      <td>188.860123</td>\n",
       "      <td>14.496320</td>\n",
       "      <td>9.416</td>\n",
       "      <td>NaN</td>\n",
       "      <td>0.004120</td>\n",
       "      <td>1.0</td>\n",
       "      <td>0.000119</td>\n",
       "      <td>15.876007</td>\n",
       "      <td>0.532731</td>\n",
       "    </tr>\n",
       "    <tr>\n",
       "      <th>2</th>\n",
       "      <td>NGC6503</td>\n",
       "      <td>NGC6503</td>\n",
       "      <td>17492651+7008396</td>\n",
       "      <td>J174926.45+700840.8</td>\n",
       "      <td>G</td>\n",
       "      <td>267.360474</td>\n",
       "      <td>70.144341</td>\n",
       "      <td>10.180</td>\n",
       "      <td>NaN</td>\n",
       "      <td>0.001000</td>\n",
       "      <td>1.0</td>\n",
       "      <td>0.000029</td>\n",
       "      <td>12.446600</td>\n",
       "      <td>0.128670</td>\n",
       "    </tr>\n",
       "    <tr>\n",
       "      <th>3</th>\n",
       "      <td>NGC4442</td>\n",
       "      <td>NGC4442</td>\n",
       "      <td>12280389+0948130</td>\n",
       "      <td>J122803.90+094813.3</td>\n",
       "      <td>G</td>\n",
       "      <td>187.016220</td>\n",
       "      <td>9.803620</td>\n",
       "      <td>8.476</td>\n",
       "      <td>NaN</td>\n",
       "      <td>0.003557</td>\n",
       "      <td>1.0</td>\n",
       "      <td>0.000103</td>\n",
       "      <td>11.461371</td>\n",
       "      <td>0.459550</td>\n",
       "    </tr>\n",
       "    <tr>\n",
       "      <th>4</th>\n",
       "      <td>NGC4469</td>\n",
       "      <td>NGC4469</td>\n",
       "      <td>NaN</td>\n",
       "      <td>J122928.05+084500.8</td>\n",
       "      <td>G</td>\n",
       "      <td>187.367000</td>\n",
       "      <td>8.749890</td>\n",
       "      <td>9.784</td>\n",
       "      <td>NaN</td>\n",
       "      <td>0.004139</td>\n",
       "      <td>1.0</td>\n",
       "      <td>0.000120</td>\n",
       "      <td>15.180920</td>\n",
       "      <td>0.535217</td>\n",
       "    </tr>\n",
       "  </tbody>\n",
       "</table>\n",
       "</div>"
      ],
      "text/plain": [
       "      GWGC      Hyp             2MASS                wiseX type          ra  \\\n",
       "0  NGC4736  NGC4736  12505314+4107125  J125053.14+410712.7    G  192.721451   \n",
       "1  NGC4548  NGC4548  12352642+1429467  J123526.45+142946.9    G  188.860123   \n",
       "2  NGC6503  NGC6503  17492651+7008396  J174926.45+700840.8    G  267.360474   \n",
       "3  NGC4442  NGC4442  12280389+0948130  J122803.90+094813.3    G  187.016220   \n",
       "4  NGC4469  NGC4469               NaN  J122928.05+084500.8    G  187.367000   \n",
       "\n",
       "         dec      W1  W1_err         z  flag     z_err     lumdis  lumdis_err  \n",
       "0  41.120152   5.611     NaN  0.000991   0.0  0.000029   4.392418    0.127479  \n",
       "1  14.496320   9.416     NaN  0.004120   1.0  0.000119  15.876007    0.532731  \n",
       "2  70.144341  10.180     NaN  0.001000   1.0  0.000029  12.446600    0.128670  \n",
       "3   9.803620   8.476     NaN  0.003557   1.0  0.000103  11.461371    0.459550  \n",
       "4   8.749890   9.784     NaN  0.004139   1.0  0.000120  15.180920    0.535217  "
      ]
     },
     "execution_count": 5,
     "metadata": {},
     "output_type": "execute_result"
    }
   ],
   "source": [
    "lum_dis_err = pd.read_csv( 'dist_errs.txt', delimiter = ' ', header = None, \n",
    "                          names = [ 'lumdis', 'lumdis_err'] )\n",
    "data['lumdis_err'] = lum_dis_err.lumdis_err\n",
    "print( 'The dataframe:')\n",
    "data.head()"
   ]
  },
  {
   "cell_type": "markdown",
   "metadata": {},
   "source": [
    "## Adding galaxy type\n",
    "\n",
    "$W2 - W3 \\leq 1.5 \\Rightarrow \\text{passive}$"
   ]
  },
  {
   "cell_type": "code",
   "execution_count": 7,
   "metadata": {},
   "outputs": [],
   "source": [
    "# reading the galaxy type:\n",
    "gal_type = pd.read_csv( 'gal_type.txt', delimiter = '\\t', header = None, \n",
    "                          names = [ 'wiseX', 'gal_type'] )"
   ]
  },
  {
   "cell_type": "markdown",
   "metadata": {},
   "source": [
    "#### Filtering the galaxies not in the WISE catalog and coding the WISE IDs into integers:"
   ]
  },
  {
   "cell_type": "code",
   "execution_count": 8,
   "metadata": {},
   "outputs": [],
   "source": [
    "nan_filt =( data.wiseX.values.astype(str) == 'nan' )\n",
    "data_wisex = data.wiseX.values[ ~nan_filt ]\n",
    "id_to_num = dict( zip( data_wisex, np.arange(data_wisex.shape[0]) ) ) # dictionary\n",
    "data_wisex_num = np.array( [  id_to_num[d] for d in data_wisex ] ) # actual coding of the IDs"
   ]
  },
  {
   "cell_type": "markdown",
   "metadata": {},
   "source": [
    "#### Coding the IDs of the gal_type dataframe with the same code:"
   ]
  },
  {
   "cell_type": "code",
   "execution_count": 9,
   "metadata": {
    "scrolled": false
   },
   "outputs": [
    {
     "data": {
      "text/html": [
       "<div>\n",
       "<style scoped>\n",
       "    .dataframe tbody tr th:only-of-type {\n",
       "        vertical-align: middle;\n",
       "    }\n",
       "\n",
       "    .dataframe tbody tr th {\n",
       "        vertical-align: top;\n",
       "    }\n",
       "\n",
       "    .dataframe thead th {\n",
       "        text-align: right;\n",
       "    }\n",
       "</style>\n",
       "<table border=\"1\" class=\"dataframe\">\n",
       "  <thead>\n",
       "    <tr style=\"text-align: right;\">\n",
       "      <th></th>\n",
       "      <th>wiseX</th>\n",
       "      <th>gal_type</th>\n",
       "      <th>num</th>\n",
       "    </tr>\n",
       "  </thead>\n",
       "  <tbody>\n",
       "    <tr>\n",
       "      <th>0</th>\n",
       "      <td>J111604.66-761258.2</td>\n",
       "      <td>1.0</td>\n",
       "      <td>1002108</td>\n",
       "    </tr>\n",
       "    <tr>\n",
       "      <th>1</th>\n",
       "      <td>J214416.13-750640.7</td>\n",
       "      <td>0.0</td>\n",
       "      <td>1002149</td>\n",
       "    </tr>\n",
       "    <tr>\n",
       "      <th>2</th>\n",
       "      <td>J133240.62-775040.5</td>\n",
       "      <td>1.0</td>\n",
       "      <td>1002187</td>\n",
       "    </tr>\n",
       "    <tr>\n",
       "      <th>3</th>\n",
       "      <td>J154815.92-754022.2</td>\n",
       "      <td>1.0</td>\n",
       "      <td>1002394</td>\n",
       "    </tr>\n",
       "    <tr>\n",
       "      <th>4</th>\n",
       "      <td>J010701.67-801828.3</td>\n",
       "      <td>1.0</td>\n",
       "      <td>1002413</td>\n",
       "    </tr>\n",
       "  </tbody>\n",
       "</table>\n",
       "</div>"
      ],
      "text/plain": [
       "                 wiseX  gal_type      num\n",
       "0  J111604.66-761258.2       1.0  1002108\n",
       "1  J214416.13-750640.7       0.0  1002149\n",
       "2  J133240.62-775040.5       1.0  1002187\n",
       "3  J154815.92-754022.2       1.0  1002394\n",
       "4  J010701.67-801828.3       1.0  1002413"
      ]
     },
     "execution_count": 9,
     "metadata": {},
     "output_type": "execute_result"
    }
   ],
   "source": [
    "galtype_num = np.array( [ id_to_num[d] for d in gal_type.wiseX ] )\n",
    "gal_type['num'] = galtype_num\n",
    "gal_type.head()"
   ]
  },
  {
   "cell_type": "markdown",
   "metadata": {},
   "source": [
    "#### Sorting the gal_type dataframe to ascending 'num' order:"
   ]
  },
  {
   "cell_type": "code",
   "execution_count": 10,
   "metadata": {
    "scrolled": false
   },
   "outputs": [
    {
     "data": {
      "text/html": [
       "<div>\n",
       "<style scoped>\n",
       "    .dataframe tbody tr th:only-of-type {\n",
       "        vertical-align: middle;\n",
       "    }\n",
       "\n",
       "    .dataframe tbody tr th {\n",
       "        vertical-align: top;\n",
       "    }\n",
       "\n",
       "    .dataframe thead th {\n",
       "        text-align: right;\n",
       "    }\n",
       "</style>\n",
       "<table border=\"1\" class=\"dataframe\">\n",
       "  <thead>\n",
       "    <tr style=\"text-align: right;\">\n",
       "      <th></th>\n",
       "      <th>wiseX</th>\n",
       "      <th>gal_type</th>\n",
       "      <th>num</th>\n",
       "    </tr>\n",
       "  </thead>\n",
       "  <tbody>\n",
       "    <tr>\n",
       "      <th>14288657</th>\n",
       "      <td>J125053.14+410712.7</td>\n",
       "      <td>1.0</td>\n",
       "      <td>0</td>\n",
       "    </tr>\n",
       "    <tr>\n",
       "      <th>10235372</th>\n",
       "      <td>J123526.45+142946.9</td>\n",
       "      <td>1.0</td>\n",
       "      <td>1</td>\n",
       "    </tr>\n",
       "    <tr>\n",
       "      <th>17083205</th>\n",
       "      <td>J174926.45+700840.8</td>\n",
       "      <td>1.0</td>\n",
       "      <td>2</td>\n",
       "    </tr>\n",
       "    <tr>\n",
       "      <th>9014299</th>\n",
       "      <td>J122803.90+094813.3</td>\n",
       "      <td>0.0</td>\n",
       "      <td>3</td>\n",
       "    </tr>\n",
       "    <tr>\n",
       "      <th>9014300</th>\n",
       "      <td>J122928.05+084500.8</td>\n",
       "      <td>1.0</td>\n",
       "      <td>4</td>\n",
       "    </tr>\n",
       "    <tr>\n",
       "      <th>9481731</th>\n",
       "      <td>J122753.56+121735.8</td>\n",
       "      <td>0.0</td>\n",
       "      <td>6</td>\n",
       "    </tr>\n",
       "    <tr>\n",
       "      <th>9481732</th>\n",
       "      <td>J122541.67+124838.1</td>\n",
       "      <td>0.0</td>\n",
       "      <td>7</td>\n",
       "    </tr>\n",
       "    <tr>\n",
       "      <th>9014301</th>\n",
       "      <td>J122711.57+092513.9</td>\n",
       "      <td>1.0</td>\n",
       "      <td>8</td>\n",
       "    </tr>\n",
       "    <tr>\n",
       "      <th>9014302</th>\n",
       "      <td>J121530.38+093505.9</td>\n",
       "      <td>1.0</td>\n",
       "      <td>9</td>\n",
       "    </tr>\n",
       "    <tr>\n",
       "      <th>9481733</th>\n",
       "      <td>J121516.80+130126.3</td>\n",
       "      <td>1.0</td>\n",
       "      <td>10</td>\n",
       "    </tr>\n",
       "  </tbody>\n",
       "</table>\n",
       "</div>"
      ],
      "text/plain": [
       "                        wiseX  gal_type  num\n",
       "14288657  J125053.14+410712.7       1.0    0\n",
       "10235372  J123526.45+142946.9       1.0    1\n",
       "17083205  J174926.45+700840.8       1.0    2\n",
       "9014299   J122803.90+094813.3       0.0    3\n",
       "9014300   J122928.05+084500.8       1.0    4\n",
       "9481731   J122753.56+121735.8       0.0    6\n",
       "9481732   J122541.67+124838.1       0.0    7\n",
       "9014301   J122711.57+092513.9       1.0    8\n",
       "9014302   J121530.38+093505.9       1.0    9\n",
       "9481733   J121516.80+130126.3       1.0   10"
      ]
     },
     "execution_count": 10,
     "metadata": {},
     "output_type": "execute_result"
    }
   ],
   "source": [
    "sort_idx = np.argsort( gal_type.num.values )\n",
    "gal_type_sorted = gal_type.iloc[sort_idx]\n",
    "gal_type_sorted.head(10)"
   ]
  },
  {
   "cell_type": "markdown",
   "metadata": {},
   "source": [
    "#### See when the num is changing in the sorted dataframe:"
   ]
  },
  {
   "cell_type": "code",
   "execution_count": 11,
   "metadata": {},
   "outputs": [],
   "source": [
    "diff_idx = np.where( np.diff( gal_type_sorted.num.values ) )[0]+1\n",
    "# insert first element (zero) ## otherwise left out!\n",
    "diff_idx = np.insert( diff_idx, 0, 0, axis=0)\n",
    "# insert last element (size of array) ## otherwise left out!\n",
    "diff_idx = np.append( diff_idx, gal_type_sorted.num.values.shape[0] )"
   ]
  },
  {
   "cell_type": "markdown",
   "metadata": {},
   "source": [
    "#### Collecting the gal_type data with the same ID:"
   ]
  },
  {
   "cell_type": "code",
   "execution_count": 12,
   "metadata": {
    "scrolled": false
   },
   "outputs": [
    {
     "name": "stderr",
     "output_type": "stream",
     "text": [
      "100%|███████████████████████████| 18380495/18380495 [01:09<00:00, 264928.31it/s]\n",
      "/tmp/ipykernel_69848/249200797.py:5: VisibleDeprecationWarning: Creating an ndarray from ragged nested sequences (which is a list-or-tuple of lists-or-tuples-or ndarrays with different lengths or shapes) is deprecated. If you meant to do this, you must specify 'dtype=object' when creating the ndarray.\n",
      "  container_gal_type = np.array( container_gal_type ) # converting to array\n"
     ]
    }
   ],
   "source": [
    "container_gal_type = []\n",
    "for i in tqdm( range( diff_idx.shape[0]-1 ) ):\n",
    "    container_gal_type.append( gal_type_sorted.gal_type.values[ diff_idx[i]:diff_idx[i+1] ] )\n",
    "    \n",
    "container_gal_type = np.array( container_gal_type ) # converting to array"
   ]
  },
  {
   "cell_type": "markdown",
   "metadata": {},
   "source": [
    "#### See the IDs with more than one row ('duplicated'):"
   ]
  },
  {
   "cell_type": "code",
   "execution_count": 13,
   "metadata": {
    "scrolled": true
   },
   "outputs": [],
   "source": [
    "duplicate_num = np.array([ len(i) for i in container_gal_type ])\n",
    "duplicate_filt = duplicate_num > 1\n",
    "container_gal_type_duplicate = container_gal_type[ duplicate_filt ] # array of arrays"
   ]
  },
  {
   "cell_type": "markdown",
   "metadata": {},
   "source": [
    "How many times are the IDs can be duplicated?"
   ]
  },
  {
   "cell_type": "code",
   "execution_count": 14,
   "metadata": {
    "scrolled": true
   },
   "outputs": [
    {
     "data": {
      "text/plain": [
       "array([1, 2, 3, 4, 5])"
      ]
     },
     "execution_count": 14,
     "metadata": {},
     "output_type": "execute_result"
    }
   ],
   "source": [
    "np.unique( duplicate_num )"
   ]
  },
  {
   "cell_type": "markdown",
   "metadata": {},
   "source": [
    "See if the gal_type values with the same IDs are identical:"
   ]
  },
  {
   "cell_type": "code",
   "execution_count": 15,
   "metadata": {},
   "outputs": [
    {
     "name": "stderr",
     "output_type": "stream",
     "text": [
      "100%|██████████████████████████████| 1142376/1142376 [00:40<00:00, 28244.75it/s]\n"
     ]
    }
   ],
   "source": [
    "diff_bool = []\n",
    "for k in tqdm( range( container_gal_type_duplicate.shape[0] ) ):\n",
    "    arr = container_gal_type_duplicate[k]\n",
    "    arr_element = arr[:1]\n",
    "    diff_bool.append( np.allclose( arr, arr_element ) )\n",
    "    if np.allclose( arr, arr_element ) == False:\n",
    "        print('False')\n",
    "diff_bool = np.array( diff_bool )"
   ]
  },
  {
   "cell_type": "markdown",
   "metadata": {},
   "source": [
    "Checking the result:"
   ]
  },
  {
   "cell_type": "code",
   "execution_count": 16,
   "metadata": {
    "scrolled": true
   },
   "outputs": [
    {
     "data": {
      "text/plain": [
       "0"
      ]
     },
     "execution_count": 16,
     "metadata": {},
     "output_type": "execute_result"
    }
   ],
   "source": [
    "uqs, counts = np.unique( galtype_num, return_counts=True )\n",
    "(counts > 1).sum() - diff_bool.sum()"
   ]
  },
  {
   "cell_type": "markdown",
   "metadata": {},
   "source": [
    "#### Pairing the galaxy type to the galaxy in GLADE+:"
   ]
  },
  {
   "cell_type": "code",
   "execution_count": 17,
   "metadata": {
    "scrolled": true
   },
   "outputs": [
    {
     "data": {
      "text/html": [
       "<div>\n",
       "<style scoped>\n",
       "    .dataframe tbody tr th:only-of-type {\n",
       "        vertical-align: middle;\n",
       "    }\n",
       "\n",
       "    .dataframe tbody tr th {\n",
       "        vertical-align: top;\n",
       "    }\n",
       "\n",
       "    .dataframe thead th {\n",
       "        text-align: right;\n",
       "    }\n",
       "</style>\n",
       "<table border=\"1\" class=\"dataframe\">\n",
       "  <thead>\n",
       "    <tr style=\"text-align: right;\">\n",
       "      <th></th>\n",
       "      <th>GWGC</th>\n",
       "      <th>Hyp</th>\n",
       "      <th>2MASS</th>\n",
       "      <th>wiseX</th>\n",
       "      <th>type</th>\n",
       "      <th>ra</th>\n",
       "      <th>dec</th>\n",
       "      <th>W1</th>\n",
       "      <th>W1_err</th>\n",
       "      <th>z</th>\n",
       "      <th>flag</th>\n",
       "      <th>z_err</th>\n",
       "      <th>lumdis</th>\n",
       "      <th>lumdis_err</th>\n",
       "      <th>gal_type</th>\n",
       "      <th>num</th>\n",
       "    </tr>\n",
       "  </thead>\n",
       "  <tbody>\n",
       "    <tr>\n",
       "      <th>0</th>\n",
       "      <td>NGC4736</td>\n",
       "      <td>NGC4736</td>\n",
       "      <td>12505314+4107125</td>\n",
       "      <td>J125053.14+410712.7</td>\n",
       "      <td>G</td>\n",
       "      <td>192.721451</td>\n",
       "      <td>41.120152</td>\n",
       "      <td>5.611</td>\n",
       "      <td>NaN</td>\n",
       "      <td>0.000991</td>\n",
       "      <td>0.0</td>\n",
       "      <td>0.000029</td>\n",
       "      <td>4.392418</td>\n",
       "      <td>0.127479</td>\n",
       "      <td>1.0</td>\n",
       "      <td>0.0</td>\n",
       "    </tr>\n",
       "    <tr>\n",
       "      <th>1</th>\n",
       "      <td>NGC4548</td>\n",
       "      <td>NGC4548</td>\n",
       "      <td>12352642+1429467</td>\n",
       "      <td>J123526.45+142946.9</td>\n",
       "      <td>G</td>\n",
       "      <td>188.860123</td>\n",
       "      <td>14.496320</td>\n",
       "      <td>9.416</td>\n",
       "      <td>NaN</td>\n",
       "      <td>0.004120</td>\n",
       "      <td>1.0</td>\n",
       "      <td>0.000119</td>\n",
       "      <td>15.876007</td>\n",
       "      <td>0.532731</td>\n",
       "      <td>1.0</td>\n",
       "      <td>1.0</td>\n",
       "    </tr>\n",
       "    <tr>\n",
       "      <th>2</th>\n",
       "      <td>NGC6503</td>\n",
       "      <td>NGC6503</td>\n",
       "      <td>17492651+7008396</td>\n",
       "      <td>J174926.45+700840.8</td>\n",
       "      <td>G</td>\n",
       "      <td>267.360474</td>\n",
       "      <td>70.144341</td>\n",
       "      <td>10.180</td>\n",
       "      <td>NaN</td>\n",
       "      <td>0.001000</td>\n",
       "      <td>1.0</td>\n",
       "      <td>0.000029</td>\n",
       "      <td>12.446600</td>\n",
       "      <td>0.128670</td>\n",
       "      <td>1.0</td>\n",
       "      <td>2.0</td>\n",
       "    </tr>\n",
       "    <tr>\n",
       "      <th>3</th>\n",
       "      <td>NGC4442</td>\n",
       "      <td>NGC4442</td>\n",
       "      <td>12280389+0948130</td>\n",
       "      <td>J122803.90+094813.3</td>\n",
       "      <td>G</td>\n",
       "      <td>187.016220</td>\n",
       "      <td>9.803620</td>\n",
       "      <td>8.476</td>\n",
       "      <td>NaN</td>\n",
       "      <td>0.003557</td>\n",
       "      <td>1.0</td>\n",
       "      <td>0.000103</td>\n",
       "      <td>11.461371</td>\n",
       "      <td>0.459550</td>\n",
       "      <td>0.0</td>\n",
       "      <td>3.0</td>\n",
       "    </tr>\n",
       "    <tr>\n",
       "      <th>4</th>\n",
       "      <td>NGC4469</td>\n",
       "      <td>NGC4469</td>\n",
       "      <td>NaN</td>\n",
       "      <td>J122928.05+084500.8</td>\n",
       "      <td>G</td>\n",
       "      <td>187.367000</td>\n",
       "      <td>8.749890</td>\n",
       "      <td>9.784</td>\n",
       "      <td>NaN</td>\n",
       "      <td>0.004139</td>\n",
       "      <td>1.0</td>\n",
       "      <td>0.000120</td>\n",
       "      <td>15.180920</td>\n",
       "      <td>0.535217</td>\n",
       "      <td>1.0</td>\n",
       "      <td>4.0</td>\n",
       "    </tr>\n",
       "  </tbody>\n",
       "</table>\n",
       "</div>"
      ],
      "text/plain": [
       "      GWGC      Hyp             2MASS                wiseX type          ra  \\\n",
       "0  NGC4736  NGC4736  12505314+4107125  J125053.14+410712.7    G  192.721451   \n",
       "1  NGC4548  NGC4548  12352642+1429467  J123526.45+142946.9    G  188.860123   \n",
       "2  NGC6503  NGC6503  17492651+7008396  J174926.45+700840.8    G  267.360474   \n",
       "3  NGC4442  NGC4442  12280389+0948130  J122803.90+094813.3    G  187.016220   \n",
       "4  NGC4469  NGC4469               NaN  J122928.05+084500.8    G  187.367000   \n",
       "\n",
       "         dec      W1  W1_err         z  flag     z_err     lumdis  lumdis_err  \\\n",
       "0  41.120152   5.611     NaN  0.000991   0.0  0.000029   4.392418    0.127479   \n",
       "1  14.496320   9.416     NaN  0.004120   1.0  0.000119  15.876007    0.532731   \n",
       "2  70.144341  10.180     NaN  0.001000   1.0  0.000029  12.446600    0.128670   \n",
       "3   9.803620   8.476     NaN  0.003557   1.0  0.000103  11.461371    0.459550   \n",
       "4   8.749890   9.784     NaN  0.004139   1.0  0.000120  15.180920    0.535217   \n",
       "\n",
       "   gal_type  num  \n",
       "0       1.0  0.0  \n",
       "1       1.0  1.0  \n",
       "2       1.0  2.0  \n",
       "3       0.0  3.0  \n",
       "4       1.0  4.0  "
      ]
     },
     "execution_count": 17,
     "metadata": {},
     "output_type": "execute_result"
    }
   ],
   "source": [
    "merged_df = pd.merge( data, gal_type_sorted.iloc[ diff_idx[:-1] ], on='wiseX', how='left' )\n",
    "merged_df.head()"
   ]
  },
  {
   "cell_type": "code",
   "execution_count": 17,
   "metadata": {
    "scrolled": true
   },
   "outputs": [],
   "source": [
    "merged_df.drop('num', axis = 1, inplace=True)"
   ]
  },
  {
   "cell_type": "code",
   "execution_count": 18,
   "metadata": {
    "scrolled": false
   },
   "outputs": [
    {
     "data": {
      "text/html": [
       "<div>\n",
       "<style scoped>\n",
       "    .dataframe tbody tr th:only-of-type {\n",
       "        vertical-align: middle;\n",
       "    }\n",
       "\n",
       "    .dataframe tbody tr th {\n",
       "        vertical-align: top;\n",
       "    }\n",
       "\n",
       "    .dataframe thead th {\n",
       "        text-align: right;\n",
       "    }\n",
       "</style>\n",
       "<table border=\"1\" class=\"dataframe\">\n",
       "  <thead>\n",
       "    <tr style=\"text-align: right;\">\n",
       "      <th></th>\n",
       "      <th>GWGC</th>\n",
       "      <th>Hyp</th>\n",
       "      <th>2MASS</th>\n",
       "      <th>wiseX</th>\n",
       "      <th>type</th>\n",
       "      <th>ra</th>\n",
       "      <th>dec</th>\n",
       "      <th>W1</th>\n",
       "      <th>W1_err</th>\n",
       "      <th>z</th>\n",
       "      <th>flag</th>\n",
       "      <th>z_err</th>\n",
       "      <th>lumdis</th>\n",
       "      <th>lumdis_err</th>\n",
       "      <th>gal_type</th>\n",
       "      <th>num</th>\n",
       "    </tr>\n",
       "  </thead>\n",
       "  <tbody>\n",
       "    <tr>\n",
       "      <th>0</th>\n",
       "      <td>NGC4736</td>\n",
       "      <td>NGC4736</td>\n",
       "      <td>12505314+4107125</td>\n",
       "      <td>J125053.14+410712.7</td>\n",
       "      <td>G</td>\n",
       "      <td>192.721451</td>\n",
       "      <td>41.120152</td>\n",
       "      <td>5.611</td>\n",
       "      <td>NaN</td>\n",
       "      <td>0.000991</td>\n",
       "      <td>0.0</td>\n",
       "      <td>0.000029</td>\n",
       "      <td>4.392418</td>\n",
       "      <td>0.127479</td>\n",
       "      <td>1.0</td>\n",
       "      <td>0.0</td>\n",
       "    </tr>\n",
       "    <tr>\n",
       "      <th>1</th>\n",
       "      <td>NGC4548</td>\n",
       "      <td>NGC4548</td>\n",
       "      <td>12352642+1429467</td>\n",
       "      <td>J123526.45+142946.9</td>\n",
       "      <td>G</td>\n",
       "      <td>188.860123</td>\n",
       "      <td>14.496320</td>\n",
       "      <td>9.416</td>\n",
       "      <td>NaN</td>\n",
       "      <td>0.004120</td>\n",
       "      <td>1.0</td>\n",
       "      <td>0.000119</td>\n",
       "      <td>15.876007</td>\n",
       "      <td>0.532731</td>\n",
       "      <td>1.0</td>\n",
       "      <td>1.0</td>\n",
       "    </tr>\n",
       "    <tr>\n",
       "      <th>2</th>\n",
       "      <td>NGC6503</td>\n",
       "      <td>NGC6503</td>\n",
       "      <td>17492651+7008396</td>\n",
       "      <td>J174926.45+700840.8</td>\n",
       "      <td>G</td>\n",
       "      <td>267.360474</td>\n",
       "      <td>70.144341</td>\n",
       "      <td>10.180</td>\n",
       "      <td>NaN</td>\n",
       "      <td>0.001000</td>\n",
       "      <td>1.0</td>\n",
       "      <td>0.000029</td>\n",
       "      <td>12.446600</td>\n",
       "      <td>0.128670</td>\n",
       "      <td>1.0</td>\n",
       "      <td>2.0</td>\n",
       "    </tr>\n",
       "    <tr>\n",
       "      <th>3</th>\n",
       "      <td>NGC4442</td>\n",
       "      <td>NGC4442</td>\n",
       "      <td>12280389+0948130</td>\n",
       "      <td>J122803.90+094813.3</td>\n",
       "      <td>G</td>\n",
       "      <td>187.016220</td>\n",
       "      <td>9.803620</td>\n",
       "      <td>8.476</td>\n",
       "      <td>NaN</td>\n",
       "      <td>0.003557</td>\n",
       "      <td>1.0</td>\n",
       "      <td>0.000103</td>\n",
       "      <td>11.461371</td>\n",
       "      <td>0.459550</td>\n",
       "      <td>0.0</td>\n",
       "      <td>3.0</td>\n",
       "    </tr>\n",
       "    <tr>\n",
       "      <th>4</th>\n",
       "      <td>NGC4469</td>\n",
       "      <td>NGC4469</td>\n",
       "      <td>NaN</td>\n",
       "      <td>J122928.05+084500.8</td>\n",
       "      <td>G</td>\n",
       "      <td>187.367000</td>\n",
       "      <td>8.749890</td>\n",
       "      <td>9.784</td>\n",
       "      <td>NaN</td>\n",
       "      <td>0.004139</td>\n",
       "      <td>1.0</td>\n",
       "      <td>0.000120</td>\n",
       "      <td>15.180920</td>\n",
       "      <td>0.535217</td>\n",
       "      <td>1.0</td>\n",
       "      <td>4.0</td>\n",
       "    </tr>\n",
       "  </tbody>\n",
       "</table>\n",
       "</div>"
      ],
      "text/plain": [
       "      GWGC      Hyp             2MASS                wiseX type          ra  \\\n",
       "0  NGC4736  NGC4736  12505314+4107125  J125053.14+410712.7    G  192.721451   \n",
       "1  NGC4548  NGC4548  12352642+1429467  J123526.45+142946.9    G  188.860123   \n",
       "2  NGC6503  NGC6503  17492651+7008396  J174926.45+700840.8    G  267.360474   \n",
       "3  NGC4442  NGC4442  12280389+0948130  J122803.90+094813.3    G  187.016220   \n",
       "4  NGC4469  NGC4469               NaN  J122928.05+084500.8    G  187.367000   \n",
       "\n",
       "         dec      W1  W1_err         z  flag     z_err     lumdis  lumdis_err  \\\n",
       "0  41.120152   5.611     NaN  0.000991   0.0  0.000029   4.392418    0.127479   \n",
       "1  14.496320   9.416     NaN  0.004120   1.0  0.000119  15.876007    0.532731   \n",
       "2  70.144341  10.180     NaN  0.001000   1.0  0.000029  12.446600    0.128670   \n",
       "3   9.803620   8.476     NaN  0.003557   1.0  0.000103  11.461371    0.459550   \n",
       "4   8.749890   9.784     NaN  0.004139   1.0  0.000120  15.180920    0.535217   \n",
       "\n",
       "   gal_type  num  \n",
       "0       1.0  0.0  \n",
       "1       1.0  1.0  \n",
       "2       1.0  2.0  \n",
       "3       0.0  3.0  \n",
       "4       1.0  4.0  "
      ]
     },
     "execution_count": 18,
     "metadata": {},
     "output_type": "execute_result"
    }
   ],
   "source": [
    "merged_df.head()"
   ]
  },
  {
   "cell_type": "code",
   "execution_count": 19,
   "metadata": {},
   "outputs": [
    {
     "data": {
      "text/plain": [
       "((23181758, 16), (23181758, 14))"
      ]
     },
     "execution_count": 19,
     "metadata": {},
     "output_type": "execute_result"
    }
   ],
   "source": [
    "merged_df.shape, data.shape"
   ]
  },
  {
   "cell_type": "markdown",
   "metadata": {},
   "source": [
    "## Writing out the dataframe"
   ]
  },
  {
   "cell_type": "code",
   "execution_count": 20,
   "metadata": {},
   "outputs": [],
   "source": [
    "merged_df.to_csv( 'data_for_work.txt', sep = '\\t', index = False, header = True )"
   ]
  }
 ],
 "metadata": {
  "kernelspec": {
   "display_name": "Python 3 (ipykernel)",
   "language": "python",
   "name": "python3"
  },
  "language_info": {
   "codemirror_mode": {
    "name": "ipython",
    "version": 3
   },
   "file_extension": ".py",
   "mimetype": "text/x-python",
   "name": "python",
   "nbconvert_exporter": "python",
   "pygments_lexer": "ipython3",
   "version": "3.8.10"
  }
 },
 "nbformat": 4,
 "nbformat_minor": 4
}
