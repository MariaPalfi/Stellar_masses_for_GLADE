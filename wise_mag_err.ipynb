{
 "cells": [
  {
   "cell_type": "code",
   "execution_count": 1,
   "metadata": {},
   "outputs": [],
   "source": [
    "# importing useful packages\n",
    "import numpy as np\n",
    "import matplotlib.pyplot as plt\n",
    "import pandas as pd\n",
    "import copy\n",
    "import math\n",
    "from scipy.optimize import curve_fit\n",
    "from scipy import odr as odr\n",
    "import seaborn as sns\n",
    "#sns.set(color_codes=True)\n",
    "plt.style.use('seaborn-white')"
   ]
  },
  {
   "cell_type": "markdown",
   "metadata": {},
   "source": [
    "_______________________________________________________________________________________\n",
    "---------------------------------------------------"
   ]
  },
  {
   "cell_type": "markdown",
   "metadata": {},
   "source": [
    "## Writing out WISE W1 magnitude errors"
   ]
  },
  {
   "cell_type": "markdown",
   "metadata": {},
   "source": [
    "### Columns of 'wiseScosSvm':\n",
    "\n",
    "'wiseX', 'wiseID', 'scosID', 'cx', 'cy', 'cz', 'htmID', 'ra', 'dec',\n",
    "'ebv', 'w1mCorr', 'w1mCorrErr', 'w2mCorr', 'w2mCorrErr', 'bCalCorr',\n",
    "'bCalCorrErr', 'rCalCorr', 'rCalCorrErr', 'zPhoto_ANN', 'zPhoto_Corr',\n",
    "'fromAllSky', 'SVMClass', 'probGal', 'probStar', 'probQso',\n",
    "'inPhotozCat'"
   ]
  },
  {
   "cell_type": "code",
   "execution_count": 2,
   "metadata": {
    "scrolled": true
   },
   "outputs": [
    {
     "data": {
      "text/html": [
       "<div>\n",
       "<style scoped>\n",
       "    .dataframe tbody tr th:only-of-type {\n",
       "        vertical-align: middle;\n",
       "    }\n",
       "\n",
       "    .dataframe tbody tr th {\n",
       "        vertical-align: top;\n",
       "    }\n",
       "\n",
       "    .dataframe thead th {\n",
       "        text-align: right;\n",
       "    }\n",
       "</style>\n",
       "<table border=\"1\" class=\"dataframe\">\n",
       "  <thead>\n",
       "    <tr style=\"text-align: right;\">\n",
       "      <th></th>\n",
       "      <th>wiseX</th>\n",
       "      <th>w1mCorr</th>\n",
       "      <th>w1mCorrErr</th>\n",
       "      <th>fromAllSky</th>\n",
       "    </tr>\n",
       "  </thead>\n",
       "  <tbody>\n",
       "    <tr>\n",
       "      <th>0</th>\n",
       "      <td>J113821.86-492730.2</td>\n",
       "      <td>15.578</td>\n",
       "      <td>0.044</td>\n",
       "      <td>0</td>\n",
       "    </tr>\n",
       "    <tr>\n",
       "      <th>1</th>\n",
       "      <td>J113829.99-492503.1</td>\n",
       "      <td>15.403</td>\n",
       "      <td>0.037</td>\n",
       "      <td>0</td>\n",
       "    </tr>\n",
       "    <tr>\n",
       "      <th>2</th>\n",
       "      <td>J113821.16-492311.9</td>\n",
       "      <td>15.139</td>\n",
       "      <td>0.036</td>\n",
       "      <td>0</td>\n",
       "    </tr>\n",
       "    <tr>\n",
       "      <th>3</th>\n",
       "      <td>J113817.76-491634.5</td>\n",
       "      <td>15.690</td>\n",
       "      <td>0.039</td>\n",
       "      <td>0</td>\n",
       "    </tr>\n",
       "    <tr>\n",
       "      <th>4</th>\n",
       "      <td>J113823.10-492513.8</td>\n",
       "      <td>15.381</td>\n",
       "      <td>0.038</td>\n",
       "      <td>0</td>\n",
       "    </tr>\n",
       "  </tbody>\n",
       "</table>\n",
       "</div>"
      ],
      "text/plain": [
       "                    wiseX  w1mCorr  w1mCorrErr  fromAllSky\n",
       "0     J113821.86-492730.2   15.578       0.044           0\n",
       "1     J113829.99-492503.1   15.403       0.037           0\n",
       "2     J113821.16-492311.9   15.139       0.036           0\n",
       "3     J113817.76-491634.5   15.690       0.039           0\n",
       "4     J113823.10-492513.8   15.381       0.038           0"
      ]
     },
     "execution_count": 2,
     "metadata": {},
     "output_type": "execute_result"
    }
   ],
   "source": [
    "wxs = pd.read_csv( 'wiseScosSvm.csv', usecols = [ 'wiseX', 'w1mCorr', 'w1mCorrErr', 'fromAllSky' ], \n",
    "                    header = 0, low_memory = False ) \n",
    "wxs.head()"
   ]
  },
  {
   "cell_type": "code",
   "execution_count": 4,
   "metadata": {},
   "outputs": [],
   "source": [
    "u, c = np.unique( wxs.wiseX.values.astype(str), return_counts=True )"
   ]
  },
  {
   "cell_type": "code",
   "execution_count": 5,
   "metadata": {},
   "outputs": [
    {
     "data": {
      "text/plain": [
       "24675"
      ]
     },
     "execution_count": 5,
     "metadata": {},
     "output_type": "execute_result"
    }
   ],
   "source": [
    "(c > 1).sum()"
   ]
  },
  {
   "cell_type": "code",
   "execution_count": 8,
   "metadata": {},
   "outputs": [
    {
     "data": {
      "text/plain": [
       "array(['   J000001.73+495323.0', '   J000005.62+424302.4',\n",
       "       '   J000006.86+300905.2', ..., '   J235928.19+331357.9',\n",
       "       '   J235934.87+452849.2', '   J235946.36+190450.6'], dtype='<U22')"
      ]
     },
     "execution_count": 8,
     "metadata": {},
     "output_type": "execute_result"
    }
   ],
   "source": [
    "u_in_both = u[c > 1]\n",
    "u_in_both"
   ]
  },
  {
   "cell_type": "code",
   "execution_count": 11,
   "metadata": {},
   "outputs": [],
   "source": [
    "id_to_int = dict( zip( wxs.wiseX.values.astype(str), np.arange(wxs.shape[0]) ) )"
   ]
  },
  {
   "cell_type": "code",
   "execution_count": 3,
   "metadata": {},
   "outputs": [],
   "source": [
    "wxs_0 = wxs[ wxs.fromAllSky.values == 0 ]\n",
    "wxs_1 = wxs[ wxs.fromAllSky.values == 1 ]"
   ]
  },
  {
   "cell_type": "code",
   "execution_count": 6,
   "metadata": {},
   "outputs": [
    {
     "data": {
      "text/html": [
       "<div>\n",
       "<style scoped>\n",
       "    .dataframe tbody tr th:only-of-type {\n",
       "        vertical-align: middle;\n",
       "    }\n",
       "\n",
       "    .dataframe tbody tr th {\n",
       "        vertical-align: top;\n",
       "    }\n",
       "\n",
       "    .dataframe thead th {\n",
       "        text-align: right;\n",
       "    }\n",
       "</style>\n",
       "<table border=\"1\" class=\"dataframe\">\n",
       "  <thead>\n",
       "    <tr style=\"text-align: right;\">\n",
       "      <th></th>\n",
       "      <th>wiseX</th>\n",
       "      <th>w1mCorr</th>\n",
       "      <th>w1mCorrErr</th>\n",
       "      <th>fromAllSky</th>\n",
       "    </tr>\n",
       "  </thead>\n",
       "  <tbody>\n",
       "    <tr>\n",
       "      <th>0</th>\n",
       "      <td>J113821.86-492730.2</td>\n",
       "      <td>15.578</td>\n",
       "      <td>0.044</td>\n",
       "      <td>0</td>\n",
       "    </tr>\n",
       "    <tr>\n",
       "      <th>1</th>\n",
       "      <td>J113829.99-492503.1</td>\n",
       "      <td>15.403</td>\n",
       "      <td>0.037</td>\n",
       "      <td>0</td>\n",
       "    </tr>\n",
       "    <tr>\n",
       "      <th>2</th>\n",
       "      <td>J113821.16-492311.9</td>\n",
       "      <td>15.139</td>\n",
       "      <td>0.036</td>\n",
       "      <td>0</td>\n",
       "    </tr>\n",
       "    <tr>\n",
       "      <th>3</th>\n",
       "      <td>J113817.76-491634.5</td>\n",
       "      <td>15.690</td>\n",
       "      <td>0.039</td>\n",
       "      <td>0</td>\n",
       "    </tr>\n",
       "    <tr>\n",
       "      <th>4</th>\n",
       "      <td>J113823.10-492513.8</td>\n",
       "      <td>15.381</td>\n",
       "      <td>0.038</td>\n",
       "      <td>0</td>\n",
       "    </tr>\n",
       "  </tbody>\n",
       "</table>\n",
       "</div>"
      ],
      "text/plain": [
       "                    wiseX  w1mCorr  w1mCorrErr  fromAllSky\n",
       "0     J113821.86-492730.2   15.578       0.044           0\n",
       "1     J113829.99-492503.1   15.403       0.037           0\n",
       "2     J113821.16-492311.9   15.139       0.036           0\n",
       "3     J113817.76-491634.5   15.690       0.039           0\n",
       "4     J113823.10-492513.8   15.381       0.038           0"
      ]
     },
     "execution_count": 6,
     "metadata": {},
     "output_type": "execute_result"
    }
   ],
   "source": [
    "wxs_0.head()"
   ]
  },
  {
   "cell_type": "code",
   "execution_count": 7,
   "metadata": {},
   "outputs": [
    {
     "data": {
      "text/html": [
       "<div>\n",
       "<style scoped>\n",
       "    .dataframe tbody tr th:only-of-type {\n",
       "        vertical-align: middle;\n",
       "    }\n",
       "\n",
       "    .dataframe tbody tr th {\n",
       "        vertical-align: top;\n",
       "    }\n",
       "\n",
       "    .dataframe thead th {\n",
       "        text-align: right;\n",
       "    }\n",
       "</style>\n",
       "<table border=\"1\" class=\"dataframe\">\n",
       "  <thead>\n",
       "    <tr style=\"text-align: right;\">\n",
       "      <th></th>\n",
       "      <th>wiseX</th>\n",
       "      <th>w1mCorr</th>\n",
       "      <th>w1mCorrErr</th>\n",
       "      <th>fromAllSky</th>\n",
       "    </tr>\n",
       "  </thead>\n",
       "  <tbody>\n",
       "    <tr>\n",
       "      <th>8784</th>\n",
       "      <td>J001131.72-765250.5</td>\n",
       "      <td>15.530</td>\n",
       "      <td>0.047</td>\n",
       "      <td>1</td>\n",
       "    </tr>\n",
       "    <tr>\n",
       "      <th>8785</th>\n",
       "      <td>J001112.04-770308.2</td>\n",
       "      <td>15.555</td>\n",
       "      <td>0.045</td>\n",
       "      <td>1</td>\n",
       "    </tr>\n",
       "    <tr>\n",
       "      <th>8786</th>\n",
       "      <td>J001112.07-765238.7</td>\n",
       "      <td>15.457</td>\n",
       "      <td>0.044</td>\n",
       "      <td>1</td>\n",
       "    </tr>\n",
       "    <tr>\n",
       "      <th>8787</th>\n",
       "      <td>J001036.20-765346.5</td>\n",
       "      <td>15.724</td>\n",
       "      <td>0.048</td>\n",
       "      <td>1</td>\n",
       "    </tr>\n",
       "    <tr>\n",
       "      <th>8788</th>\n",
       "      <td>J001057.10-764933.7</td>\n",
       "      <td>15.557</td>\n",
       "      <td>0.045</td>\n",
       "      <td>1</td>\n",
       "    </tr>\n",
       "  </tbody>\n",
       "</table>\n",
       "</div>"
      ],
      "text/plain": [
       "                       wiseX  w1mCorr  w1mCorrErr  fromAllSky\n",
       "8784     J001131.72-765250.5   15.530       0.047           1\n",
       "8785     J001112.04-770308.2   15.555       0.045           1\n",
       "8786     J001112.07-765238.7   15.457       0.044           1\n",
       "8787     J001036.20-765346.5   15.724       0.048           1\n",
       "8788     J001057.10-764933.7   15.557       0.045           1"
      ]
     },
     "execution_count": 7,
     "metadata": {},
     "output_type": "execute_result"
    }
   ],
   "source": [
    "wxs_1.head()"
   ]
  },
  {
   "cell_type": "code",
   "execution_count": 13,
   "metadata": {
    "scrolled": true
   },
   "outputs": [
    {
     "name": "stderr",
     "output_type": "stream",
     "text": [
      "/home/marika/.local/lib/python3.6/site-packages/ipykernel_launcher.py:1: SettingWithCopyWarning: \n",
      "A value is trying to be set on a copy of a slice from a DataFrame.\n",
      "Try using .loc[row_indexer,col_indexer] = value instead\n",
      "\n",
      "See the caveats in the documentation: https://pandas.pydata.org/pandas-docs/stable/user_guide/indexing.html#returning-a-view-versus-a-copy\n",
      "  \"\"\"Entry point for launching an IPython kernel.\n"
     ]
    }
   ],
   "source": [
    "wxs_0['id'] = [ id_to_int[i] for i in wxs_0.wiseX.values ]"
   ]
  },
  {
   "cell_type": "code",
   "execution_count": 14,
   "metadata": {},
   "outputs": [
    {
     "name": "stderr",
     "output_type": "stream",
     "text": [
      "/home/marika/.local/lib/python3.6/site-packages/ipykernel_launcher.py:1: SettingWithCopyWarning: \n",
      "A value is trying to be set on a copy of a slice from a DataFrame.\n",
      "Try using .loc[row_indexer,col_indexer] = value instead\n",
      "\n",
      "See the caveats in the documentation: https://pandas.pydata.org/pandas-docs/stable/user_guide/indexing.html#returning-a-view-versus-a-copy\n",
      "  \"\"\"Entry point for launching an IPython kernel.\n"
     ]
    }
   ],
   "source": [
    "wxs_1['id'] = [ id_to_int[i] for i in wxs_1.wiseX.values ]"
   ]
  },
  {
   "cell_type": "code",
   "execution_count": 16,
   "metadata": {},
   "outputs": [
    {
     "data": {
      "text/plain": [
       "((38374666, 5), (1441454, 5))"
      ]
     },
     "execution_count": 16,
     "metadata": {},
     "output_type": "execute_result"
    }
   ],
   "source": [
    "wxs_0.shape, wxs_1.shape"
   ]
  },
  {
   "cell_type": "code",
   "execution_count": 28,
   "metadata": {},
   "outputs": [
    {
     "data": {
      "text/plain": [
       "['wiseX', 'w1mCorr', 'w1mCorrErr', 'fromAllSky']"
      ]
     },
     "execution_count": 28,
     "metadata": {},
     "output_type": "execute_result"
    }
   ],
   "source": [
    "list(wxs)"
   ]
  },
  {
   "cell_type": "code",
   "execution_count": 32,
   "metadata": {},
   "outputs": [
    {
     "data": {
      "text/html": [
       "<div>\n",
       "<style scoped>\n",
       "    .dataframe tbody tr th:only-of-type {\n",
       "        vertical-align: middle;\n",
       "    }\n",
       "\n",
       "    .dataframe tbody tr th {\n",
       "        vertical-align: top;\n",
       "    }\n",
       "\n",
       "    .dataframe thead th {\n",
       "        text-align: right;\n",
       "    }\n",
       "</style>\n",
       "<table border=\"1\" class=\"dataframe\">\n",
       "  <thead>\n",
       "    <tr style=\"text-align: right;\">\n",
       "      <th></th>\n",
       "      <th>wiseX</th>\n",
       "      <th>w1mCorr</th>\n",
       "      <th>w1mCorrErr</th>\n",
       "      <th>fromAllSky</th>\n",
       "    </tr>\n",
       "  </thead>\n",
       "  <tbody>\n",
       "    <tr>\n",
       "      <th>0</th>\n",
       "      <td>J113821.86-492730.2</td>\n",
       "      <td>15.578</td>\n",
       "      <td>0.044</td>\n",
       "      <td>0</td>\n",
       "    </tr>\n",
       "    <tr>\n",
       "      <th>1</th>\n",
       "      <td>J113829.99-492503.1</td>\n",
       "      <td>15.403</td>\n",
       "      <td>0.037</td>\n",
       "      <td>0</td>\n",
       "    </tr>\n",
       "    <tr>\n",
       "      <th>2</th>\n",
       "      <td>J113821.16-492311.9</td>\n",
       "      <td>15.139</td>\n",
       "      <td>0.036</td>\n",
       "      <td>0</td>\n",
       "    </tr>\n",
       "    <tr>\n",
       "      <th>3</th>\n",
       "      <td>J113817.76-491634.5</td>\n",
       "      <td>15.69</td>\n",
       "      <td>0.039</td>\n",
       "      <td>0</td>\n",
       "    </tr>\n",
       "    <tr>\n",
       "      <th>4</th>\n",
       "      <td>J113823.10-492513.8</td>\n",
       "      <td>15.381</td>\n",
       "      <td>0.038</td>\n",
       "      <td>0</td>\n",
       "    </tr>\n",
       "  </tbody>\n",
       "</table>\n",
       "</div>"
      ],
      "text/plain": [
       "                    wiseX w1mCorr w1mCorrErr fromAllSky\n",
       "0     J113821.86-492730.2  15.578      0.044          0\n",
       "1     J113829.99-492503.1  15.403      0.037          0\n",
       "2     J113821.16-492311.9  15.139      0.036          0\n",
       "3     J113817.76-491634.5   15.69      0.039          0\n",
       "4     J113823.10-492513.8  15.381      0.038          0"
      ]
     },
     "execution_count": 32,
     "metadata": {},
     "output_type": "execute_result"
    }
   ],
   "source": [
    "wxs_new = pd.DataFrame( np.concatenate( ( wxs_0.values[:,:-1], wxs_1[ ~np.in1d( wxs_1.id.values, wxs_0.id.values) ].values[:,:-1] ), axis=0 ), \n",
    "              columns=['wiseX', 'w1mCorr', 'w1mCorrErr', 'fromAllSky'])\n",
    "wxs_new.head()"
   ]
  },
  {
   "cell_type": "code",
   "execution_count": 33,
   "metadata": {},
   "outputs": [],
   "source": [
    "# write out data\n",
    "f_out = 'wise_w1err.txt'\n",
    "wxs_new.to_csv( f_out, sep = '\\t', mode = 'w', header = True, index = False )"
   ]
  },
  {
   "cell_type": "markdown",
   "metadata": {},
   "source": [
    "---------------------------------------------------\n",
    "_______________________________________________________________________________________"
   ]
  },
  {
   "cell_type": "markdown",
   "metadata": {},
   "source": [
    "### Merging the two dataframe"
   ]
  },
  {
   "cell_type": "code",
   "execution_count": 5,
   "metadata": {
    "scrolled": true
   },
   "outputs": [
    {
     "data": {
      "text/html": [
       "<div>\n",
       "<style scoped>\n",
       "    .dataframe tbody tr th:only-of-type {\n",
       "        vertical-align: middle;\n",
       "    }\n",
       "\n",
       "    .dataframe tbody tr th {\n",
       "        vertical-align: top;\n",
       "    }\n",
       "\n",
       "    .dataframe thead th {\n",
       "        text-align: right;\n",
       "    }\n",
       "</style>\n",
       "<table border=\"1\" class=\"dataframe\">\n",
       "  <thead>\n",
       "    <tr style=\"text-align: right;\">\n",
       "      <th></th>\n",
       "      <th>wiseX</th>\n",
       "      <th>w1mCorr</th>\n",
       "      <th>w1mCorrErr</th>\n",
       "    </tr>\n",
       "  </thead>\n",
       "  <tbody>\n",
       "    <tr>\n",
       "      <th>0</th>\n",
       "      <td>J113821.86-492730.2</td>\n",
       "      <td>15.578</td>\n",
       "      <td>0.044</td>\n",
       "    </tr>\n",
       "    <tr>\n",
       "      <th>1</th>\n",
       "      <td>J113829.99-492503.1</td>\n",
       "      <td>15.403</td>\n",
       "      <td>0.037</td>\n",
       "    </tr>\n",
       "    <tr>\n",
       "      <th>2</th>\n",
       "      <td>J113821.16-492311.9</td>\n",
       "      <td>15.139</td>\n",
       "      <td>0.036</td>\n",
       "    </tr>\n",
       "    <tr>\n",
       "      <th>3</th>\n",
       "      <td>J113817.76-491634.5</td>\n",
       "      <td>15.690</td>\n",
       "      <td>0.039</td>\n",
       "    </tr>\n",
       "    <tr>\n",
       "      <th>4</th>\n",
       "      <td>J113823.10-492513.8</td>\n",
       "      <td>15.381</td>\n",
       "      <td>0.038</td>\n",
       "    </tr>\n",
       "  </tbody>\n",
       "</table>\n",
       "</div>"
      ],
      "text/plain": [
       "                    wiseX  w1mCorr  w1mCorrErr\n",
       "0     J113821.86-492730.2   15.578       0.044\n",
       "1     J113829.99-492503.1   15.403       0.037\n",
       "2     J113821.16-492311.9   15.139       0.036\n",
       "3     J113817.76-491634.5   15.690       0.039\n",
       "4     J113823.10-492513.8   15.381       0.038"
      ]
     },
     "execution_count": 5,
     "metadata": {},
     "output_type": "execute_result"
    }
   ],
   "source": [
    "w1err_frame = pd.read_csv( 'wise_w1err.txt', delimiter = '\\t' )\n",
    "w1err_frame.head()"
   ]
  },
  {
   "cell_type": "code",
   "execution_count": 6,
   "metadata": {},
   "outputs": [],
   "source": [
    "w1err_frame['wiseX'] = [ i.strip() for i in w1err_frame.wiseX.values ]"
   ]
  },
  {
   "cell_type": "code",
   "execution_count": 7,
   "metadata": {
    "scrolled": false
   },
   "outputs": [
    {
     "data": {
      "text/plain": [
       "'J113821.86-492730.2'"
      ]
     },
     "execution_count": 7,
     "metadata": {},
     "output_type": "execute_result"
    }
   ],
   "source": [
    "w1err_frame.wiseX.values[0]"
   ]
  },
  {
   "cell_type": "code",
   "execution_count": 8,
   "metadata": {},
   "outputs": [
    {
     "data": {
      "text/plain": [
       "(0.04362310395864908, 0.5379999999999999, 0.012)"
      ]
     },
     "execution_count": 8,
     "metadata": {},
     "output_type": "execute_result"
    }
   ],
   "source": [
    "np.mean( w1err_frame.w1mCorrErr ), np.max( w1err_frame.w1mCorrErr ), np.min( w1err_frame.w1mCorrErr )"
   ]
  },
  {
   "cell_type": "code",
   "execution_count": 9,
   "metadata": {
    "scrolled": false
   },
   "outputs": [
    {
     "data": {
      "text/plain": [
       "0.038"
      ]
     },
     "execution_count": 9,
     "metadata": {},
     "output_type": "execute_result"
    }
   ],
   "source": [
    "np.median( w1err_frame.w1mCorrErr)"
   ]
  },
  {
   "cell_type": "code",
   "execution_count": 22,
   "metadata": {},
   "outputs": [],
   "source": [
    "def hist_form():\n",
    "    fig = plt.figure( figsize = (18, 12), dpi = 100 )\n",
    "    plt.xlabel( '$\\Delta m$ [mag]', fontsize = 47 )\n",
    "    plt.ylabel( 'Frequency', fontsize = 47 )\n",
    "    #plt.xscale('log')\n",
    "    #plt.yscale('log')\n",
    "    #plt.ylim([1e-1, 1e8])\n",
    "    plt.xticks( fontsize = 43 )\n",
    "    plt.yticks( fontsize = 43 )\n",
    "    plt.tick_params( length=10, direction = 'inout', pad = 5 )"
   ]
  },
  {
   "cell_type": "code",
   "execution_count": 23,
   "metadata": {},
   "outputs": [
    {
     "data": {
      "text/plain": [
       "<matplotlib.collections.PathCollection at 0x7f1f0aacb748>"
      ]
     },
     "execution_count": 23,
     "metadata": {},
     "output_type": "execute_result"
    },
    {
     "data": {
      "image/png": "[encoded data removed]",
      "text/plain": [
       "<Figure size 1800x1200 with 1 Axes>"
      ]
     },
     "metadata": {},
     "output_type": "display_data"
    }
   ],
   "source": [
    "# form the figure:\n",
    "hist_form()\n",
    "\n",
    "# make and plot the histograms:\n",
    "freq, bins = np.histogram( w1err_frame.w1mCorrErr, bins=100 )\n",
    "plt.scatter( bins[:-1], freq,  marker = 'x', lw = 1, color = 'forestgreen' )"
   ]
  },
  {
   "cell_type": "code",
   "execution_count": 24,
   "metadata": {
    "scrolled": false
   },
   "outputs": [
    {
     "name": "stdout",
     "output_type": "stream",
     "text": [
      "the columns of the dataframe of galaxies whose have stellar mass from\n",
      "          at least one method:\n",
      " Index(['GWGC', 'Hyp', 'designation', 'wiseX', 'type', 'ra', 'dec', 'Kmag',\n",
      "       'W1', 'W2', 'z', 'lumdis', 'lumdis_err', 'k_m_ext', 'k_msig_ext',\n",
      "       'SMass_Cluver', 'SMass_Kettlety', 'SMass_Jarrett', 'SMass_Cappellari',\n",
      "       'err_SMass_Kettlety', 'err_SMass_Cappellari'],\n",
      "      dtype='object') \n",
      "\n",
      "the length of this dataframe: 21203660 \n",
      "\n",
      "the header:\n"
     ]
    },
    {
     "data": {
      "text/html": [
       "<div>\n",
       "<style scoped>\n",
       "    .dataframe tbody tr th:only-of-type {\n",
       "        vertical-align: middle;\n",
       "    }\n",
       "\n",
       "    .dataframe tbody tr th {\n",
       "        vertical-align: top;\n",
       "    }\n",
       "\n",
       "    .dataframe thead th {\n",
       "        text-align: right;\n",
       "    }\n",
       "</style>\n",
       "<table border=\"1\" class=\"dataframe\">\n",
       "  <thead>\n",
       "    <tr style=\"text-align: right;\">\n",
       "      <th></th>\n",
       "      <th>GWGC</th>\n",
       "      <th>Hyp</th>\n",
       "      <th>designation</th>\n",
       "      <th>wiseX</th>\n",
       "      <th>type</th>\n",
       "      <th>ra</th>\n",
       "      <th>dec</th>\n",
       "      <th>Kmag</th>\n",
       "      <th>W1</th>\n",
       "      <th>W2</th>\n",
       "      <th>...</th>\n",
       "      <th>lumdis</th>\n",
       "      <th>lumdis_err</th>\n",
       "      <th>k_m_ext</th>\n",
       "      <th>k_msig_ext</th>\n",
       "      <th>SMass_Cluver</th>\n",
       "      <th>SMass_Kettlety</th>\n",
       "      <th>SMass_Jarrett</th>\n",
       "      <th>SMass_Cappellari</th>\n",
       "      <th>err_SMass_Kettlety</th>\n",
       "      <th>err_SMass_Cappellari</th>\n",
       "    </tr>\n",
       "  </thead>\n",
       "  <tbody>\n",
       "    <tr>\n",
       "      <th>0</th>\n",
       "      <td>NaN</td>\n",
       "      <td>1102028</td>\n",
       "      <td>00005632-0205221</td>\n",
       "      <td>J000056.39-020523.3</td>\n",
       "      <td>G</td>\n",
       "      <td>0.234695</td>\n",
       "      <td>-2.089495</td>\n",
       "      <td>13.827</td>\n",
       "      <td>14.308</td>\n",
       "      <td>14.035</td>\n",
       "      <td>...</td>\n",
       "      <td>521.341075</td>\n",
       "      <td>NaN</td>\n",
       "      <td>13.633</td>\n",
       "      <td>0.172</td>\n",
       "      <td>2.535866e+10</td>\n",
       "      <td>4.925340e+10</td>\n",
       "      <td>1.429716e+10</td>\n",
       "      <td>2.780576e+11</td>\n",
       "      <td>3.943290e+09</td>\n",
       "      <td>-3.192582e+10</td>\n",
       "    </tr>\n",
       "    <tr>\n",
       "      <th>1</th>\n",
       "      <td>NaN</td>\n",
       "      <td>1112296</td>\n",
       "      <td>23591740-0142134</td>\n",
       "      <td>J235917.43-014213.2</td>\n",
       "      <td>G</td>\n",
       "      <td>359.822540</td>\n",
       "      <td>-1.703735</td>\n",
       "      <td>13.889</td>\n",
       "      <td>13.936</td>\n",
       "      <td>13.822</td>\n",
       "      <td>...</td>\n",
       "      <td>359.314386</td>\n",
       "      <td>NaN</td>\n",
       "      <td>13.724</td>\n",
       "      <td>0.191</td>\n",
       "      <td>3.568311e+10</td>\n",
       "      <td>3.583475e+10</td>\n",
       "      <td>2.109919e+10</td>\n",
       "      <td>1.117994e+11</td>\n",
       "      <td>2.868976e+09</td>\n",
       "      <td>-1.709662e+10</td>\n",
       "    </tr>\n",
       "    <tr>\n",
       "      <th>2</th>\n",
       "      <td>NaN</td>\n",
       "      <td>1113689</td>\n",
       "      <td>NaN</td>\n",
       "      <td>J000014.50-013858.7</td>\n",
       "      <td>G</td>\n",
       "      <td>0.060450</td>\n",
       "      <td>-1.649560</td>\n",
       "      <td>NaN</td>\n",
       "      <td>14.165</td>\n",
       "      <td>13.836</td>\n",
       "      <td>...</td>\n",
       "      <td>959.938689</td>\n",
       "      <td>NaN</td>\n",
       "      <td>NaN</td>\n",
       "      <td>NaN</td>\n",
       "      <td>7.135246e+10</td>\n",
       "      <td>1.556472e+11</td>\n",
       "      <td>3.987521e+10</td>\n",
       "      <td>NaN</td>\n",
       "      <td>1.246131e+10</td>\n",
       "      <td>NaN</td>\n",
       "    </tr>\n",
       "    <tr>\n",
       "      <th>3</th>\n",
       "      <td>NaN</td>\n",
       "      <td>NaN</td>\n",
       "      <td>23581606-0137396</td>\n",
       "      <td>J235816.01-013739.3</td>\n",
       "      <td>G</td>\n",
       "      <td>359.566925</td>\n",
       "      <td>-1.627676</td>\n",
       "      <td>13.638</td>\n",
       "      <td>13.896</td>\n",
       "      <td>13.485</td>\n",
       "      <td>...</td>\n",
       "      <td>976.885557</td>\n",
       "      <td>NaN</td>\n",
       "      <td>13.293</td>\n",
       "      <td>0.203</td>\n",
       "      <td>6.522868e+10</td>\n",
       "      <td>2.050275e+11</td>\n",
       "      <td>3.551412e+10</td>\n",
       "      <td>1.560942e+12</td>\n",
       "      <td>1.641477e+10</td>\n",
       "      <td>-1.737218e+11</td>\n",
       "    </tr>\n",
       "    <tr>\n",
       "      <th>4</th>\n",
       "      <td>NaN</td>\n",
       "      <td>1113236</td>\n",
       "      <td>23575503-0140058</td>\n",
       "      <td>J235755.05-014005.8</td>\n",
       "      <td>G</td>\n",
       "      <td>359.479309</td>\n",
       "      <td>-1.668278</td>\n",
       "      <td>14.267</td>\n",
       "      <td>13.922</td>\n",
       "      <td>13.722</td>\n",
       "      <td>...</td>\n",
       "      <td>788.222607</td>\n",
       "      <td>NaN</td>\n",
       "      <td>13.887</td>\n",
       "      <td>0.235</td>\n",
       "      <td>1.104303e+11</td>\n",
       "      <td>1.415380e+11</td>\n",
       "      <td>6.410814e+10</td>\n",
       "      <td>5.335825e+11</td>\n",
       "      <td>1.133172e+10</td>\n",
       "      <td>-8.859512e+10</td>\n",
       "    </tr>\n",
       "  </tbody>\n",
       "</table>\n",
       "<p>5 rows × 21 columns</p>\n",
       "</div>"
      ],
      "text/plain": [
       "  GWGC      Hyp       designation                wiseX type          ra  \\\n",
       "0  NaN  1102028  00005632-0205221  J000056.39-020523.3    G    0.234695   \n",
       "1  NaN  1112296  23591740-0142134  J235917.43-014213.2    G  359.822540   \n",
       "2  NaN  1113689               NaN  J000014.50-013858.7    G    0.060450   \n",
       "3  NaN      NaN  23581606-0137396  J235816.01-013739.3    G  359.566925   \n",
       "4  NaN  1113236  23575503-0140058  J235755.05-014005.8    G  359.479309   \n",
       "\n",
       "        dec    Kmag      W1      W2  ...      lumdis  lumdis_err  k_m_ext  \\\n",
       "0 -2.089495  13.827  14.308  14.035  ...  521.341075         NaN   13.633   \n",
       "1 -1.703735  13.889  13.936  13.822  ...  359.314386         NaN   13.724   \n",
       "2 -1.649560     NaN  14.165  13.836  ...  959.938689         NaN      NaN   \n",
       "3 -1.627676  13.638  13.896  13.485  ...  976.885557         NaN   13.293   \n",
       "4 -1.668278  14.267  13.922  13.722  ...  788.222607         NaN   13.887   \n",
       "\n",
       "   k_msig_ext  SMass_Cluver  SMass_Kettlety  SMass_Jarrett  SMass_Cappellari  \\\n",
       "0       0.172  2.535866e+10    4.925340e+10   1.429716e+10      2.780576e+11   \n",
       "1       0.191  3.568311e+10    3.583475e+10   2.109919e+10      1.117994e+11   \n",
       "2         NaN  7.135246e+10    1.556472e+11   3.987521e+10               NaN   \n",
       "3       0.203  6.522868e+10    2.050275e+11   3.551412e+10      1.560942e+12   \n",
       "4       0.235  1.104303e+11    1.415380e+11   6.410814e+10      5.335825e+11   \n",
       "\n",
       "   err_SMass_Kettlety  err_SMass_Cappellari  \n",
       "0        3.943290e+09         -3.192582e+10  \n",
       "1        2.868976e+09         -1.709662e+10  \n",
       "2        1.246131e+10                   NaN  \n",
       "3        1.641477e+10         -1.737218e+11  \n",
       "4        1.133172e+10         -8.859512e+10  \n",
       "\n",
       "[5 rows x 21 columns]"
      ]
     },
     "execution_count": 24,
     "metadata": {},
     "output_type": "execute_result"
    }
   ],
   "source": [
    "sm_tot = pd.read_csv( 'total_sm.txt', delimiter= '\\t', low_memory = False )\n",
    "print( \"\"\"the columns of the dataframe of galaxies whose have stellar mass from\n",
    "          at least one method:\\n\"\"\", sm_tot.columns,\n",
    "      '\\n\\nthe length of this dataframe:', len(sm_tot), '\\n\\nthe header:' )\n",
    "sm_tot.head()"
   ]
  },
  {
   "cell_type": "code",
   "execution_count": 25,
   "metadata": {},
   "outputs": [
    {
     "data": {
      "text/plain": [
       "(39816120, 21203660)"
      ]
     },
     "execution_count": 25,
     "metadata": {},
     "output_type": "execute_result"
    }
   ],
   "source": [
    "len(w1err_frame), len(sm_tot)"
   ]
  },
  {
   "cell_type": "raw",
   "metadata": {
    "scrolled": true
   },
   "source": [
    "data = pd.merge( sm_tot, w1err_frame, on=['wiseX'], how='left' )\n",
    "print( 'merged dataframe:\\n' )\n",
    "data.head()"
   ]
  },
  {
   "cell_type": "raw",
   "metadata": {
    "scrolled": true
   },
   "source": [
    "len(sm_tot) - len(data)"
   ]
  },
  {
   "cell_type": "code",
   "execution_count": 26,
   "metadata": {
    "scrolled": true
   },
   "outputs": [
    {
     "name": "stdout",
     "output_type": "stream",
     "text": [
      "merged dataframe:\n",
      "\n"
     ]
    },
    {
     "data": {
      "text/html": [
       "<div>\n",
       "<style scoped>\n",
       "    .dataframe tbody tr th:only-of-type {\n",
       "        vertical-align: middle;\n",
       "    }\n",
       "\n",
       "    .dataframe tbody tr th {\n",
       "        vertical-align: top;\n",
       "    }\n",
       "\n",
       "    .dataframe thead th {\n",
       "        text-align: right;\n",
       "    }\n",
       "</style>\n",
       "<table border=\"1\" class=\"dataframe\">\n",
       "  <thead>\n",
       "    <tr style=\"text-align: right;\">\n",
       "      <th></th>\n",
       "      <th>GWGC</th>\n",
       "      <th>Hyp</th>\n",
       "      <th>designation</th>\n",
       "      <th>wiseX</th>\n",
       "      <th>type</th>\n",
       "      <th>ra</th>\n",
       "      <th>dec</th>\n",
       "      <th>Kmag</th>\n",
       "      <th>W1</th>\n",
       "      <th>W2</th>\n",
       "      <th>...</th>\n",
       "      <th>k_m_ext</th>\n",
       "      <th>k_msig_ext</th>\n",
       "      <th>SMass_Cluver</th>\n",
       "      <th>SMass_Kettlety</th>\n",
       "      <th>SMass_Jarrett</th>\n",
       "      <th>SMass_Cappellari</th>\n",
       "      <th>err_SMass_Kettlety</th>\n",
       "      <th>err_SMass_Cappellari</th>\n",
       "      <th>w1mCorr</th>\n",
       "      <th>w1mCorrErr</th>\n",
       "    </tr>\n",
       "  </thead>\n",
       "  <tbody>\n",
       "    <tr>\n",
       "      <th>0</th>\n",
       "      <td>NaN</td>\n",
       "      <td>1102028</td>\n",
       "      <td>00005632-0205221</td>\n",
       "      <td>J000056.39-020523.3</td>\n",
       "      <td>G</td>\n",
       "      <td>0.234695</td>\n",
       "      <td>-2.089495</td>\n",
       "      <td>13.827</td>\n",
       "      <td>14.308</td>\n",
       "      <td>14.035</td>\n",
       "      <td>...</td>\n",
       "      <td>13.633</td>\n",
       "      <td>0.172</td>\n",
       "      <td>2.535866e+10</td>\n",
       "      <td>4.925340e+10</td>\n",
       "      <td>1.429716e+10</td>\n",
       "      <td>2.780576e+11</td>\n",
       "      <td>3.943290e+09</td>\n",
       "      <td>-3.192582e+10</td>\n",
       "      <td>14.308</td>\n",
       "      <td>0.056</td>\n",
       "    </tr>\n",
       "    <tr>\n",
       "      <th>1</th>\n",
       "      <td>NaN</td>\n",
       "      <td>1112296</td>\n",
       "      <td>23591740-0142134</td>\n",
       "      <td>J235917.43-014213.2</td>\n",
       "      <td>G</td>\n",
       "      <td>359.822540</td>\n",
       "      <td>-1.703735</td>\n",
       "      <td>13.889</td>\n",
       "      <td>13.936</td>\n",
       "      <td>13.822</td>\n",
       "      <td>...</td>\n",
       "      <td>13.724</td>\n",
       "      <td>0.191</td>\n",
       "      <td>3.568311e+10</td>\n",
       "      <td>3.583475e+10</td>\n",
       "      <td>2.109919e+10</td>\n",
       "      <td>1.117994e+11</td>\n",
       "      <td>2.868976e+09</td>\n",
       "      <td>-1.709662e+10</td>\n",
       "      <td>13.936</td>\n",
       "      <td>0.027</td>\n",
       "    </tr>\n",
       "    <tr>\n",
       "      <th>2</th>\n",
       "      <td>NaN</td>\n",
       "      <td>1113689</td>\n",
       "      <td>NaN</td>\n",
       "      <td>J000014.50-013858.7</td>\n",
       "      <td>G</td>\n",
       "      <td>0.060450</td>\n",
       "      <td>-1.649560</td>\n",
       "      <td>NaN</td>\n",
       "      <td>14.165</td>\n",
       "      <td>13.836</td>\n",
       "      <td>...</td>\n",
       "      <td>NaN</td>\n",
       "      <td>NaN</td>\n",
       "      <td>7.135246e+10</td>\n",
       "      <td>1.556472e+11</td>\n",
       "      <td>3.987521e+10</td>\n",
       "      <td>NaN</td>\n",
       "      <td>1.246131e+10</td>\n",
       "      <td>NaN</td>\n",
       "      <td>14.165</td>\n",
       "      <td>0.027</td>\n",
       "    </tr>\n",
       "    <tr>\n",
       "      <th>3</th>\n",
       "      <td>NaN</td>\n",
       "      <td>NaN</td>\n",
       "      <td>23581606-0137396</td>\n",
       "      <td>J235816.01-013739.3</td>\n",
       "      <td>G</td>\n",
       "      <td>359.566925</td>\n",
       "      <td>-1.627676</td>\n",
       "      <td>13.638</td>\n",
       "      <td>13.896</td>\n",
       "      <td>13.485</td>\n",
       "      <td>...</td>\n",
       "      <td>13.293</td>\n",
       "      <td>0.203</td>\n",
       "      <td>6.522868e+10</td>\n",
       "      <td>2.050275e+11</td>\n",
       "      <td>3.551412e+10</td>\n",
       "      <td>1.560942e+12</td>\n",
       "      <td>1.641477e+10</td>\n",
       "      <td>-1.737218e+11</td>\n",
       "      <td>13.896</td>\n",
       "      <td>0.027</td>\n",
       "    </tr>\n",
       "    <tr>\n",
       "      <th>4</th>\n",
       "      <td>NaN</td>\n",
       "      <td>1113236</td>\n",
       "      <td>23575503-0140058</td>\n",
       "      <td>J235755.05-014005.8</td>\n",
       "      <td>G</td>\n",
       "      <td>359.479309</td>\n",
       "      <td>-1.668278</td>\n",
       "      <td>14.267</td>\n",
       "      <td>13.922</td>\n",
       "      <td>13.722</td>\n",
       "      <td>...</td>\n",
       "      <td>13.887</td>\n",
       "      <td>0.235</td>\n",
       "      <td>1.104303e+11</td>\n",
       "      <td>1.415380e+11</td>\n",
       "      <td>6.410814e+10</td>\n",
       "      <td>5.335825e+11</td>\n",
       "      <td>1.133172e+10</td>\n",
       "      <td>-8.859512e+10</td>\n",
       "      <td>13.922</td>\n",
       "      <td>0.027</td>\n",
       "    </tr>\n",
       "  </tbody>\n",
       "</table>\n",
       "<p>5 rows × 23 columns</p>\n",
       "</div>"
      ],
      "text/plain": [
       "  GWGC      Hyp       designation                wiseX type          ra  \\\n",
       "0  NaN  1102028  00005632-0205221  J000056.39-020523.3    G    0.234695   \n",
       "1  NaN  1112296  23591740-0142134  J235917.43-014213.2    G  359.822540   \n",
       "2  NaN  1113689               NaN  J000014.50-013858.7    G    0.060450   \n",
       "3  NaN      NaN  23581606-0137396  J235816.01-013739.3    G  359.566925   \n",
       "4  NaN  1113236  23575503-0140058  J235755.05-014005.8    G  359.479309   \n",
       "\n",
       "        dec    Kmag      W1      W2  ...  k_m_ext  k_msig_ext  SMass_Cluver  \\\n",
       "0 -2.089495  13.827  14.308  14.035  ...   13.633       0.172  2.535866e+10   \n",
       "1 -1.703735  13.889  13.936  13.822  ...   13.724       0.191  3.568311e+10   \n",
       "2 -1.649560     NaN  14.165  13.836  ...      NaN         NaN  7.135246e+10   \n",
       "3 -1.627676  13.638  13.896  13.485  ...   13.293       0.203  6.522868e+10   \n",
       "4 -1.668278  14.267  13.922  13.722  ...   13.887       0.235  1.104303e+11   \n",
       "\n",
       "   SMass_Kettlety  SMass_Jarrett  SMass_Cappellari  err_SMass_Kettlety  \\\n",
       "0    4.925340e+10   1.429716e+10      2.780576e+11        3.943290e+09   \n",
       "1    3.583475e+10   2.109919e+10      1.117994e+11        2.868976e+09   \n",
       "2    1.556472e+11   3.987521e+10               NaN        1.246131e+10   \n",
       "3    2.050275e+11   3.551412e+10      1.560942e+12        1.641477e+10   \n",
       "4    1.415380e+11   6.410814e+10      5.335825e+11        1.133172e+10   \n",
       "\n",
       "   err_SMass_Cappellari  w1mCorr  w1mCorrErr  \n",
       "0         -3.192582e+10   14.308       0.056  \n",
       "1         -1.709662e+10   13.936       0.027  \n",
       "2                   NaN   14.165       0.027  \n",
       "3         -1.737218e+11   13.896       0.027  \n",
       "4         -8.859512e+10   13.922       0.027  \n",
       "\n",
       "[5 rows x 23 columns]"
      ]
     },
     "execution_count": 26,
     "metadata": {},
     "output_type": "execute_result"
    }
   ],
   "source": [
    "data_inner = pd.merge( sm_tot, w1err_frame, on=['wiseX'], how='inner' )\n",
    "print( 'merged dataframe:\\n' )\n",
    "data_inner.head()"
   ]
  },
  {
   "cell_type": "code",
   "execution_count": 27,
   "metadata": {
    "scrolled": true
   },
   "outputs": [
    {
     "data": {
      "text/plain": [
       "2139"
      ]
     },
     "execution_count": 27,
     "metadata": {},
     "output_type": "execute_result"
    }
   ],
   "source": [
    "len(sm_tot[~np.isnan(sm_tot.W1)]) - len(data_inner)"
   ]
  },
  {
   "cell_type": "code",
   "execution_count": 28,
   "metadata": {
    "scrolled": true
   },
   "outputs": [
    {
     "data": {
      "text/plain": [
       "(39816120, 20410315)"
      ]
     },
     "execution_count": 28,
     "metadata": {},
     "output_type": "execute_result"
    }
   ],
   "source": [
    "len(w1err_frame), len(sm_tot[~np.isnan(sm_tot.W1)])"
   ]
  },
  {
   "cell_type": "markdown",
   "metadata": {},
   "source": [
    "#### Checking the magnitudes"
   ]
  },
  {
   "cell_type": "code",
   "execution_count": 31,
   "metadata": {},
   "outputs": [
    {
     "data": {
      "text/plain": [
       "(0.04361852730008143, 0.509, 0.022000000000000002)"
      ]
     },
     "execution_count": 31,
     "metadata": {},
     "output_type": "execute_result"
    }
   ],
   "source": [
    "np.mean( data_inner.w1mCorrErr ), np.max( data_inner.w1mCorrErr ), np.min( data_inner.w1mCorrErr )"
   ]
  },
  {
   "cell_type": "code",
   "execution_count": 30,
   "metadata": {},
   "outputs": [
    {
     "data": {
      "text/plain": [
       "0.038"
      ]
     },
     "execution_count": 30,
     "metadata": {},
     "output_type": "execute_result"
    }
   ],
   "source": [
    "np.median( w1err_frame.w1mCorrErr)"
   ]
  },
  {
   "cell_type": "code",
   "execution_count": 33,
   "metadata": {
    "scrolled": false
   },
   "outputs": [
    {
     "data": {
      "text/plain": [
       "<matplotlib.collections.PathCollection at 0x7f1fa9ff37b8>"
      ]
     },
     "execution_count": 33,
     "metadata": {},
     "output_type": "execute_result"
    },
    {
     "data": {
      "image/png": "[encoded data removed]",
      "text/plain": [
       "<Figure size 1800x1200 with 1 Axes>"
      ]
     },
     "metadata": {},
     "output_type": "display_data"
    }
   ],
   "source": [
    "# form the figure:\n",
    "hist_form()\n",
    "\n",
    "# make and plot the histograms:\n",
    "freq, bins = np.histogram( data_inner.w1mCorrErr, bins=100 )\n",
    "plt.scatter( bins[:-1], freq,  marker = 'x', lw = 1, color = 'forestgreen' )"
   ]
  },
  {
   "cell_type": "code",
   "execution_count": 34,
   "metadata": {},
   "outputs": [
    {
     "data": {
      "text/plain": [
       "<matplotlib.collections.PathCollection at 0x7f1fa9ffea20>"
      ]
     },
     "execution_count": 34,
     "metadata": {},
     "output_type": "execute_result"
    },
    {
     "data": {
      "image/png": "[encoded data removed]",
      "text/plain": [
       "<Figure size 1800x1200 with 1 Axes>"
      ]
     },
     "metadata": {},
     "output_type": "display_data"
    }
   ],
   "source": [
    "# form the figure:\n",
    "hist_form()\n",
    "\n",
    "# make and plot the histograms:\n",
    "freq, bins = np.histogram( data_inner.w1mCorrErr, bins=np.linspace(0, 0.1, 100) )\n",
    "plt.scatter( bins[:-1], freq,  marker = 'x', lw = 1, color = 'forestgreen' )"
   ]
  }
 ],
 "metadata": {
  "kernelspec": {
   "display_name": "Python 3",
   "language": "python",
   "name": "python3"
  },
  "language_info": {
   "codemirror_mode": {
    "name": "ipython",
    "version": 3
   },
   "file_extension": ".py",
   "mimetype": "text/x-python",
   "name": "python",
   "nbconvert_exporter": "python",
   "pygments_lexer": "ipython3",
   "version": "3.6.9"
  }
 },
 "nbformat": 4,
 "nbformat_minor": 4
}
