{
 "cells": [
  {
   "cell_type": "markdown",
   "metadata": {},
   "source": [
    "# Stellar mass estimation for the GLADE+ galaxies"
   ]
  },
  {
   "cell_type": "markdown",
   "metadata": {},
   "source": [
    "This notebook contains the stellar mass estimation for the GLADE+ galaxies with two different methods, the comparison of them, some other analysis and the calculation of the merger rate of compact binaries based on the stellar mass.\n",
    "\n",
    "The code was written by Mária Pálfi (marika97@caesar.elte.hu)."
   ]
  },
  {
   "cell_type": "code",
   "execution_count": 1,
   "metadata": {},
   "outputs": [],
   "source": [
    "# importing useful packages\n",
    "import numpy as np\n",
    "import matplotlib.pyplot as plt\n",
    "import pandas as pd\n",
    "import copy\n",
    "import math\n",
    "from scipy.optimize import curve_fit\n",
    "import seaborn as sns\n",
    "plt.style.use('seaborn-white') # set figure style"
   ]
  },
  {
   "cell_type": "markdown",
   "metadata": {},
   "source": [
    "# Reading the catalog\n",
    "\n",
    "This catalog was created by the *create_working_catalog.ipynb*."
   ]
  },
  {
   "cell_type": "code",
   "execution_count": 2,
   "metadata": {
    "scrolled": false
   },
   "outputs": [
    {
     "name": "stdout",
     "output_type": "stream",
     "text": [
      "dataframe with the necessary columns:\n",
      "\n"
     ]
    },
    {
     "data": {
      "text/html": [
       "<div>\n",
       "<style scoped>\n",
       "    .dataframe tbody tr th:only-of-type {\n",
       "        vertical-align: middle;\n",
       "    }\n",
       "\n",
       "    .dataframe tbody tr th {\n",
       "        vertical-align: top;\n",
       "    }\n",
       "\n",
       "    .dataframe thead th {\n",
       "        text-align: right;\n",
       "    }\n",
       "</style>\n",
       "<table border=\"1\" class=\"dataframe\">\n",
       "  <thead>\n",
       "    <tr style=\"text-align: right;\">\n",
       "      <th></th>\n",
       "      <th>GWGC</th>\n",
       "      <th>Hyp</th>\n",
       "      <th>2MASS</th>\n",
       "      <th>wiseX</th>\n",
       "      <th>type</th>\n",
       "      <th>ra</th>\n",
       "      <th>dec</th>\n",
       "      <th>W1</th>\n",
       "      <th>W1_err</th>\n",
       "      <th>z</th>\n",
       "      <th>flag</th>\n",
       "      <th>z_err</th>\n",
       "      <th>lumdis</th>\n",
       "      <th>lumdis_err</th>\n",
       "      <th>gal_type</th>\n",
       "      <th>num</th>\n",
       "    </tr>\n",
       "  </thead>\n",
       "  <tbody>\n",
       "    <tr>\n",
       "      <th>0</th>\n",
       "      <td>NGC4736</td>\n",
       "      <td>NGC4736</td>\n",
       "      <td>12505314+4107125</td>\n",
       "      <td>J125053.14+410712.7</td>\n",
       "      <td>G</td>\n",
       "      <td>192.721451</td>\n",
       "      <td>41.120152</td>\n",
       "      <td>5.611000</td>\n",
       "      <td>NaN</td>\n",
       "      <td>0.000991</td>\n",
       "      <td>0.0</td>\n",
       "      <td>0.000029</td>\n",
       "      <td>4.392418</td>\n",
       "      <td>0.127479</td>\n",
       "      <td>1.0</td>\n",
       "      <td>0.0</td>\n",
       "    </tr>\n",
       "    <tr>\n",
       "      <th>1</th>\n",
       "      <td>NGC4548</td>\n",
       "      <td>NGC4548</td>\n",
       "      <td>12352642+1429467</td>\n",
       "      <td>J123526.45+142946.9</td>\n",
       "      <td>G</td>\n",
       "      <td>188.860123</td>\n",
       "      <td>14.496320</td>\n",
       "      <td>9.416000</td>\n",
       "      <td>NaN</td>\n",
       "      <td>0.004120</td>\n",
       "      <td>1.0</td>\n",
       "      <td>0.000119</td>\n",
       "      <td>15.876007</td>\n",
       "      <td>0.532731</td>\n",
       "      <td>1.0</td>\n",
       "      <td>1.0</td>\n",
       "    </tr>\n",
       "    <tr>\n",
       "      <th>2</th>\n",
       "      <td>NGC6503</td>\n",
       "      <td>NGC6503</td>\n",
       "      <td>17492651+7008396</td>\n",
       "      <td>J174926.45+700840.8</td>\n",
       "      <td>G</td>\n",
       "      <td>267.360474</td>\n",
       "      <td>70.144341</td>\n",
       "      <td>10.180000</td>\n",
       "      <td>NaN</td>\n",
       "      <td>0.001000</td>\n",
       "      <td>1.0</td>\n",
       "      <td>0.000029</td>\n",
       "      <td>12.446600</td>\n",
       "      <td>0.128670</td>\n",
       "      <td>1.0</td>\n",
       "      <td>2.0</td>\n",
       "    </tr>\n",
       "    <tr>\n",
       "      <th>3</th>\n",
       "      <td>NGC4442</td>\n",
       "      <td>NGC4442</td>\n",
       "      <td>12280389+0948130</td>\n",
       "      <td>J122803.90+094813.3</td>\n",
       "      <td>G</td>\n",
       "      <td>187.016220</td>\n",
       "      <td>9.803620</td>\n",
       "      <td>8.476000</td>\n",
       "      <td>NaN</td>\n",
       "      <td>0.003557</td>\n",
       "      <td>1.0</td>\n",
       "      <td>0.000103</td>\n",
       "      <td>11.461371</td>\n",
       "      <td>0.459550</td>\n",
       "      <td>0.0</td>\n",
       "      <td>3.0</td>\n",
       "    </tr>\n",
       "    <tr>\n",
       "      <th>4</th>\n",
       "      <td>NGC4469</td>\n",
       "      <td>NGC4469</td>\n",
       "      <td>NaN</td>\n",
       "      <td>J122928.05+084500.8</td>\n",
       "      <td>G</td>\n",
       "      <td>187.367000</td>\n",
       "      <td>8.749890</td>\n",
       "      <td>9.784000</td>\n",
       "      <td>NaN</td>\n",
       "      <td>0.004139</td>\n",
       "      <td>1.0</td>\n",
       "      <td>0.000120</td>\n",
       "      <td>15.180920</td>\n",
       "      <td>0.535217</td>\n",
       "      <td>1.0</td>\n",
       "      <td>4.0</td>\n",
       "    </tr>\n",
       "    <tr>\n",
       "      <th>...</th>\n",
       "      <td>...</td>\n",
       "      <td>...</td>\n",
       "      <td>...</td>\n",
       "      <td>...</td>\n",
       "      <td>...</td>\n",
       "      <td>...</td>\n",
       "      <td>...</td>\n",
       "      <td>...</td>\n",
       "      <td>...</td>\n",
       "      <td>...</td>\n",
       "      <td>...</td>\n",
       "      <td>...</td>\n",
       "      <td>...</td>\n",
       "      <td>...</td>\n",
       "      <td>...</td>\n",
       "      <td>...</td>\n",
       "    </tr>\n",
       "    <tr>\n",
       "      <th>23181753</th>\n",
       "      <td>NaN</td>\n",
       "      <td>NaN</td>\n",
       "      <td>NaN</td>\n",
       "      <td>NaN</td>\n",
       "      <td>Q</td>\n",
       "      <td>359.999118</td>\n",
       "      <td>28.954734</td>\n",
       "      <td>17.728901</td>\n",
       "      <td>NaN</td>\n",
       "      <td>2.452000</td>\n",
       "      <td>0.0</td>\n",
       "      <td>0.113916</td>\n",
       "      <td>20403.464630</td>\n",
       "      <td>1152.204222</td>\n",
       "      <td>NaN</td>\n",
       "      <td>NaN</td>\n",
       "    </tr>\n",
       "    <tr>\n",
       "      <th>23181754</th>\n",
       "      <td>NaN</td>\n",
       "      <td>NaN</td>\n",
       "      <td>NaN</td>\n",
       "      <td>NaN</td>\n",
       "      <td>Q</td>\n",
       "      <td>359.999303</td>\n",
       "      <td>34.720842</td>\n",
       "      <td>16.933657</td>\n",
       "      <td>NaN</td>\n",
       "      <td>3.109000</td>\n",
       "      <td>0.0</td>\n",
       "      <td>0.135597</td>\n",
       "      <td>27158.368406</td>\n",
       "      <td>1423.972156</td>\n",
       "      <td>NaN</td>\n",
       "      <td>NaN</td>\n",
       "    </tr>\n",
       "    <tr>\n",
       "      <th>23181755</th>\n",
       "      <td>NaN</td>\n",
       "      <td>NaN</td>\n",
       "      <td>NaN</td>\n",
       "      <td>NaN</td>\n",
       "      <td>Q</td>\n",
       "      <td>359.999615</td>\n",
       "      <td>3.268586</td>\n",
       "      <td>14.833991</td>\n",
       "      <td>NaN</td>\n",
       "      <td>1.232962</td>\n",
       "      <td>0.0</td>\n",
       "      <td>0.073688</td>\n",
       "      <td>8792.439985</td>\n",
       "      <td>652.241875</td>\n",
       "      <td>NaN</td>\n",
       "      <td>NaN</td>\n",
       "    </tr>\n",
       "    <tr>\n",
       "      <th>23181756</th>\n",
       "      <td>NaN</td>\n",
       "      <td>NaN</td>\n",
       "      <td>NaN</td>\n",
       "      <td>NaN</td>\n",
       "      <td>Q</td>\n",
       "      <td>359.999759</td>\n",
       "      <td>20.721079</td>\n",
       "      <td>16.979166</td>\n",
       "      <td>NaN</td>\n",
       "      <td>2.009865</td>\n",
       "      <td>0.0</td>\n",
       "      <td>0.099325</td>\n",
       "      <td>16022.500633</td>\n",
       "      <td>970.465889</td>\n",
       "      <td>NaN</td>\n",
       "      <td>NaN</td>\n",
       "    </tr>\n",
       "    <tr>\n",
       "      <th>23181757</th>\n",
       "      <td>NaN</td>\n",
       "      <td>NaN</td>\n",
       "      <td>NaN</td>\n",
       "      <td>NaN</td>\n",
       "      <td>Q</td>\n",
       "      <td>359.999954</td>\n",
       "      <td>34.747133</td>\n",
       "      <td>16.856348</td>\n",
       "      <td>NaN</td>\n",
       "      <td>2.375000</td>\n",
       "      <td>0.0</td>\n",
       "      <td>0.111375</td>\n",
       "      <td>19629.730536</td>\n",
       "      <td>1120.493021</td>\n",
       "      <td>NaN</td>\n",
       "      <td>NaN</td>\n",
       "    </tr>\n",
       "  </tbody>\n",
       "</table>\n",
       "<p>23181758 rows × 16 columns</p>\n",
       "</div>"
      ],
      "text/plain": [
       "             GWGC      Hyp             2MASS                wiseX type  \\\n",
       "0         NGC4736  NGC4736  12505314+4107125  J125053.14+410712.7    G   \n",
       "1         NGC4548  NGC4548  12352642+1429467  J123526.45+142946.9    G   \n",
       "2         NGC6503  NGC6503  17492651+7008396  J174926.45+700840.8    G   \n",
       "3         NGC4442  NGC4442  12280389+0948130  J122803.90+094813.3    G   \n",
       "4         NGC4469  NGC4469               NaN  J122928.05+084500.8    G   \n",
       "...           ...      ...               ...                  ...  ...   \n",
       "23181753      NaN      NaN               NaN                  NaN    Q   \n",
       "23181754      NaN      NaN               NaN                  NaN    Q   \n",
       "23181755      NaN      NaN               NaN                  NaN    Q   \n",
       "23181756      NaN      NaN               NaN                  NaN    Q   \n",
       "23181757      NaN      NaN               NaN                  NaN    Q   \n",
       "\n",
       "                  ra        dec         W1  W1_err         z  flag     z_err  \\\n",
       "0         192.721451  41.120152   5.611000     NaN  0.000991   0.0  0.000029   \n",
       "1         188.860123  14.496320   9.416000     NaN  0.004120   1.0  0.000119   \n",
       "2         267.360474  70.144341  10.180000     NaN  0.001000   1.0  0.000029   \n",
       "3         187.016220   9.803620   8.476000     NaN  0.003557   1.0  0.000103   \n",
       "4         187.367000   8.749890   9.784000     NaN  0.004139   1.0  0.000120   \n",
       "...              ...        ...        ...     ...       ...   ...       ...   \n",
       "23181753  359.999118  28.954734  17.728901     NaN  2.452000   0.0  0.113916   \n",
       "23181754  359.999303  34.720842  16.933657     NaN  3.109000   0.0  0.135597   \n",
       "23181755  359.999615   3.268586  14.833991     NaN  1.232962   0.0  0.073688   \n",
       "23181756  359.999759  20.721079  16.979166     NaN  2.009865   0.0  0.099325   \n",
       "23181757  359.999954  34.747133  16.856348     NaN  2.375000   0.0  0.111375   \n",
       "\n",
       "                lumdis   lumdis_err  gal_type  num  \n",
       "0             4.392418     0.127479       1.0  0.0  \n",
       "1            15.876007     0.532731       1.0  1.0  \n",
       "2            12.446600     0.128670       1.0  2.0  \n",
       "3            11.461371     0.459550       0.0  3.0  \n",
       "4            15.180920     0.535217       1.0  4.0  \n",
       "...                ...          ...       ...  ...  \n",
       "23181753  20403.464630  1152.204222       NaN  NaN  \n",
       "23181754  27158.368406  1423.972156       NaN  NaN  \n",
       "23181755   8792.439985   652.241875       NaN  NaN  \n",
       "23181756  16022.500633   970.465889       NaN  NaN  \n",
       "23181757  19629.730536  1120.493021       NaN  NaN  \n",
       "\n",
       "[23181758 rows x 16 columns]"
      ]
     },
     "execution_count": 2,
     "metadata": {},
     "output_type": "execute_result"
    }
   ],
   "source": [
    "# reading the file to 'data' pandas dataframe\n",
    "data = pd.read_csv( 'data_for_work.txt', delimiter = '\\t', low_memory = False )\n",
    "print( 'dataframe with the necessary columns:\\n' )\n",
    "data"
   ]
  },
  {
   "cell_type": "code",
   "execution_count": 3,
   "metadata": {
    "scrolled": true
   },
   "outputs": [
    {
     "data": {
      "text/plain": [
       "Index(['GWGC', 'Hyp', '2MASS', 'wiseX', 'type', 'ra', 'dec', 'W1', 'W1_err',\n",
       "       'z', 'flag', 'z_err', 'lumdis', 'lumdis_err', 'gal_type', 'num'],\n",
       "      dtype='object')"
      ]
     },
     "execution_count": 3,
     "metadata": {},
     "output_type": "execute_result"
    }
   ],
   "source": [
    "data.columns"
   ]
  },
  {
   "cell_type": "markdown",
   "metadata": {},
   "source": [
    "## Filtration"
   ]
  },
  {
   "cell_type": "code",
   "execution_count": 4,
   "metadata": {
    "scrolled": false
   },
   "outputs": [
    {
     "name": "stdout",
     "output_type": "stream",
     "text": [
      "Length with galaxies only: 22431348\n",
      "Length with known luminosty distance: 21884742\n",
      "Number of galaxies with z < 0.003: 21880292\n",
      "Length with W1: 21779322\n"
     ]
    }
   ],
   "source": [
    "# We need only the galaxies, therefore we filtrate the quasars ('Q'):\n",
    "data_new = copy.deepcopy( data[ data.type != 'Q' ] )\n",
    "print('Length with galaxies only:', data_new.shape[0])\n",
    "# we need galaxies having luminosity distance:\n",
    "data_new = data_new[ ~np.isnan(data_new.lumdis) ] \n",
    "print( 'Length with known luminosty distance:', data_new.shape[0])\n",
    "# Kettlety et al. also filtrated the z < 0.003 galaxies,\n",
    "# because they may be stellar contamintaion.\n",
    "data_new = data_new[data_new.z > 0.003 ]\n",
    "print( 'Number of galaxies with z < 0.003:', len( data_new ))\n",
    "# We need the WISE magnitude (from the original dataframe):\n",
    "data_new = data_new[ ~np.isnan(data_new.W1) ]\n",
    "print('Length with W1:', data_new.shape[0])"
   ]
  },
  {
   "cell_type": "code",
   "execution_count": 5,
   "metadata": {
    "scrolled": true
   },
   "outputs": [
    {
     "name": "stdout",
     "output_type": "stream",
     "text": [
      "Galaxies with known luminosity distance error: 21779082\n"
     ]
    }
   ],
   "source": [
    "print( 'Galaxies with known luminosity distance error:', len(data_new[~np.isnan(data_new.lumdis_err)]) )"
   ]
  },
  {
   "cell_type": "markdown",
   "metadata": {},
   "source": [
    "Passive (elliptical) galaxies:"
   ]
  },
  {
   "cell_type": "code",
   "execution_count": 6,
   "metadata": {
    "scrolled": true
   },
   "outputs": [
    {
     "data": {
      "text/plain": [
       "799703"
      ]
     },
     "execution_count": 6,
     "metadata": {},
     "output_type": "execute_result"
    }
   ],
   "source": [
    "len( data_new[ data_new.gal_type == 0 ] )"
   ]
  },
  {
   "cell_type": "markdown",
   "metadata": {},
   "source": [
    "Active (spiral) galaxies:"
   ]
  },
  {
   "cell_type": "code",
   "execution_count": 7,
   "metadata": {},
   "outputs": [
    {
     "data": {
      "text/plain": [
       "18351034"
      ]
     },
     "execution_count": 7,
     "metadata": {},
     "output_type": "execute_result"
    }
   ],
   "source": [
    "len( data_new[ data_new.gal_type == 1 ] )"
   ]
  },
  {
   "cell_type": "markdown",
   "metadata": {},
   "source": [
    "There are galaxies having no type:"
   ]
  },
  {
   "cell_type": "code",
   "execution_count": 8,
   "metadata": {
    "scrolled": true
   },
   "outputs": [
    {
     "data": {
      "text/plain": [
       "2628585"
      ]
     },
     "execution_count": 8,
     "metadata": {},
     "output_type": "execute_result"
    }
   ],
   "source": [
    "len( data_new[ np.isnan( data_new.gal_type ) ] )"
   ]
  },
  {
   "cell_type": "markdown",
   "metadata": {},
   "source": [
    "## Estimaing the stellar mass via Kettlety's method\n",
    "Kettlety et al. 2018. (MNRAS 473, 776–783 (2018), doi:10.1093/mnras/stx2379)\n",
    "\n",
    "### For passive galaxies:\n",
    "$$M_*/L_{W1} = 0.65 \\pm 0.07$$\n",
    "\n",
    "$$M_* = 0.65 \\cdot L_{W1}$$\n",
    "\n",
    "This is best for z $\\leq$ 0.15.\n",
    "\n",
    "$$L_{W1} (L_{Sun}) = 10^{−0.4(M −M_{Sun} )},$$  \n",
    "\n",
    "$$M_{Sun} = 3.24$$ \n",
    "\n",
    "$M$ is the absolute magnitude measured in the W1 filter.\n",
    "\n",
    "(It was first published in Norris et al. (2014) (Norris M. A., Meidt S., van de Ven G., Schinnerer E, Groves B., Querejeta M., 2014, ApJ, 797, 55).)\n",
    "\n",
    "I calculate the absolute magnitude:\n",
    "\n",
    "$$m-M = -5+5 \\lg d,$$ \n",
    "\n",
    "$$M = m+5-5 \\lg d,$$\n",
    "\n",
    "where $m$ is the apparent magnitude, $d$ is the distance (luminosity distance).\n",
    "\n",
    "#### K correction\n",
    "With the K correction of the absolute magnitude we can take into account the shifting of the band because of the expansion of the Universe. This means that we measure the light emitted in 'x' band in 'y' band. \n",
    "\n",
    "According to Hogg et al. 2002. (https://arxiv.org/abs/astro-ph/0210394):\n",
    "\n",
    "$$m_R = M_Q + DM + K_{QR},$$\n",
    "\n",
    "where $m_R$ is the apparent magnitude measured in band $R$, $M_Q$ is the absolute magnitude emitted in band $Q$, $K_{QR}$ is the K correction and DM is the distance modulus:\n",
    "\n",
    "$$DM = 5 \\cdot \\lg \\frac{D_L}{10 ~pc},$$\n",
    "\n",
    "where $D_L$ is the luminosity distance.\n",
    "\n",
    "In Kettlety et al. 2018.:\n",
    "\n",
    "$$K_ {W1} = - 7.1 \\lg( 1 + z )$$\n",
    "\n",
    "The **stellar mass** can be calculated from the WISE W1 magnitude (m) as:\n",
    "$$M_* = 0.65 \\cdot 10^{-0.4[m+5-5\\lg d + 7.1\\lg(1+z)-3.24]}$$\n",
    "\n",
    "\n",
    "### For active galaxies:\n",
    "$$ \\lg(M_*/L_{W1}) = -0.4 \\pm 0.2$$\n",
    "\n",
    "$$ M_* = 10^{-0.4} \\cdot L_{W1}$$\n",
    "\n",
    "\n",
    "### The uncertainty:\n",
    "$$\\Delta M_*(a,m,d,z) = M_* \\cdot \\sqrt{ \\left(\\frac{\\Delta a}{a} \\right)^2 + |0.4 \\cdot \\ln(10)|^2 \\cdot \\Delta m^2+4\\cdot \\left( \\frac{\\Delta d}{d}\\right)^2 + (0.4\\cdot 0.71)^2 \\cdot \\left( \\frac{\\Delta z}{|1+z|}\\right)^2},$$\n",
    "where $\\Delta a = 0.07$."
   ]
  },
  {
   "cell_type": "code",
   "execution_count": 9,
   "metadata": {
    "scrolled": true
   },
   "outputs": [
    {
     "name": "stdout",
     "output_type": "stream",
     "text": [
      "absolute magnitude in the W1 band without K correction:\n",
      "1   -21.587706\n",
      "3   -21.820183\n",
      "4   -21.122490\n",
      "5   -20.092803\n",
      "6   -21.407693\n",
      "dtype: float64\n",
      "\n",
      "K corrected absolute W1 magnitudes according to Kettlety:\n",
      "1   -21.575030\n",
      "3   -21.809235\n",
      "4   -21.109755\n",
      "5   -20.082583\n",
      "6   -21.394339\n",
      "dtype: float64\n",
      "\n",
      "$L_{W1}$ luminosity:\n",
      "1    8.433579e+09\n",
      "3    1.046391e+10\n",
      "4    5.494170e+09\n",
      "5    2.133208e+09\n",
      "6    7.140614e+09\n",
      "dtype: float64\n"
     ]
    }
   ],
   "source": [
    "# absolute magnitude in the W1 band without K correction:\n",
    "M1_wKc = data_new.W1 + 5 - 5 * np.log10( data_new.lumdis*1e6 )\n",
    "print( 'absolute magnitude in the W1 band without K correction:' )\n",
    "print( M1_wKc[:5] )\n",
    "\n",
    "# K correction for W1 magnitudes according to Kettlety:\n",
    "M1_Kettlety = M1_wKc + 7.1 * np.log10(1+data_new.z) \n",
    "print( '\\nK corrected absolute W1 magnitudes according to Kettlety:' )\n",
    "print( M1_Kettlety[:5] )\n",
    "\n",
    "# W1 band luminosity:\n",
    "M_sun = 3.24\n",
    "print( '\\n$L_{W1}$ luminosity:' )\n",
    "L_W1_Kettlety = 10**( -0.4 * ( M1_Kettlety - M_sun ) )\n",
    "print( L_W1_Kettlety[:5] )"
   ]
  },
  {
   "cell_type": "code",
   "execution_count": 10,
   "metadata": {},
   "outputs": [],
   "source": [
    "filt_passive = data_new.gal_type == 0\n",
    "filt_active = data_new.gal_type != 0"
   ]
  },
  {
   "cell_type": "code",
   "execution_count": 11,
   "metadata": {
    "scrolled": false
   },
   "outputs": [],
   "source": [
    "# stellar mass for passive galaxies:\n",
    "M_Kettlety = 0.65*L_W1_Kettlety[ filt_passive ]\n",
    "# stellar mass for active galaxies:\n",
    "M_Kettlety_active = 10**(-0.4)*L_W1_Kettlety[ filt_active ]\n",
    "M_Kettlety = pd.concat( [ M_Kettlety, M_Kettlety_active ] )\n",
    "data_new[ 'sm' ] = M_Kettlety"
   ]
  },
  {
   "cell_type": "code",
   "execution_count": 12,
   "metadata": {
    "scrolled": false
   },
   "outputs": [
    {
     "data": {
      "text/plain": [
       "0"
      ]
     },
     "execution_count": 12,
     "metadata": {},
     "output_type": "execute_result"
    }
   ],
   "source": [
    "# Is there any too small stellar mass?\n",
    "np.sum( data_new.sm < 1e5 )"
   ]
  },
  {
   "cell_type": "markdown",
   "metadata": {},
   "source": [
    "## Function for error propagation with correlation\n",
    "\n",
    "We approximate the error with the standard deviation, $\\sigma_f$, calculated from \n",
    "\n",
    "$$\\sigma_f^2 \\approx \\sum_{i=1}^n \\left|\\frac{\\partial f}{\\partial x_i}\\right|^2 \\sigma_i^2 + 2 \\cdot \\sum_{j=1}^n \\sum_{k>j}^n \\frac{\\partial f}{\\partial x_j} \\frac{\\partial f}{\\partial x_k} \\sigma_j \\sigma_k \\rho_{ij},\n",
    "$$\n",
    "\n",
    "where $f$ is a function of $x_i$ variables with $\\sigma_i$ uncertainty, $\\rho$ is the correlation coefficient of $i$ and $j$ variable."
   ]
  },
  {
   "cell_type": "code",
   "execution_count": 13,
   "metadata": {},
   "outputs": [],
   "source": [
    "def error_estimator_var( derivative, var, size, N ):\n",
    "    summa_var = np.zeros( size )\n",
    "    for i in range( 0, N ):\n",
    "        summa_var += derivative[i]**2 * var[i]**2\n",
    "    return summa_var\n",
    "        \n",
    "        \n",
    "def error_estimator_covar( derivative, var, corr_coef, size, N ):\n",
    "    summa_covar = np.zeros( size )\n",
    "    for j in range( 0, N ):\n",
    "        for k in range( j+1, N ):\n",
    "            summa_covar += derivative[j] * derivative[k] * var[j] * var[k] * corr_coef[j][k]\n",
    "    return 2 * summa_covar"
   ]
  },
  {
   "cell_type": "markdown",
   "metadata": {},
   "source": [
    "If there is no W1 mag error, I use the mean $\\Delta m$."
   ]
  },
  {
   "cell_type": "code",
   "execution_count": 14,
   "metadata": {
    "scrolled": false
   },
   "outputs": [],
   "source": [
    "data_new.W1_err.fillna(np.mean(data_new.W1_err), inplace = True )"
   ]
  },
  {
   "cell_type": "markdown",
   "metadata": {},
   "source": [
    "If there is no luminosity distance error, I use the mean $\\Delta d$."
   ]
  },
  {
   "cell_type": "code",
   "execution_count": 15,
   "metadata": {},
   "outputs": [],
   "source": [
    "data_new.lumdis_err.fillna(np.mean(data_new.lumdis_err), inplace = True )"
   ]
  },
  {
   "cell_type": "markdown",
   "metadata": {},
   "source": [
    "The terms in the error propagation:"
   ]
  },
  {
   "cell_type": "code",
   "execution_count": 16,
   "metadata": {},
   "outputs": [],
   "source": [
    "data_new_passive = data_new[ filt_passive ]\n",
    "data_new_active = data_new[ filt_active ]\n",
    "M_Kettlety_passive = M_Kettlety[ filt_passive ]"
   ]
  },
  {
   "cell_type": "code",
   "execution_count": 17,
   "metadata": {},
   "outputs": [],
   "source": [
    "log_passive = np.log(10)*M_Kettlety_passive\n",
    "log_active = np.log(10)*M_Kettlety_active\n",
    "\n",
    "Kettlety_der_a_passive = M_Kettlety_passive/0.65\n",
    "Kettlety_der_a_active = log_active\n",
    "Kettlety_der_m_passive = -0.4 * log_passive\n",
    "Kettlety_der_m_active = -0.4 * log_active\n",
    "Kettlety_der_d_passive = 2*M_Kettlety_passive/data_new_passive.lumdis\n",
    "Kettlety_der_d_active = 2*M_Kettlety_active/data_new_active.lumdis\n",
    "Kettlety_der_z_passive = -2.84*M_Kettlety_passive/(1+data_new_passive.z)\n",
    "Kettlety_der_z_active = -2.84*M_Kettlety_active/(1+data_new_active.z)\n",
    "\n",
    "Kettlety_der_passive = [ Kettlety_der_a_passive, Kettlety_der_m_passive,\n",
    "                        Kettlety_der_d_passive, Kettlety_der_z_passive ]\n",
    "Kettlety_der_active = [ Kettlety_der_a_active, Kettlety_der_m_active, \n",
    "                       Kettlety_der_d_active, Kettlety_der_z_active ]\n",
    "Kettlety_var_passive = [ 0.07, (data_new_passive.W1_err),\n",
    "                        (data_new_passive.lumdis_err), (data_new_passive.z_err)]\n",
    "Kettlety_var_active = [ (0.2), (data_new_active.W1_err),\n",
    "                       (data_new_active.lumdis_err), (data_new_active.z_err) ]\n",
    "Kettlety_var_err_passive = error_estimator_var( Kettlety_der_passive, Kettlety_var_passive,\n",
    "                                               len(data_new_passive), 4 )\n",
    "Kettlety_var_err_active = error_estimator_var( Kettlety_der_active, Kettlety_var_active,\n",
    "                                              len(data_new_active), 4 )"
   ]
  },
  {
   "cell_type": "markdown",
   "metadata": {},
   "source": [
    "Correlation coefficients:\n",
    "\n",
    "$a$ does not correlate with the other terms."
   ]
  },
  {
   "cell_type": "code",
   "execution_count": 18,
   "metadata": {},
   "outputs": [],
   "source": [
    "corr_coef_m = [data_new.W1.corr(data_new.W1), \n",
    "                data_new.W1.corr(data_new.lumdis), data_new.W1.corr(data_new.z)]\n",
    "corr_coef_d = [data_new.lumdis.corr(data_new.W1), \n",
    "                data_new.lumdis.corr(data_new.lumdis), data_new.lumdis.corr(data_new.z)]\n",
    "\n",
    "Kettlety_corr_coef = [ corr_coef_m, corr_coef_d ]"
   ]
  },
  {
   "cell_type": "markdown",
   "metadata": {},
   "source": [
    "Calculating the errors:"
   ]
  },
  {
   "cell_type": "code",
   "execution_count": 19,
   "metadata": {},
   "outputs": [],
   "source": [
    "Kettlety_covar_err_passive = error_estimator_covar(Kettlety_der_passive[1:], Kettlety_var_passive[1:], \n",
    "                                                   Kettlety_corr_coef, len(data_new_passive), 3)\n",
    "Kettlety_covar_err_active = error_estimator_covar(Kettlety_der_active[1:], Kettlety_var_active[1:], \n",
    "                                                   Kettlety_corr_coef, len(data_new_active), 3)\n",
    "\n",
    "Kettlety_err_passive = np.sqrt(Kettlety_var_err_passive)\n",
    "Kettlety_err_active = np.sqrt(Kettlety_var_err_active)\n",
    "Kettlety_err_corr_passive = np.sqrt( Kettlety_var_err_passive + Kettlety_covar_err_passive )\n",
    "Kettlety_err_corr_active = np.sqrt( Kettlety_var_err_active + Kettlety_covar_err_active )\n",
    "\n",
    "rel_err_M_Kettlety_passive = Kettlety_err_passive/M_Kettlety_passive\n",
    "rel_err_M_Kettlety_active = Kettlety_err_active/M_Kettlety_active\n",
    "rel_corr_err_M_Kettlety_passive = Kettlety_err_corr_passive/M_Kettlety_passive\n",
    "rel_corr_err_M_Kettlety_active = Kettlety_err_corr_active/M_Kettlety_active"
   ]
  },
  {
   "cell_type": "markdown",
   "metadata": {},
   "source": [
    "How many galaxies have stellar mass from this method?"
   ]
  },
  {
   "cell_type": "code",
   "execution_count": 20,
   "metadata": {
    "scrolled": true
   },
   "outputs": [
    {
     "data": {
      "text/plain": [
       "21779322"
      ]
     },
     "execution_count": 20,
     "metadata": {},
     "output_type": "execute_result"
    }
   ],
   "source": [
    "len(M_Kettlety)"
   ]
  },
  {
   "cell_type": "markdown",
   "metadata": {},
   "source": [
    "Median error:"
   ]
  },
  {
   "cell_type": "code",
   "execution_count": 21,
   "metadata": {
    "scrolled": false
   },
   "outputs": [
    {
     "data": {
      "text/plain": [
       "0.32503687598031045"
      ]
     },
     "execution_count": 21,
     "metadata": {},
     "output_type": "execute_result"
    }
   ],
   "source": [
    "np.median(rel_corr_err_M_Kettlety_passive)"
   ]
  },
  {
   "cell_type": "code",
   "execution_count": 22,
   "metadata": {},
   "outputs": [
    {
     "data": {
      "text/plain": [
       "0.5818495778219371"
      ]
     },
     "execution_count": 22,
     "metadata": {},
     "output_type": "execute_result"
    }
   ],
   "source": [
    "np.median(rel_corr_err_M_Kettlety_active)"
   ]
  },
  {
   "cell_type": "markdown",
   "metadata": {},
   "source": [
    "Mean error:"
   ]
  },
  {
   "cell_type": "code",
   "execution_count": 23,
   "metadata": {},
   "outputs": [
    {
     "data": {
      "text/plain": [
       "0.3955903668414491"
      ]
     },
     "execution_count": 23,
     "metadata": {},
     "output_type": "execute_result"
    }
   ],
   "source": [
    "np.mean(rel_corr_err_M_Kettlety_passive)"
   ]
  },
  {
   "cell_type": "code",
   "execution_count": 24,
   "metadata": {},
   "outputs": [
    {
     "data": {
      "text/plain": [
       "0.6687984712961039"
      ]
     },
     "execution_count": 24,
     "metadata": {},
     "output_type": "execute_result"
    }
   ],
   "source": [
    "np.mean(rel_corr_err_M_Kettlety_active)"
   ]
  },
  {
   "cell_type": "markdown",
   "metadata": {},
   "source": [
    "### Histogram of the stellar mass"
   ]
  },
  {
   "cell_type": "code",
   "execution_count": 25,
   "metadata": {},
   "outputs": [],
   "source": [
    "def hist_form( ytext = '$\\lg M_{*}$ [$M_\\odot$]', logscale = True ):\n",
    "    fig = plt.figure( figsize = (8, 5), dpi = 100 )\n",
    "    plt.xlabel( ytext, fontsize = 20 )\n",
    "    plt.ylabel( 'Frequency', fontsize = 20 )\n",
    "    if logscale == True:\n",
    "        plt.yscale('log')\n",
    "        plt.ylim([1e-1, 1e5])\n",
    "    plt.xticks( fontsize = 15 )\n",
    "    plt.yticks( fontsize = 15 )\n",
    "    plt.tick_params( length=10, direction = 'inout', pad = 5 )"
   ]
  },
  {
   "cell_type": "code",
   "execution_count": 26,
   "metadata": {
    "scrolled": false
   },
   "outputs": [
    {
     "data": {
      "image/png": "[encoded data removed]",
      "text/plain": [
       "<Figure size 800x500 with 1 Axes>"
      ]
     },
     "metadata": {},
     "output_type": "display_data"
    }
   ],
   "source": [
    "# form the figure:\n",
    "hist_form()\n",
    "plt.ylim( 1e-1, 1e7)\n",
    "\n",
    "# make and plot histograms:\n",
    "freq, bins = np.histogram( np.log10(M_Kettlety), bins=np.linspace(6, 14, 100) )\n",
    "plt.plot( bins[:-1], freq, lw = 1, color = 'blue', label = 'all' ) \n",
    "freq, bins = np.histogram( np.log10(M_Kettlety_active), bins=np.linspace(6, 14, 100) )\n",
    "plt.plot( bins[:-1], freq, lw = 1, color = 'red', label = 'active' ) \n",
    "freq, bins = np.histogram( np.log10(M_Kettlety_passive), bins=np.linspace(6, 14, 100) )\n",
    "plt.plot( bins[:-1], freq, lw = 1, color = 'green', label = 'passive' ) \n",
    "plt.legend()\n",
    "plt.grid()"
   ]
  },
  {
   "cell_type": "markdown",
   "metadata": {},
   "source": [
    "## Writting the stellar masses to the dataframe"
   ]
  },
  {
   "cell_type": "code",
   "execution_count": 27,
   "metadata": {
    "scrolled": true
   },
   "outputs": [
    {
     "name": "stdout",
     "output_type": "stream",
     "text": [
      "Data with stellar masses:\n"
     ]
    },
    {
     "data": {
      "text/html": [
       "<div>\n",
       "<style scoped>\n",
       "    .dataframe tbody tr th:only-of-type {\n",
       "        vertical-align: middle;\n",
       "    }\n",
       "\n",
       "    .dataframe tbody tr th {\n",
       "        vertical-align: top;\n",
       "    }\n",
       "\n",
       "    .dataframe thead th {\n",
       "        text-align: right;\n",
       "    }\n",
       "</style>\n",
       "<table border=\"1\" class=\"dataframe\">\n",
       "  <thead>\n",
       "    <tr style=\"text-align: right;\">\n",
       "      <th></th>\n",
       "      <th>GWGC</th>\n",
       "      <th>Hyp</th>\n",
       "      <th>2MASS</th>\n",
       "      <th>wiseX</th>\n",
       "      <th>type</th>\n",
       "      <th>ra</th>\n",
       "      <th>dec</th>\n",
       "      <th>W1</th>\n",
       "      <th>W1_err</th>\n",
       "      <th>z</th>\n",
       "      <th>flag</th>\n",
       "      <th>z_err</th>\n",
       "      <th>lumdis</th>\n",
       "      <th>lumdis_err</th>\n",
       "      <th>gal_type</th>\n",
       "      <th>num</th>\n",
       "      <th>SMass</th>\n",
       "      <th>err_SMass</th>\n",
       "    </tr>\n",
       "  </thead>\n",
       "  <tbody>\n",
       "    <tr>\n",
       "      <th>0</th>\n",
       "      <td>NGC4736</td>\n",
       "      <td>NGC4736</td>\n",
       "      <td>12505314+4107125</td>\n",
       "      <td>J125053.14+410712.7</td>\n",
       "      <td>G</td>\n",
       "      <td>192.721451</td>\n",
       "      <td>41.120152</td>\n",
       "      <td>5.611000</td>\n",
       "      <td>NaN</td>\n",
       "      <td>0.000991</td>\n",
       "      <td>0.0</td>\n",
       "      <td>0.000029</td>\n",
       "      <td>4.392418</td>\n",
       "      <td>0.127479</td>\n",
       "      <td>1.0</td>\n",
       "      <td>0.0</td>\n",
       "      <td>NaN</td>\n",
       "      <td>NaN</td>\n",
       "    </tr>\n",
       "    <tr>\n",
       "      <th>1</th>\n",
       "      <td>NGC4548</td>\n",
       "      <td>NGC4548</td>\n",
       "      <td>12352642+1429467</td>\n",
       "      <td>J123526.45+142946.9</td>\n",
       "      <td>G</td>\n",
       "      <td>188.860123</td>\n",
       "      <td>14.496320</td>\n",
       "      <td>9.416000</td>\n",
       "      <td>NaN</td>\n",
       "      <td>0.004120</td>\n",
       "      <td>1.0</td>\n",
       "      <td>0.000119</td>\n",
       "      <td>15.876007</td>\n",
       "      <td>0.532731</td>\n",
       "      <td>1.0</td>\n",
       "      <td>1.0</td>\n",
       "      <td>3.357468e+09</td>\n",
       "      <td>1.566993e+09</td>\n",
       "    </tr>\n",
       "    <tr>\n",
       "      <th>2</th>\n",
       "      <td>NGC6503</td>\n",
       "      <td>NGC6503</td>\n",
       "      <td>17492651+7008396</td>\n",
       "      <td>J174926.45+700840.8</td>\n",
       "      <td>G</td>\n",
       "      <td>267.360474</td>\n",
       "      <td>70.144341</td>\n",
       "      <td>10.180000</td>\n",
       "      <td>NaN</td>\n",
       "      <td>0.001000</td>\n",
       "      <td>1.0</td>\n",
       "      <td>0.000029</td>\n",
       "      <td>12.446600</td>\n",
       "      <td>0.128670</td>\n",
       "      <td>1.0</td>\n",
       "      <td>2.0</td>\n",
       "      <td>NaN</td>\n",
       "      <td>NaN</td>\n",
       "    </tr>\n",
       "    <tr>\n",
       "      <th>3</th>\n",
       "      <td>NGC4442</td>\n",
       "      <td>NGC4442</td>\n",
       "      <td>12280389+0948130</td>\n",
       "      <td>J122803.90+094813.3</td>\n",
       "      <td>G</td>\n",
       "      <td>187.016220</td>\n",
       "      <td>9.803620</td>\n",
       "      <td>8.476000</td>\n",
       "      <td>NaN</td>\n",
       "      <td>0.003557</td>\n",
       "      <td>1.0</td>\n",
       "      <td>0.000103</td>\n",
       "      <td>11.461371</td>\n",
       "      <td>0.459550</td>\n",
       "      <td>0.0</td>\n",
       "      <td>3.0</td>\n",
       "      <td>6.801542e+09</td>\n",
       "      <td>9.432673e+08</td>\n",
       "    </tr>\n",
       "    <tr>\n",
       "      <th>4</th>\n",
       "      <td>NGC4469</td>\n",
       "      <td>NGC4469</td>\n",
       "      <td>NaN</td>\n",
       "      <td>J122928.05+084500.8</td>\n",
       "      <td>G</td>\n",
       "      <td>187.367000</td>\n",
       "      <td>8.749890</td>\n",
       "      <td>9.784000</td>\n",
       "      <td>NaN</td>\n",
       "      <td>0.004139</td>\n",
       "      <td>1.0</td>\n",
       "      <td>0.000120</td>\n",
       "      <td>15.180920</td>\n",
       "      <td>0.535217</td>\n",
       "      <td>1.0</td>\n",
       "      <td>4.0</td>\n",
       "      <td>2.187268e+09</td>\n",
       "      <td>1.021905e+09</td>\n",
       "    </tr>\n",
       "    <tr>\n",
       "      <th>...</th>\n",
       "      <td>...</td>\n",
       "      <td>...</td>\n",
       "      <td>...</td>\n",
       "      <td>...</td>\n",
       "      <td>...</td>\n",
       "      <td>...</td>\n",
       "      <td>...</td>\n",
       "      <td>...</td>\n",
       "      <td>...</td>\n",
       "      <td>...</td>\n",
       "      <td>...</td>\n",
       "      <td>...</td>\n",
       "      <td>...</td>\n",
       "      <td>...</td>\n",
       "      <td>...</td>\n",
       "      <td>...</td>\n",
       "      <td>...</td>\n",
       "      <td>...</td>\n",
       "    </tr>\n",
       "    <tr>\n",
       "      <th>23181753</th>\n",
       "      <td>NaN</td>\n",
       "      <td>NaN</td>\n",
       "      <td>NaN</td>\n",
       "      <td>NaN</td>\n",
       "      <td>Q</td>\n",
       "      <td>359.999118</td>\n",
       "      <td>28.954734</td>\n",
       "      <td>17.728901</td>\n",
       "      <td>NaN</td>\n",
       "      <td>2.452000</td>\n",
       "      <td>0.0</td>\n",
       "      <td>0.113916</td>\n",
       "      <td>20403.464630</td>\n",
       "      <td>1152.204222</td>\n",
       "      <td>NaN</td>\n",
       "      <td>NaN</td>\n",
       "      <td>NaN</td>\n",
       "      <td>NaN</td>\n",
       "    </tr>\n",
       "    <tr>\n",
       "      <th>23181754</th>\n",
       "      <td>NaN</td>\n",
       "      <td>NaN</td>\n",
       "      <td>NaN</td>\n",
       "      <td>NaN</td>\n",
       "      <td>Q</td>\n",
       "      <td>359.999303</td>\n",
       "      <td>34.720842</td>\n",
       "      <td>16.933657</td>\n",
       "      <td>NaN</td>\n",
       "      <td>3.109000</td>\n",
       "      <td>0.0</td>\n",
       "      <td>0.135597</td>\n",
       "      <td>27158.368406</td>\n",
       "      <td>1423.972156</td>\n",
       "      <td>NaN</td>\n",
       "      <td>NaN</td>\n",
       "      <td>NaN</td>\n",
       "      <td>NaN</td>\n",
       "    </tr>\n",
       "    <tr>\n",
       "      <th>23181755</th>\n",
       "      <td>NaN</td>\n",
       "      <td>NaN</td>\n",
       "      <td>NaN</td>\n",
       "      <td>NaN</td>\n",
       "      <td>Q</td>\n",
       "      <td>359.999615</td>\n",
       "      <td>3.268586</td>\n",
       "      <td>14.833991</td>\n",
       "      <td>NaN</td>\n",
       "      <td>1.232962</td>\n",
       "      <td>0.0</td>\n",
       "      <td>0.073688</td>\n",
       "      <td>8792.439985</td>\n",
       "      <td>652.241875</td>\n",
       "      <td>NaN</td>\n",
       "      <td>NaN</td>\n",
       "      <td>NaN</td>\n",
       "      <td>NaN</td>\n",
       "    </tr>\n",
       "    <tr>\n",
       "      <th>23181756</th>\n",
       "      <td>NaN</td>\n",
       "      <td>NaN</td>\n",
       "      <td>NaN</td>\n",
       "      <td>NaN</td>\n",
       "      <td>Q</td>\n",
       "      <td>359.999759</td>\n",
       "      <td>20.721079</td>\n",
       "      <td>16.979166</td>\n",
       "      <td>NaN</td>\n",
       "      <td>2.009865</td>\n",
       "      <td>0.0</td>\n",
       "      <td>0.099325</td>\n",
       "      <td>16022.500633</td>\n",
       "      <td>970.465889</td>\n",
       "      <td>NaN</td>\n",
       "      <td>NaN</td>\n",
       "      <td>NaN</td>\n",
       "      <td>NaN</td>\n",
       "    </tr>\n",
       "    <tr>\n",
       "      <th>23181757</th>\n",
       "      <td>NaN</td>\n",
       "      <td>NaN</td>\n",
       "      <td>NaN</td>\n",
       "      <td>NaN</td>\n",
       "      <td>Q</td>\n",
       "      <td>359.999954</td>\n",
       "      <td>34.747133</td>\n",
       "      <td>16.856348</td>\n",
       "      <td>NaN</td>\n",
       "      <td>2.375000</td>\n",
       "      <td>0.0</td>\n",
       "      <td>0.111375</td>\n",
       "      <td>19629.730536</td>\n",
       "      <td>1120.493021</td>\n",
       "      <td>NaN</td>\n",
       "      <td>NaN</td>\n",
       "      <td>NaN</td>\n",
       "      <td>NaN</td>\n",
       "    </tr>\n",
       "  </tbody>\n",
       "</table>\n",
       "<p>23181758 rows × 18 columns</p>\n",
       "</div>"
      ],
      "text/plain": [
       "             GWGC      Hyp             2MASS                wiseX type  \\\n",
       "0         NGC4736  NGC4736  12505314+4107125  J125053.14+410712.7    G   \n",
       "1         NGC4548  NGC4548  12352642+1429467  J123526.45+142946.9    G   \n",
       "2         NGC6503  NGC6503  17492651+7008396  J174926.45+700840.8    G   \n",
       "3         NGC4442  NGC4442  12280389+0948130  J122803.90+094813.3    G   \n",
       "4         NGC4469  NGC4469               NaN  J122928.05+084500.8    G   \n",
       "...           ...      ...               ...                  ...  ...   \n",
       "23181753      NaN      NaN               NaN                  NaN    Q   \n",
       "23181754      NaN      NaN               NaN                  NaN    Q   \n",
       "23181755      NaN      NaN               NaN                  NaN    Q   \n",
       "23181756      NaN      NaN               NaN                  NaN    Q   \n",
       "23181757      NaN      NaN               NaN                  NaN    Q   \n",
       "\n",
       "                  ra        dec         W1  W1_err         z  flag     z_err  \\\n",
       "0         192.721451  41.120152   5.611000     NaN  0.000991   0.0  0.000029   \n",
       "1         188.860123  14.496320   9.416000     NaN  0.004120   1.0  0.000119   \n",
       "2         267.360474  70.144341  10.180000     NaN  0.001000   1.0  0.000029   \n",
       "3         187.016220   9.803620   8.476000     NaN  0.003557   1.0  0.000103   \n",
       "4         187.367000   8.749890   9.784000     NaN  0.004139   1.0  0.000120   \n",
       "...              ...        ...        ...     ...       ...   ...       ...   \n",
       "23181753  359.999118  28.954734  17.728901     NaN  2.452000   0.0  0.113916   \n",
       "23181754  359.999303  34.720842  16.933657     NaN  3.109000   0.0  0.135597   \n",
       "23181755  359.999615   3.268586  14.833991     NaN  1.232962   0.0  0.073688   \n",
       "23181756  359.999759  20.721079  16.979166     NaN  2.009865   0.0  0.099325   \n",
       "23181757  359.999954  34.747133  16.856348     NaN  2.375000   0.0  0.111375   \n",
       "\n",
       "                lumdis   lumdis_err  gal_type  num         SMass     err_SMass  \n",
       "0             4.392418     0.127479       1.0  0.0           NaN           NaN  \n",
       "1            15.876007     0.532731       1.0  1.0  3.357468e+09  1.566993e+09  \n",
       "2            12.446600     0.128670       1.0  2.0           NaN           NaN  \n",
       "3            11.461371     0.459550       0.0  3.0  6.801542e+09  9.432673e+08  \n",
       "4            15.180920     0.535217       1.0  4.0  2.187268e+09  1.021905e+09  \n",
       "...                ...          ...       ...  ...           ...           ...  \n",
       "23181753  20403.464630  1152.204222       NaN  NaN           NaN           NaN  \n",
       "23181754  27158.368406  1423.972156       NaN  NaN           NaN           NaN  \n",
       "23181755   8792.439985   652.241875       NaN  NaN           NaN           NaN  \n",
       "23181756  16022.500633   970.465889       NaN  NaN           NaN           NaN  \n",
       "23181757  19629.730536  1120.493021       NaN  NaN           NaN           NaN  \n",
       "\n",
       "[23181758 rows x 18 columns]"
      ]
     },
     "execution_count": 27,
     "metadata": {},
     "output_type": "execute_result"
    }
   ],
   "source": [
    "data['SMass'] = M_Kettlety\n",
    "Kettlety_err_corr = pd.concat( [Kettlety_err_corr_passive, Kettlety_err_corr_active] )\n",
    "data['err_SMass'] = Kettlety_err_corr\n",
    "\n",
    "print( 'Data with stellar masses:')\n",
    "data"
   ]
  },
  {
   "cell_type": "markdown",
   "metadata": {},
   "source": [
    "### More histograms:"
   ]
  },
  {
   "cell_type": "code",
   "execution_count": 28,
   "metadata": {
    "scrolled": false
   },
   "outputs": [
    {
     "data": {
      "image/png": "[encoded data removed]",
      "text/plain": [
       "<Figure size 800x500 with 1 Axes>"
      ]
     },
     "metadata": {},
     "output_type": "display_data"
    }
   ],
   "source": [
    "# form the figure:\n",
    "hist_form()\n",
    "plt.yscale('linear')\n",
    "plt.ylim(0,0.25)\n",
    "plt.xlim(0,0.53)\n",
    "plt.xlabel('z')\n",
    "plt.ylabel( 'Frequency' )\n",
    "\n",
    "# make and plot histograms:\n",
    "freq, bins = np.histogram( data[~np.isnan(data.SMass)].z, bins=100 )\n",
    "plt.plot( bins[:-1], freq/len(data[~np.isnan(data.SMass)]),  lw = 1, color = 'blue' )\n",
    "plt.grid()"
   ]
  },
  {
   "cell_type": "code",
   "execution_count": 29,
   "metadata": {
    "scrolled": false
   },
   "outputs": [
    {
     "data": {
      "image/png": "[encoded data removed]",
      "text/plain": [
       "<Figure size 800x500 with 1 Axes>"
      ]
     },
     "metadata": {},
     "output_type": "display_data"
    }
   ],
   "source": [
    "hist_form( 'Relative error of the final $M_*$ [$M_\\odot$]', logscale=True )\n",
    "plt.yscale( 'linear' )\n",
    "plt.autoscale()\n",
    "\n",
    "x = data.err_SMass/data.SMass\n",
    "freq2, bins2 = np.histogram( x, bins = np.linspace( np.min(x), np.max(x), 100 ) )\n",
    "plt.scatter( bins2[:-1],freq2/len(x),  \n",
    "            marker = 'x', lw = 1, color = 'magenta', label = 'final' )\n",
    "\n",
    "plt.grid()\n",
    "#plt.legend( fontsize = 35 )"
   ]
  },
  {
   "cell_type": "code",
   "execution_count": 30,
   "metadata": {},
   "outputs": [
    {
     "data": {
      "image/png": "[encoded data removed]",
      "text/plain": [
       "<Figure size 800x500 with 1 Axes>"
      ]
     },
     "metadata": {},
     "output_type": "display_data"
    }
   ],
   "source": [
    "hist_form( 'Relative error of the final $M_*$ [$M_\\odot$]', logscale=True )\n",
    "plt.yscale( 'linear' )\n",
    "plt.autoscale()\n",
    "plt.xlim(0.4, 0.55)\n",
    "\n",
    "x = data.err_SMass/data.SMass\n",
    "freq2, bins2 = np.histogram( x, bins = np.linspace( np.min(x), np.max(x), 100 ) )\n",
    "plt.scatter( bins2[:-1],freq2/len(x),  \n",
    "            marker = 'x', lw = 1, color = 'magenta', label = 'final' )\n",
    "\n",
    "plt.grid()\n",
    "#plt.legend( fontsize = 35 )"
   ]
  },
  {
   "cell_type": "markdown",
   "metadata": {},
   "source": [
    "### Rounding the stellar masses\n",
    "\n",
    "First we rounded the errors of stellar masses, then according to this we rounded the values of stellar masses."
   ]
  },
  {
   "cell_type": "code",
   "execution_count": 31,
   "metadata": {},
   "outputs": [],
   "source": [
    "data_finalmass = data[~np.isnan(data.SMass)]"
   ]
  },
  {
   "cell_type": "code",
   "execution_count": 32,
   "metadata": {},
   "outputs": [],
   "source": [
    "def orderOfMagnitude(number):\n",
    "    return math.floor(math.log(number, 10))\n",
    "\n",
    "# finding the order of the errors:\n",
    "order_of_err = np.array([ orderOfMagnitude(i) for i in data_finalmass.err_SMass.values ])\n",
    "\n",
    "errs = np.array( [ np.round( data_finalmass.err_SMass.values[i] / 10**order_of_err[i], 0 )\n",
    "                  for i in range(data_finalmass.shape[0]) ] )\n",
    "\n",
    "order_of_err[errs == 10] = order_of_err[errs == 10] + 1 \n",
    "errs[errs == 10] = 1\n",
    "\n",
    "# rounding\n",
    "vals = np.array( [ np.round( data_finalmass.SMass.values[i] / 10**order_of_err[i], 0 ) \n",
    "                  for i in range(data_finalmass.shape[0]) ] )\n",
    "\n",
    "\n",
    "# writing the results into the dataframe:\n",
    "SMass_round = np.zeros( data.shape[0] )\n",
    "np.add.at( SMass_round, data_finalmass.index, vals*10**order_of_err )\n",
    "\n",
    "err_SMass_round = np.zeros( data.shape[0] )\n",
    "np.add.at( err_SMass_round, data_finalmass.index, errs*10**order_of_err )\n",
    "\n",
    "data['SMass_round'] = SMass_round\n",
    "data['err_SMass_round'] = err_SMass_round\n",
    "\n",
    "data.SMass_round.replace(0, np.nan, inplace=True)\n",
    "data.err_SMass_round.replace(0, np.nan, inplace=True)"
   ]
  },
  {
   "cell_type": "code",
   "execution_count": 33,
   "metadata": {
    "scrolled": false
   },
   "outputs": [
    {
     "data": {
      "text/html": [
       "<div>\n",
       "<style scoped>\n",
       "    .dataframe tbody tr th:only-of-type {\n",
       "        vertical-align: middle;\n",
       "    }\n",
       "\n",
       "    .dataframe tbody tr th {\n",
       "        vertical-align: top;\n",
       "    }\n",
       "\n",
       "    .dataframe thead th {\n",
       "        text-align: right;\n",
       "    }\n",
       "</style>\n",
       "<table border=\"1\" class=\"dataframe\">\n",
       "  <thead>\n",
       "    <tr style=\"text-align: right;\">\n",
       "      <th></th>\n",
       "      <th>GWGC</th>\n",
       "      <th>Hyp</th>\n",
       "      <th>2MASS</th>\n",
       "      <th>wiseX</th>\n",
       "      <th>type</th>\n",
       "      <th>ra</th>\n",
       "      <th>dec</th>\n",
       "      <th>W1</th>\n",
       "      <th>W1_err</th>\n",
       "      <th>z</th>\n",
       "      <th>flag</th>\n",
       "      <th>z_err</th>\n",
       "      <th>lumdis</th>\n",
       "      <th>lumdis_err</th>\n",
       "      <th>gal_type</th>\n",
       "      <th>num</th>\n",
       "      <th>SMass</th>\n",
       "      <th>err_SMass</th>\n",
       "      <th>SMass_round</th>\n",
       "      <th>err_SMass_round</th>\n",
       "    </tr>\n",
       "  </thead>\n",
       "  <tbody>\n",
       "    <tr>\n",
       "      <th>1</th>\n",
       "      <td>NGC4548</td>\n",
       "      <td>NGC4548</td>\n",
       "      <td>12352642+1429467</td>\n",
       "      <td>J123526.45+142946.9</td>\n",
       "      <td>G</td>\n",
       "      <td>188.860123</td>\n",
       "      <td>14.496320</td>\n",
       "      <td>9.416</td>\n",
       "      <td>NaN</td>\n",
       "      <td>0.004120</td>\n",
       "      <td>1.0</td>\n",
       "      <td>0.000119</td>\n",
       "      <td>15.876007</td>\n",
       "      <td>0.532731</td>\n",
       "      <td>1.0</td>\n",
       "      <td>1.0</td>\n",
       "      <td>3.357468e+09</td>\n",
       "      <td>1.566993e+09</td>\n",
       "      <td>3.000000e+09</td>\n",
       "      <td>2.000000e+09</td>\n",
       "    </tr>\n",
       "    <tr>\n",
       "      <th>3</th>\n",
       "      <td>NGC4442</td>\n",
       "      <td>NGC4442</td>\n",
       "      <td>12280389+0948130</td>\n",
       "      <td>J122803.90+094813.3</td>\n",
       "      <td>G</td>\n",
       "      <td>187.016220</td>\n",
       "      <td>9.803620</td>\n",
       "      <td>8.476</td>\n",
       "      <td>NaN</td>\n",
       "      <td>0.003557</td>\n",
       "      <td>1.0</td>\n",
       "      <td>0.000103</td>\n",
       "      <td>11.461371</td>\n",
       "      <td>0.459550</td>\n",
       "      <td>0.0</td>\n",
       "      <td>3.0</td>\n",
       "      <td>6.801542e+09</td>\n",
       "      <td>9.432673e+08</td>\n",
       "      <td>6.800000e+09</td>\n",
       "      <td>9.000000e+08</td>\n",
       "    </tr>\n",
       "    <tr>\n",
       "      <th>4</th>\n",
       "      <td>NGC4469</td>\n",
       "      <td>NGC4469</td>\n",
       "      <td>NaN</td>\n",
       "      <td>J122928.05+084500.8</td>\n",
       "      <td>G</td>\n",
       "      <td>187.367000</td>\n",
       "      <td>8.749890</td>\n",
       "      <td>9.784</td>\n",
       "      <td>NaN</td>\n",
       "      <td>0.004139</td>\n",
       "      <td>1.0</td>\n",
       "      <td>0.000120</td>\n",
       "      <td>15.180920</td>\n",
       "      <td>0.535217</td>\n",
       "      <td>1.0</td>\n",
       "      <td>4.0</td>\n",
       "      <td>2.187268e+09</td>\n",
       "      <td>1.021905e+09</td>\n",
       "      <td>2.000000e+09</td>\n",
       "      <td>1.000000e+09</td>\n",
       "    </tr>\n",
       "    <tr>\n",
       "      <th>5</th>\n",
       "      <td>NGC4586</td>\n",
       "      <td>NGC4586</td>\n",
       "      <td>12382843+0419087</td>\n",
       "      <td>J123828.39+041909</td>\n",
       "      <td>G</td>\n",
       "      <td>189.618484</td>\n",
       "      <td>4.319099</td>\n",
       "      <td>10.055</td>\n",
       "      <td>NaN</td>\n",
       "      <td>0.003320</td>\n",
       "      <td>1.0</td>\n",
       "      <td>0.000096</td>\n",
       "      <td>10.704358</td>\n",
       "      <td>0.428789</td>\n",
       "      <td>NaN</td>\n",
       "      <td>NaN</td>\n",
       "      <td>8.492456e+08</td>\n",
       "      <td>3.980622e+08</td>\n",
       "      <td>8.000000e+08</td>\n",
       "      <td>4.000000e+08</td>\n",
       "    </tr>\n",
       "    <tr>\n",
       "      <th>6</th>\n",
       "      <td>NGC4440</td>\n",
       "      <td>NGC4440</td>\n",
       "      <td>12275357+1217354</td>\n",
       "      <td>J122753.56+121735.8</td>\n",
       "      <td>G</td>\n",
       "      <td>186.973221</td>\n",
       "      <td>12.293191</td>\n",
       "      <td>9.872</td>\n",
       "      <td>NaN</td>\n",
       "      <td>0.004340</td>\n",
       "      <td>1.0</td>\n",
       "      <td>0.000126</td>\n",
       "      <td>18.027630</td>\n",
       "      <td>0.561461</td>\n",
       "      <td>0.0</td>\n",
       "      <td>6.0</td>\n",
       "      <td>4.641399e+09</td>\n",
       "      <td>6.005126e+08</td>\n",
       "      <td>4.600000e+09</td>\n",
       "      <td>6.000000e+08</td>\n",
       "    </tr>\n",
       "    <tr>\n",
       "      <th>...</th>\n",
       "      <td>...</td>\n",
       "      <td>...</td>\n",
       "      <td>...</td>\n",
       "      <td>...</td>\n",
       "      <td>...</td>\n",
       "      <td>...</td>\n",
       "      <td>...</td>\n",
       "      <td>...</td>\n",
       "      <td>...</td>\n",
       "      <td>...</td>\n",
       "      <td>...</td>\n",
       "      <td>...</td>\n",
       "      <td>...</td>\n",
       "      <td>...</td>\n",
       "      <td>...</td>\n",
       "      <td>...</td>\n",
       "      <td>...</td>\n",
       "      <td>...</td>\n",
       "      <td>...</td>\n",
       "      <td>...</td>\n",
       "    </tr>\n",
       "    <tr>\n",
       "      <th>22431343</th>\n",
       "      <td>NaN</td>\n",
       "      <td>SDSSJ235402.72+201302.6</td>\n",
       "      <td>NaN</td>\n",
       "      <td>J235402.73+201302.6</td>\n",
       "      <td>G</td>\n",
       "      <td>358.511000</td>\n",
       "      <td>20.217400</td>\n",
       "      <td>14.902</td>\n",
       "      <td>0.034</td>\n",
       "      <td>0.308475</td>\n",
       "      <td>0.0</td>\n",
       "      <td>0.043180</td>\n",
       "      <td>1654.841013</td>\n",
       "      <td>271.557516</td>\n",
       "      <td>1.0</td>\n",
       "      <td>22177450.0</td>\n",
       "      <td>1.099255e+11</td>\n",
       "      <td>5.687785e+10</td>\n",
       "      <td>1.100000e+11</td>\n",
       "      <td>6.000000e+10</td>\n",
       "    </tr>\n",
       "    <tr>\n",
       "      <th>22431344</th>\n",
       "      <td>NaN</td>\n",
       "      <td>SDSSJ235200.81+201806.7</td>\n",
       "      <td>NaN</td>\n",
       "      <td>J235200.81+201806.7</td>\n",
       "      <td>G</td>\n",
       "      <td>358.003000</td>\n",
       "      <td>20.301880</td>\n",
       "      <td>14.153</td>\n",
       "      <td>0.029</td>\n",
       "      <td>0.200333</td>\n",
       "      <td>0.0</td>\n",
       "      <td>0.039611</td>\n",
       "      <td>1014.188600</td>\n",
       "      <td>227.806230</td>\n",
       "      <td>1.0</td>\n",
       "      <td>22177451.0</td>\n",
       "      <td>1.051526e+11</td>\n",
       "      <td>6.120263e+10</td>\n",
       "      <td>1.100000e+11</td>\n",
       "      <td>6.000000e+10</td>\n",
       "    </tr>\n",
       "    <tr>\n",
       "      <th>22431345</th>\n",
       "      <td>NaN</td>\n",
       "      <td>SDSSJ235232.35+201806.5</td>\n",
       "      <td>NaN</td>\n",
       "      <td>J235232.36+201806.2</td>\n",
       "      <td>G</td>\n",
       "      <td>358.135000</td>\n",
       "      <td>20.301830</td>\n",
       "      <td>14.678</td>\n",
       "      <td>0.033</td>\n",
       "      <td>0.201158</td>\n",
       "      <td>0.0</td>\n",
       "      <td>0.039638</td>\n",
       "      <td>1018.845712</td>\n",
       "      <td>228.136592</td>\n",
       "      <td>1.0</td>\n",
       "      <td>22177452.0</td>\n",
       "      <td>6.530593e+10</td>\n",
       "      <td>3.796107e+10</td>\n",
       "      <td>7.000000e+10</td>\n",
       "      <td>4.000000e+10</td>\n",
       "    </tr>\n",
       "    <tr>\n",
       "      <th>22431346</th>\n",
       "      <td>NaN</td>\n",
       "      <td>SDSSJ235039.56+201426</td>\n",
       "      <td>NaN</td>\n",
       "      <td>J235039.58+201425.6</td>\n",
       "      <td>G</td>\n",
       "      <td>357.665000</td>\n",
       "      <td>20.240560</td>\n",
       "      <td>14.686</td>\n",
       "      <td>0.032</td>\n",
       "      <td>0.356846</td>\n",
       "      <td>0.0</td>\n",
       "      <td>0.044776</td>\n",
       "      <td>1959.611688</td>\n",
       "      <td>291.331591</td>\n",
       "      <td>1.0</td>\n",
       "      <td>22177453.0</td>\n",
       "      <td>1.696497e+11</td>\n",
       "      <td>8.553034e+10</td>\n",
       "      <td>1.700000e+11</td>\n",
       "      <td>9.000000e+10</td>\n",
       "    </tr>\n",
       "    <tr>\n",
       "      <th>22431347</th>\n",
       "      <td>NaN</td>\n",
       "      <td>SDSSJ235037.73+201957.3</td>\n",
       "      <td>NaN</td>\n",
       "      <td>J235037.73+201957.3</td>\n",
       "      <td>G</td>\n",
       "      <td>357.657000</td>\n",
       "      <td>20.332600</td>\n",
       "      <td>15.094</td>\n",
       "      <td>0.037</td>\n",
       "      <td>0.397962</td>\n",
       "      <td>0.0</td>\n",
       "      <td>0.046133</td>\n",
       "      <td>2226.809938</td>\n",
       "      <td>308.206832</td>\n",
       "      <td>1.0</td>\n",
       "      <td>22177454.0</td>\n",
       "      <td>1.382163e+11</td>\n",
       "      <td>6.862429e+10</td>\n",
       "      <td>1.400000e+11</td>\n",
       "      <td>7.000000e+10</td>\n",
       "    </tr>\n",
       "  </tbody>\n",
       "</table>\n",
       "<p>21779322 rows × 20 columns</p>\n",
       "</div>"
      ],
      "text/plain": [
       "             GWGC                      Hyp             2MASS  \\\n",
       "1         NGC4548                  NGC4548  12352642+1429467   \n",
       "3         NGC4442                  NGC4442  12280389+0948130   \n",
       "4         NGC4469                  NGC4469               NaN   \n",
       "5         NGC4586                  NGC4586  12382843+0419087   \n",
       "6         NGC4440                  NGC4440  12275357+1217354   \n",
       "...           ...                      ...               ...   \n",
       "22431343      NaN  SDSSJ235402.72+201302.6               NaN   \n",
       "22431344      NaN  SDSSJ235200.81+201806.7               NaN   \n",
       "22431345      NaN  SDSSJ235232.35+201806.5               NaN   \n",
       "22431346      NaN    SDSSJ235039.56+201426               NaN   \n",
       "22431347      NaN  SDSSJ235037.73+201957.3               NaN   \n",
       "\n",
       "                        wiseX type          ra        dec      W1  W1_err  \\\n",
       "1         J123526.45+142946.9    G  188.860123  14.496320   9.416     NaN   \n",
       "3         J122803.90+094813.3    G  187.016220   9.803620   8.476     NaN   \n",
       "4         J122928.05+084500.8    G  187.367000   8.749890   9.784     NaN   \n",
       "5           J123828.39+041909    G  189.618484   4.319099  10.055     NaN   \n",
       "6         J122753.56+121735.8    G  186.973221  12.293191   9.872     NaN   \n",
       "...                       ...  ...         ...        ...     ...     ...   \n",
       "22431343  J235402.73+201302.6    G  358.511000  20.217400  14.902   0.034   \n",
       "22431344  J235200.81+201806.7    G  358.003000  20.301880  14.153   0.029   \n",
       "22431345  J235232.36+201806.2    G  358.135000  20.301830  14.678   0.033   \n",
       "22431346  J235039.58+201425.6    G  357.665000  20.240560  14.686   0.032   \n",
       "22431347  J235037.73+201957.3    G  357.657000  20.332600  15.094   0.037   \n",
       "\n",
       "                 z  flag     z_err       lumdis  lumdis_err  gal_type  \\\n",
       "1         0.004120   1.0  0.000119    15.876007    0.532731       1.0   \n",
       "3         0.003557   1.0  0.000103    11.461371    0.459550       0.0   \n",
       "4         0.004139   1.0  0.000120    15.180920    0.535217       1.0   \n",
       "5         0.003320   1.0  0.000096    10.704358    0.428789       NaN   \n",
       "6         0.004340   1.0  0.000126    18.027630    0.561461       0.0   \n",
       "...            ...   ...       ...          ...         ...       ...   \n",
       "22431343  0.308475   0.0  0.043180  1654.841013  271.557516       1.0   \n",
       "22431344  0.200333   0.0  0.039611  1014.188600  227.806230       1.0   \n",
       "22431345  0.201158   0.0  0.039638  1018.845712  228.136592       1.0   \n",
       "22431346  0.356846   0.0  0.044776  1959.611688  291.331591       1.0   \n",
       "22431347  0.397962   0.0  0.046133  2226.809938  308.206832       1.0   \n",
       "\n",
       "                 num         SMass     err_SMass   SMass_round  \\\n",
       "1                1.0  3.357468e+09  1.566993e+09  3.000000e+09   \n",
       "3                3.0  6.801542e+09  9.432673e+08  6.800000e+09   \n",
       "4                4.0  2.187268e+09  1.021905e+09  2.000000e+09   \n",
       "5                NaN  8.492456e+08  3.980622e+08  8.000000e+08   \n",
       "6                6.0  4.641399e+09  6.005126e+08  4.600000e+09   \n",
       "...              ...           ...           ...           ...   \n",
       "22431343  22177450.0  1.099255e+11  5.687785e+10  1.100000e+11   \n",
       "22431344  22177451.0  1.051526e+11  6.120263e+10  1.100000e+11   \n",
       "22431345  22177452.0  6.530593e+10  3.796107e+10  7.000000e+10   \n",
       "22431346  22177453.0  1.696497e+11  8.553034e+10  1.700000e+11   \n",
       "22431347  22177454.0  1.382163e+11  6.862429e+10  1.400000e+11   \n",
       "\n",
       "          err_SMass_round  \n",
       "1            2.000000e+09  \n",
       "3            9.000000e+08  \n",
       "4            1.000000e+09  \n",
       "5            4.000000e+08  \n",
       "6            6.000000e+08  \n",
       "...                   ...  \n",
       "22431343     6.000000e+10  \n",
       "22431344     6.000000e+10  \n",
       "22431345     4.000000e+10  \n",
       "22431346     9.000000e+10  \n",
       "22431347     7.000000e+10  \n",
       "\n",
       "[21779322 rows x 20 columns]"
      ]
     },
     "execution_count": 33,
     "metadata": {},
     "output_type": "execute_result"
    }
   ],
   "source": [
    "data[~np.isnan(data.SMass)]"
   ]
  },
  {
   "cell_type": "markdown",
   "metadata": {},
   "source": [
    "### The final form of the stellar mass:\n",
    "\n",
    "The unit of stellar masses will be $10^{10} ~ M_\\odot$."
   ]
  },
  {
   "cell_type": "code",
   "execution_count": 34,
   "metadata": {},
   "outputs": [],
   "source": [
    "data['SMass_final'] = data.SMass_round/1e10\n",
    "data['err_SMass_final'] = data.err_SMass_round/1e10"
   ]
  },
  {
   "cell_type": "code",
   "execution_count": 35,
   "metadata": {
    "scrolled": true
   },
   "outputs": [
    {
     "data": {
      "image/png": "[encoded data removed]",
      "text/plain": [
       "<Figure size 800x500 with 1 Axes>"
      ]
     },
     "metadata": {},
     "output_type": "display_data"
    }
   ],
   "source": [
    "# form the figure:\n",
    "hist_form()\n",
    "plt.ylim( 1e-1, 1e7)\n",
    "\n",
    "# make and plot histograms:\n",
    "freq, bins = np.histogram( np.log10(data.SMass_final[~np.isnan(data.SMass_final)]*1e10), bins=100 )\n",
    "plt.scatter( bins[:-1], freq,  marker = '+', lw = 1, s = 50, color = 'blue' ) \n",
    "plt.grid()\n",
    "plt.savefig( 'sm_hist.eps', format = 'eps' ) #save the figure"
   ]
  },
  {
   "cell_type": "markdown",
   "metadata": {},
   "source": [
    "The effect of the rounding:"
   ]
  },
  {
   "cell_type": "code",
   "execution_count": 36,
   "metadata": {
    "scrolled": false
   },
   "outputs": [
    {
     "data": {
      "image/png": "[encoded data removed]",
      "text/plain": [
       "<Figure size 800x500 with 1 Axes>"
      ]
     },
     "metadata": {},
     "output_type": "display_data"
    }
   ],
   "source": [
    "# form the figure:\n",
    "hist_form()\n",
    "plt.ylim( 1e-1, 1e7)\n",
    "\n",
    "# make and plot histograms:\n",
    "freq, bins = np.histogram( np.log10(data.SMass_final[~np.isnan(data.SMass_final)]*1e10), bins=250 )\n",
    "plt.scatter( bins[:-1], freq,  marker = '^', lw = 1, s = 20, color = 'blue' ) \n",
    "\n",
    "plt.grid()"
   ]
  },
  {
   "cell_type": "markdown",
   "metadata": {},
   "source": [
    "Histogram of the relative error:"
   ]
  },
  {
   "cell_type": "code",
   "execution_count": 37,
   "metadata": {
    "scrolled": false
   },
   "outputs": [
    {
     "data": {
      "image/png": "[encoded data removed]",
      "text/plain": [
       "<Figure size 800x500 with 1 Axes>"
      ]
     },
     "metadata": {},
     "output_type": "display_data"
    }
   ],
   "source": [
    "hist_form( 'Relative error of the calibrated $M_*$ [$M_\\odot$]', logscale=True )\n",
    "plt.yscale( 'linear' )\n",
    "plt.autoscale()\n",
    "\n",
    "x = data.err_SMass_final/data.SMass_final\n",
    "freq2, bins2 = np.histogram( x, bins = np.linspace( np.min(x), np.max(x), 100 ) )\n",
    "plt.scatter( bins2[:-1],freq2, marker = 'x', lw = 1, color = 'magenta' )\n",
    "\n",
    "plt.grid()"
   ]
  },
  {
   "cell_type": "markdown",
   "metadata": {},
   "source": [
    "The mean relative error:"
   ]
  },
  {
   "cell_type": "code",
   "execution_count": 38,
   "metadata": {
    "scrolled": true
   },
   "outputs": [
    {
     "data": {
      "text/plain": [
       "0.6475543774817414"
      ]
     },
     "execution_count": 38,
     "metadata": {},
     "output_type": "execute_result"
    }
   ],
   "source": [
    "np.mean(data.err_SMass_final/data.SMass_final)"
   ]
  },
  {
   "cell_type": "markdown",
   "metadata": {},
   "source": [
    "## Merger rates:\n",
    "\n",
    "In the following section I give the merger rates of galaxies in three different scenario: the event of 2 black holes (DBH), two neutron stars (DNS) and a black hole and a neutron star (BHNS).\n",
    "\n",
    "I use the results of Artale et al. MNRAS 487, 1675–1688 (2019)\n",
    " (Host galaxies of merging compact objects: mass, star\n",
    "formation rate, metallicity and colours):\n",
    "\n",
    "DNS: $$ \\lg(n_{GW}/\\text{Gyr}) = ( 1.15 \\pm 0.08 ) \\lg(M_*[M_{Sun}]) - ( 7.22 \\pm 0.22 ), $$\n",
    "\n",
    "DBH: $$ \\lg(n_{GW}/\\text{Gyr}) = ( 0.80 \\pm 0.07 ) \\lg(M_*[M_{Sun}]) - ( 4.14 \\pm 0.19 ), $$\n",
    "\n",
    "BHNS: $$ \\lg(n_{GW}/\\text{Gyr}) = ( 0.87 \\pm 0.08 ) \\lg(M_*[M_{Sun}]) - ( 4.99 \\pm 0.22 ). $$"
   ]
  },
  {
   "cell_type": "markdown",
   "metadata": {},
   "source": [
    "They studied the galaxies having stellar mass $M_* > 10^7 ~ M_\\odot$ in the local universe $ z \\leq 1$."
   ]
  },
  {
   "cell_type": "code",
   "execution_count": 39,
   "metadata": {
    "scrolled": false
   },
   "outputs": [
    {
     "name": "stdout",
     "output_type": "stream",
     "text": [
      "We need the galaxies which have stellar masses larger than 10^7 and z <= 0.1\n",
      "Shape before filtrations: (23181758, 22)\n",
      "Shape with stellar mass > 1e7: (21777404, 22)\n",
      "Shape with known redshift: (21777404, 22)\n",
      "Shape after redshift filtration: (3156544, 22)\n",
      "The shape of dataframe to which we can associate merger rates:\n",
      "(3156544, 22)\n"
     ]
    }
   ],
   "source": [
    "# find the data whose merger rate can be calculated:\n",
    "print( 'We need the galaxies which have stellar masses larger than 10^7 and z <= 0.1' )\n",
    "print('Shape before filtrations:', data.shape)\n",
    "data_merger =  copy.deepcopy( data[ data.SMass > 10**7 ] )\n",
    "print( 'Shape with stellar mass > 1e7:', data_merger.shape )\n",
    "#data_merger =  data_merger[ data_merger.SMass_Kettlety < 10**13 ]  \n",
    "#print( 'Shape with stellar mass < 1e13:', data_merger.shape )\n",
    "data_merger = data_merger[ ~np.isnan(data_merger.z) ]  \n",
    "print('Shape with known redshift:', data_merger.shape)\n",
    "data_merger = data_merger[ data_merger.z <= 0.1 ]\n",
    "print('Shape after redshift filtration:', data_merger.shape)\n",
    "print( 'The shape of dataframe to which we can associate merger rates:' )\n",
    "print( data_merger.shape )\n",
    "\n",
    "# merger rate of BNS:\n",
    "dns = 1.15 * np.log10( data_merger.SMass ) - 7.22\n",
    "# error of merger rate of BNS:\n",
    "err_dns = np.sqrt( ( np.log10(data_merger.SMass)*0.08 )**2 + \n",
    "                   ( 1.15*data_merger.err_SMass/(data_merger.SMass*np.log(10)) )**2 +\n",
    "                   0.22**2 )"
   ]
  },
  {
   "cell_type": "code",
   "execution_count": 40,
   "metadata": {
    "scrolled": false
   },
   "outputs": [
    {
     "data": {
      "text/plain": [
       "(1    3.734914\n",
       " 3    4.087498\n",
       " 4    3.520887\n",
       " 5    3.048388\n",
       " 6    3.896646\n",
       " Name: SMass, dtype: float64,\n",
       " 1    0.826742\n",
       " 3    0.819726\n",
       " 4    0.813108\n",
       " 5    0.783236\n",
       " 6    0.806609\n",
       " dtype: float64)"
      ]
     },
     "execution_count": 40,
     "metadata": {},
     "output_type": "execute_result"
    }
   ],
   "source": [
    "dns[:5], err_dns[:5]"
   ]
  },
  {
   "cell_type": "code",
   "execution_count": 41,
   "metadata": {},
   "outputs": [
    {
     "data": {
      "text/plain": [
       "0.26549009525098716"
      ]
     },
     "execution_count": 41,
     "metadata": {},
     "output_type": "execute_result"
    }
   ],
   "source": [
    "np.mean(err_dns/dns)"
   ]
  },
  {
   "cell_type": "markdown",
   "metadata": {},
   "source": [
    "Writing to the dataframe:"
   ]
  },
  {
   "cell_type": "code",
   "execution_count": 42,
   "metadata": {},
   "outputs": [],
   "source": [
    "data['bns_rate'] = dns\n",
    "data['err_dns_rate'] = err_dns"
   ]
  },
  {
   "cell_type": "markdown",
   "metadata": {},
   "source": [
    "### Histograms of the merger rate (and comparision with the stellar mass):"
   ]
  },
  {
   "cell_type": "code",
   "execution_count": 43,
   "metadata": {
    "scrolled": false
   },
   "outputs": [
    {
     "data": {
      "image/png": "[encoded data removed]",
      "text/plain": [
       "<Figure size 800x500 with 1 Axes>"
      ]
     },
     "metadata": {},
     "output_type": "display_data"
    }
   ],
   "source": [
    "# form the figure:\n",
    "hist_form()\n",
    "plt.ylim( 1e-1, 1e7)\n",
    "plt.xlabel('merger rate')\n",
    "\n",
    "# make and plot histograms:\n",
    "freq, bins = np.histogram( dns, bins=100 )\n",
    "plt.scatter( bins[:-1], freq,  marker = '+', lw = 1, s = 50, color = 'blue' ) \n",
    "\n",
    "plt.grid()"
   ]
  },
  {
   "cell_type": "code",
   "execution_count": 44,
   "metadata": {
    "scrolled": false
   },
   "outputs": [
    {
     "data": {
      "image/png": "[encoded data removed]",
      "text/plain": [
       "<Figure size 800x500 with 1 Axes>"
      ]
     },
     "metadata": {},
     "output_type": "display_data"
    }
   ],
   "source": [
    "# form the figure:\n",
    "hist_form()\n",
    "plt.ylim( 1e-1, 1e7)\n",
    "\n",
    "# make and plot histograms:\n",
    "freq, bins = np.histogram( np.log10(data_merger.SMass), bins=100 )\n",
    "plt.scatter( bins[:-1], freq,  marker = '+', lw = 1, s = 50, color = 'blue' ) \n",
    "\n",
    "plt.grid()"
   ]
  },
  {
   "cell_type": "code",
   "execution_count": 45,
   "metadata": {
    "scrolled": false
   },
   "outputs": [
    {
     "data": {
      "image/png": "[encoded data removed]",
      "text/plain": [
       "<Figure size 800x500 with 1 Axes>"
      ]
     },
     "metadata": {},
     "output_type": "display_data"
    }
   ],
   "source": [
    "# form the figure:\n",
    "hist_form()\n",
    "plt.yscale('linear')\n",
    "plt.autoscale()\n",
    "plt.xlabel('merger rate')\n",
    "\n",
    "# make and plot histograms:\n",
    "freq, bins = np.histogram( dns, bins=100 )\n",
    "plt.scatter( bins[:-1], freq,  marker = '^', lw = 1, s = 25, color = 'blue' ) \n",
    "\n",
    "plt.grid()"
   ]
  },
  {
   "cell_type": "code",
   "execution_count": 46,
   "metadata": {
    "scrolled": false
   },
   "outputs": [
    {
     "data": {
      "image/png": "[encoded data removed]",
      "text/plain": [
       "<Figure size 800x500 with 1 Axes>"
      ]
     },
     "metadata": {},
     "output_type": "display_data"
    }
   ],
   "source": [
    "# form the figure:\n",
    "hist_form()\n",
    "plt.yscale('linear')\n",
    "plt.autoscale()\n",
    "\n",
    "# make and plot histograms:\n",
    "freq, bins = np.histogram( np.log10(data_merger.SMass), bins=100 )\n",
    "plt.scatter( bins[:-1], freq,  marker = '^', lw = 1, s = 25, color = 'blue' ) \n",
    "\n",
    "plt.grid()"
   ]
  },
  {
   "cell_type": "code",
   "execution_count": 47,
   "metadata": {
    "scrolled": false
   },
   "outputs": [
    {
     "data": {
      "image/png": "[encoded data removed]",
      "text/plain": [
       "<Figure size 800x500 with 1 Axes>"
      ]
     },
     "metadata": {},
     "output_type": "display_data"
    }
   ],
   "source": [
    "# form the figure:\n",
    "hist_form()\n",
    "plt.ylim( 1e-1, 1e7)\n",
    "plt.xlabel('Relative error of merger rate')\n",
    "\n",
    "# make and plot histograms:\n",
    "freq, bins = np.histogram( err_dns/dns, bins=100 )\n",
    "plt.scatter( bins[:-1], freq,  marker = '+', lw = 1, s = 50, color = 'magenta' ) \n",
    "\n",
    "plt.grid()"
   ]
  },
  {
   "cell_type": "markdown",
   "metadata": {},
   "source": [
    "### Writing data to csv:"
   ]
  },
  {
   "cell_type": "code",
   "execution_count": 48,
   "metadata": {},
   "outputs": [],
   "source": [
    "data.to_csv( 'original_columns_big.txt',\n",
    "            columns = [ 'gal_type', 'SMass', 'err_SMass', \n",
    "                       'bns_rate', 'err_dns_rate' ],\n",
    "            header=False, index=False )"
   ]
  },
  {
   "cell_type": "markdown",
   "metadata": {},
   "source": [
    "Rounding the merger rate:"
   ]
  },
  {
   "cell_type": "code",
   "execution_count": 49,
   "metadata": {},
   "outputs": [],
   "source": [
    "data['bns_rate_rounded'] = np.round(data.bns_rate, 1)\n",
    "data['err_bns_rate_rounded'] = np.round(data.err_dns_rate, 1)"
   ]
  },
  {
   "cell_type": "code",
   "execution_count": 50,
   "metadata": {
    "scrolled": true
   },
   "outputs": [
    {
     "data": {
      "text/html": [
       "<div>\n",
       "<style scoped>\n",
       "    .dataframe tbody tr th:only-of-type {\n",
       "        vertical-align: middle;\n",
       "    }\n",
       "\n",
       "    .dataframe tbody tr th {\n",
       "        vertical-align: top;\n",
       "    }\n",
       "\n",
       "    .dataframe thead th {\n",
       "        text-align: right;\n",
       "    }\n",
       "</style>\n",
       "<table border=\"1\" class=\"dataframe\">\n",
       "  <thead>\n",
       "    <tr style=\"text-align: right;\">\n",
       "      <th></th>\n",
       "      <th>GWGC</th>\n",
       "      <th>Hyp</th>\n",
       "      <th>2MASS</th>\n",
       "      <th>wiseX</th>\n",
       "      <th>type</th>\n",
       "      <th>ra</th>\n",
       "      <th>dec</th>\n",
       "      <th>W1</th>\n",
       "      <th>W1_err</th>\n",
       "      <th>z</th>\n",
       "      <th>...</th>\n",
       "      <th>SMass</th>\n",
       "      <th>err_SMass</th>\n",
       "      <th>SMass_round</th>\n",
       "      <th>err_SMass_round</th>\n",
       "      <th>SMass_final</th>\n",
       "      <th>err_SMass_final</th>\n",
       "      <th>bns_rate</th>\n",
       "      <th>err_dns_rate</th>\n",
       "      <th>bns_rate_rounded</th>\n",
       "      <th>err_bns_rate_rounded</th>\n",
       "    </tr>\n",
       "  </thead>\n",
       "  <tbody>\n",
       "    <tr>\n",
       "      <th>1</th>\n",
       "      <td>NGC4548</td>\n",
       "      <td>NGC4548</td>\n",
       "      <td>12352642+1429467</td>\n",
       "      <td>J123526.45+142946.9</td>\n",
       "      <td>G</td>\n",
       "      <td>188.860123</td>\n",
       "      <td>14.496320</td>\n",
       "      <td>9.416000</td>\n",
       "      <td>NaN</td>\n",
       "      <td>0.004120</td>\n",
       "      <td>...</td>\n",
       "      <td>3.357468e+09</td>\n",
       "      <td>1.566993e+09</td>\n",
       "      <td>3.000000e+09</td>\n",
       "      <td>2.000000e+09</td>\n",
       "      <td>0.30</td>\n",
       "      <td>0.20</td>\n",
       "      <td>3.734914</td>\n",
       "      <td>0.826742</td>\n",
       "      <td>3.7</td>\n",
       "      <td>0.8</td>\n",
       "    </tr>\n",
       "    <tr>\n",
       "      <th>3</th>\n",
       "      <td>NGC4442</td>\n",
       "      <td>NGC4442</td>\n",
       "      <td>12280389+0948130</td>\n",
       "      <td>J122803.90+094813.3</td>\n",
       "      <td>G</td>\n",
       "      <td>187.016220</td>\n",
       "      <td>9.803620</td>\n",
       "      <td>8.476000</td>\n",
       "      <td>NaN</td>\n",
       "      <td>0.003557</td>\n",
       "      <td>...</td>\n",
       "      <td>6.801542e+09</td>\n",
       "      <td>9.432673e+08</td>\n",
       "      <td>6.800000e+09</td>\n",
       "      <td>9.000000e+08</td>\n",
       "      <td>0.68</td>\n",
       "      <td>0.09</td>\n",
       "      <td>4.087498</td>\n",
       "      <td>0.819726</td>\n",
       "      <td>4.1</td>\n",
       "      <td>0.8</td>\n",
       "    </tr>\n",
       "    <tr>\n",
       "      <th>4</th>\n",
       "      <td>NGC4469</td>\n",
       "      <td>NGC4469</td>\n",
       "      <td>NaN</td>\n",
       "      <td>J122928.05+084500.8</td>\n",
       "      <td>G</td>\n",
       "      <td>187.367000</td>\n",
       "      <td>8.749890</td>\n",
       "      <td>9.784000</td>\n",
       "      <td>NaN</td>\n",
       "      <td>0.004139</td>\n",
       "      <td>...</td>\n",
       "      <td>2.187268e+09</td>\n",
       "      <td>1.021905e+09</td>\n",
       "      <td>2.000000e+09</td>\n",
       "      <td>1.000000e+09</td>\n",
       "      <td>0.20</td>\n",
       "      <td>0.10</td>\n",
       "      <td>3.520887</td>\n",
       "      <td>0.813108</td>\n",
       "      <td>3.5</td>\n",
       "      <td>0.8</td>\n",
       "    </tr>\n",
       "    <tr>\n",
       "      <th>5</th>\n",
       "      <td>NGC4586</td>\n",
       "      <td>NGC4586</td>\n",
       "      <td>12382843+0419087</td>\n",
       "      <td>J123828.39+041909</td>\n",
       "      <td>G</td>\n",
       "      <td>189.618484</td>\n",
       "      <td>4.319099</td>\n",
       "      <td>10.055000</td>\n",
       "      <td>NaN</td>\n",
       "      <td>0.003320</td>\n",
       "      <td>...</td>\n",
       "      <td>8.492456e+08</td>\n",
       "      <td>3.980622e+08</td>\n",
       "      <td>8.000000e+08</td>\n",
       "      <td>4.000000e+08</td>\n",
       "      <td>0.08</td>\n",
       "      <td>0.04</td>\n",
       "      <td>3.048388</td>\n",
       "      <td>0.783236</td>\n",
       "      <td>3.0</td>\n",
       "      <td>0.8</td>\n",
       "    </tr>\n",
       "    <tr>\n",
       "      <th>6</th>\n",
       "      <td>NGC4440</td>\n",
       "      <td>NGC4440</td>\n",
       "      <td>12275357+1217354</td>\n",
       "      <td>J122753.56+121735.8</td>\n",
       "      <td>G</td>\n",
       "      <td>186.973221</td>\n",
       "      <td>12.293191</td>\n",
       "      <td>9.872000</td>\n",
       "      <td>NaN</td>\n",
       "      <td>0.004340</td>\n",
       "      <td>...</td>\n",
       "      <td>4.641399e+09</td>\n",
       "      <td>6.005126e+08</td>\n",
       "      <td>4.600000e+09</td>\n",
       "      <td>6.000000e+08</td>\n",
       "      <td>0.46</td>\n",
       "      <td>0.06</td>\n",
       "      <td>3.896646</td>\n",
       "      <td>0.806609</td>\n",
       "      <td>3.9</td>\n",
       "      <td>0.8</td>\n",
       "    </tr>\n",
       "    <tr>\n",
       "      <th>...</th>\n",
       "      <td>...</td>\n",
       "      <td>...</td>\n",
       "      <td>...</td>\n",
       "      <td>...</td>\n",
       "      <td>...</td>\n",
       "      <td>...</td>\n",
       "      <td>...</td>\n",
       "      <td>...</td>\n",
       "      <td>...</td>\n",
       "      <td>...</td>\n",
       "      <td>...</td>\n",
       "      <td>...</td>\n",
       "      <td>...</td>\n",
       "      <td>...</td>\n",
       "      <td>...</td>\n",
       "      <td>...</td>\n",
       "      <td>...</td>\n",
       "      <td>...</td>\n",
       "      <td>...</td>\n",
       "      <td>...</td>\n",
       "      <td>...</td>\n",
       "    </tr>\n",
       "    <tr>\n",
       "      <th>22430656</th>\n",
       "      <td>NaN</td>\n",
       "      <td>SDSSJ235636.99+010408.5</td>\n",
       "      <td>NaN</td>\n",
       "      <td>J235636.99+010409</td>\n",
       "      <td>G</td>\n",
       "      <td>359.154000</td>\n",
       "      <td>1.069020</td>\n",
       "      <td>15.659000</td>\n",
       "      <td>0.050</td>\n",
       "      <td>0.071254</td>\n",
       "      <td>...</td>\n",
       "      <td>3.900635e+09</td>\n",
       "      <td>4.189299e+09</td>\n",
       "      <td>4.000000e+09</td>\n",
       "      <td>4.000000e+09</td>\n",
       "      <td>0.40</td>\n",
       "      <td>0.40</td>\n",
       "      <td>3.809806</td>\n",
       "      <td>0.961696</td>\n",
       "      <td>3.8</td>\n",
       "      <td>1.0</td>\n",
       "    </tr>\n",
       "    <tr>\n",
       "      <th>22430814</th>\n",
       "      <td>ABELL2671:[SBM98]J2354+0522</td>\n",
       "      <td>ABELL2671:[SBM98]J2354+0522</td>\n",
       "      <td>NaN</td>\n",
       "      <td>J235442.78+052254.1</td>\n",
       "      <td>G</td>\n",
       "      <td>358.678000</td>\n",
       "      <td>5.381840</td>\n",
       "      <td>14.040000</td>\n",
       "      <td>0.028</td>\n",
       "      <td>0.010848</td>\n",
       "      <td>...</td>\n",
       "      <td>4.666588e+08</td>\n",
       "      <td>2.796180e+08</td>\n",
       "      <td>5.000000e+08</td>\n",
       "      <td>3.000000e+08</td>\n",
       "      <td>0.05</td>\n",
       "      <td>0.03</td>\n",
       "      <td>2.749349</td>\n",
       "      <td>0.786719</td>\n",
       "      <td>2.7</td>\n",
       "      <td>0.8</td>\n",
       "    </tr>\n",
       "    <tr>\n",
       "      <th>22430853</th>\n",
       "      <td>NaN</td>\n",
       "      <td>AGC335023</td>\n",
       "      <td>NaN</td>\n",
       "      <td>J235415.87+063405.6</td>\n",
       "      <td>G</td>\n",
       "      <td>358.566000</td>\n",
       "      <td>6.567780</td>\n",
       "      <td>16.058001</td>\n",
       "      <td>0.062</td>\n",
       "      <td>0.049403</td>\n",
       "      <td>...</td>\n",
       "      <td>1.318245e+09</td>\n",
       "      <td>1.942673e+09</td>\n",
       "      <td>1.000000e+09</td>\n",
       "      <td>2.000000e+09</td>\n",
       "      <td>0.10</td>\n",
       "      <td>0.20</td>\n",
       "      <td>3.267996</td>\n",
       "      <td>1.059449</td>\n",
       "      <td>3.3</td>\n",
       "      <td>1.1</td>\n",
       "    </tr>\n",
       "    <tr>\n",
       "      <th>22430891</th>\n",
       "      <td>NaN</td>\n",
       "      <td>AGC335024</td>\n",
       "      <td>NaN</td>\n",
       "      <td>J235507.69+074122.7</td>\n",
       "      <td>G</td>\n",
       "      <td>358.782000</td>\n",
       "      <td>7.689170</td>\n",
       "      <td>15.158000</td>\n",
       "      <td>0.038</td>\n",
       "      <td>0.039533</td>\n",
       "      <td>...</td>\n",
       "      <td>2.128566e+09</td>\n",
       "      <td>3.685834e+09</td>\n",
       "      <td>2.000000e+09</td>\n",
       "      <td>4.000000e+09</td>\n",
       "      <td>0.20</td>\n",
       "      <td>0.40</td>\n",
       "      <td>3.507300</td>\n",
       "      <td>1.163278</td>\n",
       "      <td>3.5</td>\n",
       "      <td>1.2</td>\n",
       "    </tr>\n",
       "    <tr>\n",
       "      <th>22430981</th>\n",
       "      <td>NaN</td>\n",
       "      <td>SDSSJ235350.71+105307.2</td>\n",
       "      <td>NaN</td>\n",
       "      <td>J235350.69+105307</td>\n",
       "      <td>G</td>\n",
       "      <td>358.461000</td>\n",
       "      <td>10.885340</td>\n",
       "      <td>13.910000</td>\n",
       "      <td>0.028</td>\n",
       "      <td>0.073471</td>\n",
       "      <td>...</td>\n",
       "      <td>2.070741e+10</td>\n",
       "      <td>2.170492e+10</td>\n",
       "      <td>2.000000e+10</td>\n",
       "      <td>2.000000e+10</td>\n",
       "      <td>2.00</td>\n",
       "      <td>2.00</td>\n",
       "      <td>4.643545</td>\n",
       "      <td>1.001775</td>\n",
       "      <td>4.6</td>\n",
       "      <td>1.0</td>\n",
       "    </tr>\n",
       "  </tbody>\n",
       "</table>\n",
       "<p>3156544 rows × 26 columns</p>\n",
       "</div>"
      ],
      "text/plain": [
       "                                 GWGC                          Hyp  \\\n",
       "1                             NGC4548                      NGC4548   \n",
       "3                             NGC4442                      NGC4442   \n",
       "4                             NGC4469                      NGC4469   \n",
       "5                             NGC4586                      NGC4586   \n",
       "6                             NGC4440                      NGC4440   \n",
       "...                               ...                          ...   \n",
       "22430656                          NaN      SDSSJ235636.99+010408.5   \n",
       "22430814  ABELL2671:[SBM98]J2354+0522  ABELL2671:[SBM98]J2354+0522   \n",
       "22430853                          NaN                    AGC335023   \n",
       "22430891                          NaN                    AGC335024   \n",
       "22430981                          NaN      SDSSJ235350.71+105307.2   \n",
       "\n",
       "                     2MASS                wiseX type          ra        dec  \\\n",
       "1         12352642+1429467  J123526.45+142946.9    G  188.860123  14.496320   \n",
       "3         12280389+0948130  J122803.90+094813.3    G  187.016220   9.803620   \n",
       "4                      NaN  J122928.05+084500.8    G  187.367000   8.749890   \n",
       "5         12382843+0419087    J123828.39+041909    G  189.618484   4.319099   \n",
       "6         12275357+1217354  J122753.56+121735.8    G  186.973221  12.293191   \n",
       "...                    ...                  ...  ...         ...        ...   \n",
       "22430656               NaN    J235636.99+010409    G  359.154000   1.069020   \n",
       "22430814               NaN  J235442.78+052254.1    G  358.678000   5.381840   \n",
       "22430853               NaN  J235415.87+063405.6    G  358.566000   6.567780   \n",
       "22430891               NaN  J235507.69+074122.7    G  358.782000   7.689170   \n",
       "22430981               NaN    J235350.69+105307    G  358.461000  10.885340   \n",
       "\n",
       "                 W1  W1_err         z  ...         SMass     err_SMass  \\\n",
       "1          9.416000     NaN  0.004120  ...  3.357468e+09  1.566993e+09   \n",
       "3          8.476000     NaN  0.003557  ...  6.801542e+09  9.432673e+08   \n",
       "4          9.784000     NaN  0.004139  ...  2.187268e+09  1.021905e+09   \n",
       "5         10.055000     NaN  0.003320  ...  8.492456e+08  3.980622e+08   \n",
       "6          9.872000     NaN  0.004340  ...  4.641399e+09  6.005126e+08   \n",
       "...             ...     ...       ...  ...           ...           ...   \n",
       "22430656  15.659000   0.050  0.071254  ...  3.900635e+09  4.189299e+09   \n",
       "22430814  14.040000   0.028  0.010848  ...  4.666588e+08  2.796180e+08   \n",
       "22430853  16.058001   0.062  0.049403  ...  1.318245e+09  1.942673e+09   \n",
       "22430891  15.158000   0.038  0.039533  ...  2.128566e+09  3.685834e+09   \n",
       "22430981  13.910000   0.028  0.073471  ...  2.070741e+10  2.170492e+10   \n",
       "\n",
       "           SMass_round  err_SMass_round  SMass_final  err_SMass_final  \\\n",
       "1         3.000000e+09     2.000000e+09         0.30             0.20   \n",
       "3         6.800000e+09     9.000000e+08         0.68             0.09   \n",
       "4         2.000000e+09     1.000000e+09         0.20             0.10   \n",
       "5         8.000000e+08     4.000000e+08         0.08             0.04   \n",
       "6         4.600000e+09     6.000000e+08         0.46             0.06   \n",
       "...                ...              ...          ...              ...   \n",
       "22430656  4.000000e+09     4.000000e+09         0.40             0.40   \n",
       "22430814  5.000000e+08     3.000000e+08         0.05             0.03   \n",
       "22430853  1.000000e+09     2.000000e+09         0.10             0.20   \n",
       "22430891  2.000000e+09     4.000000e+09         0.20             0.40   \n",
       "22430981  2.000000e+10     2.000000e+10         2.00             2.00   \n",
       "\n",
       "          bns_rate  err_dns_rate  bns_rate_rounded  err_bns_rate_rounded  \n",
       "1         3.734914      0.826742               3.7                   0.8  \n",
       "3         4.087498      0.819726               4.1                   0.8  \n",
       "4         3.520887      0.813108               3.5                   0.8  \n",
       "5         3.048388      0.783236               3.0                   0.8  \n",
       "6         3.896646      0.806609               3.9                   0.8  \n",
       "...            ...           ...               ...                   ...  \n",
       "22430656  3.809806      0.961696               3.8                   1.0  \n",
       "22430814  2.749349      0.786719               2.7                   0.8  \n",
       "22430853  3.267996      1.059449               3.3                   1.1  \n",
       "22430891  3.507300      1.163278               3.5                   1.2  \n",
       "22430981  4.643545      1.001775               4.6                   1.0  \n",
       "\n",
       "[3156544 rows x 26 columns]"
      ]
     },
     "execution_count": 50,
     "metadata": {},
     "output_type": "execute_result"
    }
   ],
   "source": [
    "data[~np.isnan(data.bns_rate)]"
   ]
  },
  {
   "cell_type": "code",
   "execution_count": 51,
   "metadata": {
    "scrolled": false
   },
   "outputs": [],
   "source": [
    "data.to_csv( 'to_GLADE_columns_big.txt',\n",
    "            columns = [ 'gal_type', 'SMass_final', 'err_SMass_final', \n",
    "                       'bns_rate_rounded', 'err_bns_rate_rounded' ],\n",
    "            header=False, index=False )"
   ]
  }
 ],
 "metadata": {
  "kernelspec": {
   "display_name": "Python 3 (ipykernel)",
   "language": "python",
   "name": "python3"
  },
  "language_info": {
   "codemirror_mode": {
    "name": "ipython",
    "version": 3
   },
   "file_extension": ".py",
   "mimetype": "text/x-python",
   "name": "python",
   "nbconvert_exporter": "python",
   "pygments_lexer": "ipython3",
   "version": "3.8.10"
  }
 },
 "nbformat": 4,
 "nbformat_minor": 4
}
