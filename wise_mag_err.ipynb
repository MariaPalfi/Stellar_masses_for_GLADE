{
 "cells": [
  {
   "cell_type": "code",
   "execution_count": 1,
   "metadata": {},
   "outputs": [],
   "source": [
    "# importing useful packages\n",
    "import numpy as np\n",
    "import matplotlib.pyplot as plt\n",
    "import pandas as pd\n",
    "import seaborn as sns\n",
    "plt.style.use('seaborn-white')"
   ]
  },
  {
   "cell_type": "markdown",
   "metadata": {},
   "source": [
    "## Writing out WISE W1 and W2 magnitude errors"
   ]
  },
  {
   "cell_type": "markdown",
   "metadata": {},
   "source": [
    "### Columns of 'wiseScosSvm':\n",
    "\n",
    "'wiseX', 'wiseID', 'scosID', 'cx', 'cy', 'cz', 'htmID', 'ra', 'dec',\n",
    "'ebv', 'w1mCorr', 'w1mCorrErr', 'w2mCorr', 'w2mCorrErr', 'bCalCorr',\n",
    "'bCalCorrErr', 'rCalCorr', 'rCalCorrErr', 'zPhoto_ANN', 'zPhoto_Corr',\n",
    "'fromAllSky', 'SVMClass', 'probGal', 'probStar', 'probQso',\n",
    "'inPhotozCat'"
   ]
  },
  {
   "cell_type": "markdown",
   "metadata": {},
   "source": [
    "**Reading the wiseScosSvm catalog (http://ssa.roe.ac.uk/www/ssa_browser.html):**"
   ]
  },
  {
   "cell_type": "code",
   "execution_count": 2,
   "metadata": {
    "scrolled": true
   },
   "outputs": [
    {
     "data": {
      "text/html": [
       "<div>\n",
       "<style scoped>\n",
       "    .dataframe tbody tr th:only-of-type {\n",
       "        vertical-align: middle;\n",
       "    }\n",
       "\n",
       "    .dataframe tbody tr th {\n",
       "        vertical-align: top;\n",
       "    }\n",
       "\n",
       "    .dataframe thead th {\n",
       "        text-align: right;\n",
       "    }\n",
       "</style>\n",
       "<table border=\"1\" class=\"dataframe\">\n",
       "  <thead>\n",
       "    <tr style=\"text-align: right;\">\n",
       "      <th></th>\n",
       "      <th>wiseX</th>\n",
       "      <th>w1mCorr</th>\n",
       "      <th>w1mCorrErr</th>\n",
       "      <th>w2mCorr</th>\n",
       "      <th>w2mCorrErr</th>\n",
       "      <th>fromAllSky</th>\n",
       "    </tr>\n",
       "  </thead>\n",
       "  <tbody>\n",
       "    <tr>\n",
       "      <th>0</th>\n",
       "      <td>J113821.86-492730.2</td>\n",
       "      <td>15.578</td>\n",
       "      <td>0.044</td>\n",
       "      <td>15.482</td>\n",
       "      <td>0.081</td>\n",
       "      <td>0</td>\n",
       "    </tr>\n",
       "    <tr>\n",
       "      <th>1</th>\n",
       "      <td>J113829.99-492503.1</td>\n",
       "      <td>15.403</td>\n",
       "      <td>0.037</td>\n",
       "      <td>15.483</td>\n",
       "      <td>0.091</td>\n",
       "      <td>0</td>\n",
       "    </tr>\n",
       "    <tr>\n",
       "      <th>2</th>\n",
       "      <td>J113821.16-492311.9</td>\n",
       "      <td>15.139</td>\n",
       "      <td>0.036</td>\n",
       "      <td>15.176</td>\n",
       "      <td>0.066</td>\n",
       "      <td>0</td>\n",
       "    </tr>\n",
       "    <tr>\n",
       "      <th>3</th>\n",
       "      <td>J113817.76-491634.5</td>\n",
       "      <td>15.690</td>\n",
       "      <td>0.039</td>\n",
       "      <td>15.560</td>\n",
       "      <td>0.082</td>\n",
       "      <td>0</td>\n",
       "    </tr>\n",
       "    <tr>\n",
       "      <th>4</th>\n",
       "      <td>J113823.10-492513.8</td>\n",
       "      <td>15.381</td>\n",
       "      <td>0.038</td>\n",
       "      <td>15.332</td>\n",
       "      <td>0.083</td>\n",
       "      <td>0</td>\n",
       "    </tr>\n",
       "  </tbody>\n",
       "</table>\n",
       "</div>"
      ],
      "text/plain": [
       "                    wiseX  w1mCorr  w1mCorrErr  w2mCorr  w2mCorrErr  \\\n",
       "0     J113821.86-492730.2   15.578       0.044   15.482       0.081   \n",
       "1     J113829.99-492503.1   15.403       0.037   15.483       0.091   \n",
       "2     J113821.16-492311.9   15.139       0.036   15.176       0.066   \n",
       "3     J113817.76-491634.5   15.690       0.039   15.560       0.082   \n",
       "4     J113823.10-492513.8   15.381       0.038   15.332       0.083   \n",
       "\n",
       "   fromAllSky  \n",
       "0           0  \n",
       "1           0  \n",
       "2           0  \n",
       "3           0  \n",
       "4           0  "
      ]
     },
     "execution_count": 2,
     "metadata": {},
     "output_type": "execute_result"
    }
   ],
   "source": [
    "wxs = pd.read_csv( 'wiseScosSvm.csv', usecols = [ 'wiseX', 'w1mCorr', 'w1mCorrErr', \n",
    "                                                 'w2mCorr', 'w2mCorrErr', 'fromAllSky' ], \n",
    "                    header = 0, low_memory = False ) \n",
    "wxs.head()"
   ]
  },
  {
   "cell_type": "markdown",
   "metadata": {},
   "source": [
    "**Looking for unique ID-s:**"
   ]
  },
  {
   "cell_type": "code",
   "execution_count": 3,
   "metadata": {},
   "outputs": [],
   "source": [
    "u, c = np.unique( wxs.wiseX.values.astype(str), return_counts=True )"
   ]
  },
  {
   "cell_type": "markdown",
   "metadata": {},
   "source": [
    "The number of identical ID-s:"
   ]
  },
  {
   "cell_type": "code",
   "execution_count": 4,
   "metadata": {},
   "outputs": [
    {
     "data": {
      "text/plain": [
       "24675"
      ]
     },
     "execution_count": 4,
     "metadata": {},
     "output_type": "execute_result"
    }
   ],
   "source": [
    "(c > 1).sum()"
   ]
  },
  {
   "cell_type": "markdown",
   "metadata": {},
   "source": [
    "**Converting the ID-s to integers to speed up the code:**"
   ]
  },
  {
   "cell_type": "code",
   "execution_count": 5,
   "metadata": {},
   "outputs": [],
   "source": [
    "id_to_int = dict( zip( wxs.wiseX.values.astype(str), np.arange(wxs.shape[0]) ) )"
   ]
  },
  {
   "cell_type": "markdown",
   "metadata": {},
   "source": [
    "fromAllSky: Is the WISE designation from the wise_allskysc catalogue 0 NO/1 YES"
   ]
  },
  {
   "cell_type": "code",
   "execution_count": 6,
   "metadata": {},
   "outputs": [],
   "source": [
    "wxs_0 = wxs[ wxs.fromAllSky.values == 0 ]\n",
    "wxs_1 = wxs[ wxs.fromAllSky.values == 1 ]"
   ]
  },
  {
   "cell_type": "markdown",
   "metadata": {},
   "source": [
    "**Giving the integer ID-s:**"
   ]
  },
  {
   "cell_type": "code",
   "execution_count": 7,
   "metadata": {
    "scrolled": true
   },
   "outputs": [
    {
     "name": "stderr",
     "output_type": "stream",
     "text": [
      "/home/marika/.local/lib/python3.6/site-packages/ipykernel_launcher.py:1: SettingWithCopyWarning: \n",
      "A value is trying to be set on a copy of a slice from a DataFrame.\n",
      "Try using .loc[row_indexer,col_indexer] = value instead\n",
      "\n",
      "See the caveats in the documentation: https://pandas.pydata.org/pandas-docs/stable/user_guide/indexing.html#returning-a-view-versus-a-copy\n",
      "  \"\"\"Entry point for launching an IPython kernel.\n"
     ]
    }
   ],
   "source": [
    "wxs_0['id'] = [ id_to_int[i] for i in wxs_0.wiseX.values ]"
   ]
  },
  {
   "cell_type": "code",
   "execution_count": 8,
   "metadata": {},
   "outputs": [
    {
     "name": "stderr",
     "output_type": "stream",
     "text": [
      "/home/marika/.local/lib/python3.6/site-packages/ipykernel_launcher.py:1: SettingWithCopyWarning: \n",
      "A value is trying to be set on a copy of a slice from a DataFrame.\n",
      "Try using .loc[row_indexer,col_indexer] = value instead\n",
      "\n",
      "See the caveats in the documentation: https://pandas.pydata.org/pandas-docs/stable/user_guide/indexing.html#returning-a-view-versus-a-copy\n",
      "  \"\"\"Entry point for launching an IPython kernel.\n"
     ]
    }
   ],
   "source": [
    "wxs_1['id'] = [ id_to_int[i] for i in wxs_1.wiseX.values ]"
   ]
  },
  {
   "cell_type": "markdown",
   "metadata": {},
   "source": [
    "Lengths:"
   ]
  },
  {
   "cell_type": "code",
   "execution_count": 9,
   "metadata": {
    "scrolled": false
   },
   "outputs": [
    {
     "data": {
      "text/plain": [
       "(38374666, 1441454)"
      ]
     },
     "execution_count": 9,
     "metadata": {},
     "output_type": "execute_result"
    }
   ],
   "source": [
    "wxs_0.shape[0], wxs_1.shape[0]"
   ]
  },
  {
   "cell_type": "markdown",
   "metadata": {},
   "source": [
    "**If we cannot find the galaxy in the AllWISE catalog, we use the data from the AllSky catalog.**"
   ]
  },
  {
   "cell_type": "code",
   "execution_count": 10,
   "metadata": {},
   "outputs": [
    {
     "data": {
      "text/html": [
       "<div>\n",
       "<style scoped>\n",
       "    .dataframe tbody tr th:only-of-type {\n",
       "        vertical-align: middle;\n",
       "    }\n",
       "\n",
       "    .dataframe tbody tr th {\n",
       "        vertical-align: top;\n",
       "    }\n",
       "\n",
       "    .dataframe thead th {\n",
       "        text-align: right;\n",
       "    }\n",
       "</style>\n",
       "<table border=\"1\" class=\"dataframe\">\n",
       "  <thead>\n",
       "    <tr style=\"text-align: right;\">\n",
       "      <th></th>\n",
       "      <th>wiseX</th>\n",
       "      <th>w1mCorr</th>\n",
       "      <th>w1mCorrErr</th>\n",
       "      <th>w2mCorr</th>\n",
       "      <th>w2mCorrErr</th>\n",
       "      <th>fromAllSky</th>\n",
       "    </tr>\n",
       "  </thead>\n",
       "  <tbody>\n",
       "    <tr>\n",
       "      <th>0</th>\n",
       "      <td>J113821.86-492730.2</td>\n",
       "      <td>15.578</td>\n",
       "      <td>0.044</td>\n",
       "      <td>15.482</td>\n",
       "      <td>0.081</td>\n",
       "      <td>0</td>\n",
       "    </tr>\n",
       "    <tr>\n",
       "      <th>1</th>\n",
       "      <td>J113829.99-492503.1</td>\n",
       "      <td>15.403</td>\n",
       "      <td>0.037</td>\n",
       "      <td>15.483</td>\n",
       "      <td>0.091</td>\n",
       "      <td>0</td>\n",
       "    </tr>\n",
       "    <tr>\n",
       "      <th>2</th>\n",
       "      <td>J113821.16-492311.9</td>\n",
       "      <td>15.139</td>\n",
       "      <td>0.036</td>\n",
       "      <td>15.176</td>\n",
       "      <td>0.066</td>\n",
       "      <td>0</td>\n",
       "    </tr>\n",
       "    <tr>\n",
       "      <th>3</th>\n",
       "      <td>J113817.76-491634.5</td>\n",
       "      <td>15.69</td>\n",
       "      <td>0.039</td>\n",
       "      <td>15.56</td>\n",
       "      <td>0.082</td>\n",
       "      <td>0</td>\n",
       "    </tr>\n",
       "    <tr>\n",
       "      <th>4</th>\n",
       "      <td>J113823.10-492513.8</td>\n",
       "      <td>15.381</td>\n",
       "      <td>0.038</td>\n",
       "      <td>15.332</td>\n",
       "      <td>0.083</td>\n",
       "      <td>0</td>\n",
       "    </tr>\n",
       "  </tbody>\n",
       "</table>\n",
       "</div>"
      ],
      "text/plain": [
       "                    wiseX w1mCorr w1mCorrErr w2mCorr w2mCorrErr fromAllSky\n",
       "0     J113821.86-492730.2  15.578      0.044  15.482      0.081          0\n",
       "1     J113829.99-492503.1  15.403      0.037  15.483      0.091          0\n",
       "2     J113821.16-492311.9  15.139      0.036  15.176      0.066          0\n",
       "3     J113817.76-491634.5   15.69      0.039   15.56      0.082          0\n",
       "4     J113823.10-492513.8  15.381      0.038  15.332      0.083          0"
      ]
     },
     "execution_count": 10,
     "metadata": {},
     "output_type": "execute_result"
    }
   ],
   "source": [
    "wxs_new = pd.DataFrame( np.concatenate( ( wxs_0.values[:,:-1], wxs_1[ ~np.in1d( wxs_1.id.values, wxs_0.id.values) ].values[:,:-1] ), axis=0 ), \n",
    "              columns=['wiseX', 'w1mCorr', 'w1mCorrErr', 'w2mCorr', 'w2mCorrErr', 'fromAllSky'])\n",
    "wxs_new.head()"
   ]
  },
  {
   "cell_type": "markdown",
   "metadata": {},
   "source": [
    "How many galaxies do we have?"
   ]
  },
  {
   "cell_type": "code",
   "execution_count": 11,
   "metadata": {
    "scrolled": true
   },
   "outputs": [
    {
     "data": {
      "text/plain": [
       "39791445"
      ]
     },
     "execution_count": 11,
     "metadata": {},
     "output_type": "execute_result"
    }
   ],
   "source": [
    "len(wxs_new)"
   ]
  },
  {
   "cell_type": "markdown",
   "metadata": {},
   "source": [
    "**Writing the results to a txt file:**"
   ]
  },
  {
   "cell_type": "code",
   "execution_count": 12,
   "metadata": {},
   "outputs": [],
   "source": [
    "# write out data\n",
    "f_out = 'wise_err.txt'\n",
    "wxs_new.to_csv( f_out, sep = '\\t', mode = 'w', header = True, index = False )"
   ]
  }
 ],
 "metadata": {
  "kernelspec": {
   "display_name": "Python 3",
   "language": "python",
   "name": "python3"
  },
  "language_info": {
   "codemirror_mode": {
    "name": "ipython",
    "version": 3
   },
   "file_extension": ".py",
   "mimetype": "text/x-python",
   "name": "python",
   "nbconvert_exporter": "python",
   "pygments_lexer": "ipython3",
   "version": "3.6.9"
  }
 },
 "nbformat": 4,
 "nbformat_minor": 4
}
